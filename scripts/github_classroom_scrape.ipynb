{
 "cells": [
  {
   "cell_type": "markdown",
   "metadata": {},
   "source": [
    "## 1. Imports"
   ]
  },
  {
   "cell_type": "code",
   "execution_count": 2,
   "metadata": {},
   "outputs": [],
   "source": [
    "import os\n",
    "import pandas as pd\n",
    "import progressbar as pbar\n",
    "from credentials import username, password\n",
    "from github import Github"
   ]
  },
  {
   "cell_type": "markdown",
   "metadata": {},
   "source": [
    "## 2. Github authentication\n",
    "\n",
    "Importing login details for Github from different file for security reasons. The credentitals file is a Python script and has to be located in the /scripts directory. The file consists of two functions - username() and password() where each of the functions has to return only the username and password as a string."
   ]
  },
  {
   "cell_type": "code",
   "execution_count": 3,
   "metadata": {},
   "outputs": [],
   "source": [
    "g = Github(username(), password())  # credentials for github login\n",
    "repos = g.get_user().get_repos()  # iterable; all the repos associated with the profile incl. organizations"
   ]
  },
  {
   "cell_type": "markdown",
   "metadata": {},
   "source": [
    "## 3. Assignment and staff details\n",
    "\n",
    "A variable which is a string is needed, this will be the assignment name on Github to look for. The pair number is not included so all pairs repositories will be scraped at once. To get the pair number the length of the string is needed for indexing purposes but I want it to include the word \"pair\", so slight modification is made. Finally, a list that contains the GitHub usernames of all the staff, this is needed so the staff will be excluded as being collaborators and any commits made by the staff won't be counted in the student repositories."
   ]
  },
  {
   "cell_type": "code",
   "execution_count": 7,
   "metadata": {},
   "outputs": [],
   "source": [
    "ha_1 = '2is50-2019-2020-homework-assignment-1-pair-'  # repos to filter for; \n",
    "ha_len = len('2is50-2019-2020-homework-assignment-1-')  # will be used for retrieving pair# by indexing\n",
    "staff_ids = ['sakce', 'kvidelov', 'mackees', 'sakehl', 'thatmariia', 'wstomv', 'sansteTUe', 'HDylanTV', 'gzwaan', 'dmarinissen']"
   ]
  },
  {
   "cell_type": "markdown",
   "metadata": {},
   "source": [
    "## 4. Scraping the API\n",
    "\n",
    "### Useful commands\n",
    "\n",
    "- repo.get_commits() returns all commit logs as an iterable\n",
    "\n",
    "- repo.get_collaborators() returns all collaborators of that repo as an iterable\n",
    "\n",
    "- commit.author returns information about the commit author\n",
    "\n",
    "- commit.author.login returns the commit author username\n",
    "\n",
    "\n",
    "### 4.1. Commit Authors\n",
    "\n",
    "There are three possible author cases, the commit is made with a student account, the commit is made with a staff account or the commit is made with anonymous account. In the third case, commit.author is returning None as far as I know, in the other two cases the command will return the account. For taking just the username I am using commit.author.login which cannot be used on None though."
   ]
  },
  {
   "cell_type": "code",
   "execution_count": 22,
   "metadata": {},
   "outputs": [],
   "source": [
    "def filterCollaborators(repository):\n",
    "    \"\"\"The function filters out only the student accounts from a repository as collaborators.\"\"\"\n",
    "    \n",
    "    student_collaborators = []\n",
    "\n",
    "    for i in repository.get_collaborators():\n",
    "\n",
    "        if i.login in staff_ids:\n",
    "            pass\n",
    "        else:\n",
    "            student_collaborators.append(i.login)\n",
    "\n",
    "    return student_collaborators"
   ]
  },
  {
   "cell_type": "code",
   "execution_count": 58,
   "metadata": {},
   "outputs": [
    {
     "output_type": "stream",
     "name": "stdout",
     "text": "2020-05-14 06:00:19  Anonymous commit - Pair:  28\n2020-05-13 04:04:19  Anonymous commit - Pair:  28\n2020-05-11 07:47:32  Anonymous commit - Pair:  28\n2020-05-11 01:06:16  Anonymous commit - Pair:  28\n2020-05-06 01:45:38  Anonymous commit - Pair:  28\n2020-05-06 01:38:14  Anonymous commit - Pair:  28\n2020-05-05 02:23:00  Anonymous commit - Pair:  28\n2020-05-05 00:49:08  Anonymous commit - Pair:  28\n2020-05-04 19:26:12  Anonymous commit - Pair:  28\n2020-05-04 19:23:42  Anonymous commit - Pair:  28\n2020-05-04 19:23:37  Anonymous commit - Pair:  28\n2020-05-04 19:20:46  Anonymous commit - Pair:  28\n2020-05-04 19:17:04  Anonymous commit - Pair:  28\n2020-05-01 15:14:41  Anonymous commit - Pair:  28\n2020-05-01 14:56:41  Anonymous commit - Pair:  28\n2020-05-14 10:13:14  Anonymous commit - Pair:  29\n2020-05-14 09:11:18  Anonymous commit - Pair:  29\n2020-05-14 09:09:51  Anonymous commit - Pair:  29\n2020-05-14 08:01:18  Anonymous commit - Pair:  29\n2020-05-13 14:34:39  Anonymous commit - Pair:  29\n2020-05-13 14:05:21  Anonymous commit - Pair:  29\n2020-05-13 14:03:27  Anonymous commit - Pair:  29\n2020-05-13 13:54:02  Anonymous commit - Pair:  29\n2020-05-07 10:19:07  Anonymous commit - Pair:  29\n2020-05-04 17:55:44  Anonymous commit - Pair:  29\n2020-05-04 15:37:06  Anonymous commit - Pair:  29\n2020-05-04 11:15:19  Anonymous commit - Pair:  29\n2020-05-04 11:12:13  Anonymous commit - Pair:  29\n2020-04-30 10:41:11  Anonymous commit - Pair:  29\n2020-05-15 19:51:57  Anonymous commit - Pair:  38\n2020-05-15 18:09:01  Anonymous commit - Pair:  38\n2020-05-15 17:31:55  Anonymous commit - Pair:  38\n2020-05-14 15:58:58  Anonymous commit - Pair:  38\n2020-05-14 13:40:22  Anonymous commit - Pair:  38\n2020-05-06 17:26:55  Anonymous commit - Pair:  38\n2020-05-06 13:44:22  Anonymous commit - Pair:  38\n2020-05-06 13:43:02  Anonymous commit - Pair:  38\n2020-05-06 12:54:34  Anonymous commit - Pair:  38\n2020-05-06 12:53:12  Anonymous commit - Pair:  38\n2020-05-06 11:11:22  Anonymous commit - Pair:  38\n2020-05-16 14:14:35  Anonymous commit - Pair:  44\n2020-05-16 14:12:57  Anonymous commit - Pair:  44\n2020-05-15 13:15:32  Anonymous commit - Pair:  44\n2020-05-13 12:35:36  Anonymous commit - Pair:  44\n2020-05-06 18:41:20  Anonymous commit - Pair:  44\n2020-05-04 09:00:36  Anonymous commit - Pair:  44\n2020-05-03 10:31:40  Anonymous commit - Pair:  44\n2020-05-03 10:20:54  Anonymous commit - Pair:  44\n2020-05-03 10:15:19  Anonymous commit - Pair:  44\n2020-05-03 10:04:40  Anonymous commit - Pair:  44\n2020-05-01 14:57:02  Anonymous commit - Pair:  44\n2020-05-01 13:37:10  Anonymous commit - Pair:  44\n2020-05-01 13:09:21  Anonymous commit - Pair:  44\n2020-05-01 13:00:03  Anonymous commit - Pair:  44\n2020-05-11 12:03:10  Anonymous commit - Pair:  47\n2020-05-10 20:30:11  Anonymous commit - Pair:  47\n2020-05-10 18:18:09  Anonymous commit - Pair:  47\n2020-05-10 17:30:55  Anonymous commit - Pair:  47\n2020-05-08 15:31:36  Anonymous commit - Pair:  47\n2020-05-08 15:29:01  Anonymous commit - Pair:  47\n2020-05-07 20:38:59  Anonymous commit - Pair:  47\n2020-05-14 10:06:16  Anonymous commit - Pair:  63\n2020-05-14 09:42:02  Anonymous commit - Pair:  63\n2020-05-13 20:35:09  Anonymous commit - Pair:  63\n2020-05-06 20:27:06  Anonymous commit - Pair:  63\n2020-05-06 20:26:11  Anonymous commit - Pair:  63\n2020-05-06 20:09:53  Anonymous commit - Pair:  63\n2020-05-06 19:12:50  Anonymous commit - Pair:  63\n2020-05-06 18:56:13  Anonymous commit - Pair:  63\n2020-05-06 15:10:31  Anonymous commit - Pair:  63\n2020-05-06 09:44:21  Anonymous commit - Pair:  63\n2020-05-06 07:34:17  Anonymous commit - Pair:  63\n"
    }
   ],
   "source": [
    "pair_numb = []\n",
    "authors = []\n",
    "emails = []\n",
    "date_time = []\n",
    "commit_messages = []\n",
    "\n",
    "for repo in repos: # iterating over all repositories associated with the login account\n",
    "\n",
    "    if ha_1 in repo.name:  # filtering only the assignment repos\n",
    "\n",
    "        pair_id = int(str(repo.name)[len(ha_1):])  # getting the pair number from the repository name\n",
    "        \n",
    "        #collaborators = filterCollaborators(repo)  # getting the repo collaborators\n",
    "        commits = repo.get_commits()  # iterable that contains the logs of each commit in the repo\n",
    "        \n",
    "        for commit in commits:  \n",
    "            \n",
    "            commit_date = commit.commit.author.date  # getting the date and time of the commit\n",
    " \n",
    "\n",
    "            if commit.author == None:  # checking whether the account is anonymous\n",
    "\n",
    "                author = 'Anonymous'\n",
    "\n",
    "                pair_numb.append(pair_id)\n",
    "                date_time.append(commit_date)\n",
    "                authors.append(author)  # author username\n",
    "                emails.append(commit.commit.author.email)  # author email\n",
    "                commit_messages.append(commit.commit.message)  # commit message \n",
    "\n",
    "                print(commit_date, ' Anonymous commit - Pair: ', pair_id)\n",
    "\n",
    "            elif commit.author.login not in staff_ids:  # optimal case when the commit is by student\n",
    "\n",
    "\n",
    "                pair_numb.append(pair_id)\n",
    "                date_time.append(commit_date)\n",
    "                authors.append(commit.author.login)  # author username\n",
    "                emails.append(commit.commit.author.email)  # author email\n",
    "                commit_messages.append(commit.commit.message)  # commit message \n",
    "\n",
    "            \n",
    "            elif commit.author.login in staff_ids:  # staff commits\n",
    "                pass\n",
    "        \n",
    "\n",
    "            else:  # for anything weird that I may not be taking into account\n",
    "                print('Issue!')\n",
    "                print(commit_date, 'Pair: ', pair_id, 'Username: ', commit.author.login)\n",
    "\n",
    "\n",
    "    else:  # not an assignment repository\n",
    "        pass"
   ]
  },
  {
   "cell_type": "code",
   "execution_count": 59,
   "metadata": {},
   "outputs": [],
   "source": [
    "api_data = {'Pair': pair_numb, 'Author': authors, 'Author_Email': emails, 'Date': date_time, 'Commit_Message': commit_messages}"
   ]
  },
  {
   "cell_type": "code",
   "execution_count": 60,
   "metadata": {},
   "outputs": [
    {
     "output_type": "execute_result",
     "data": {
      "text/plain": "      Pair           Author                Author_Email                Date  \\\n0       10  GiuliaFliescher  g.fliescher@student.tue.nl 2020-05-17 13:40:17   \n1       10  GiuliaFliescher  g.fliescher@student.tue.nl 2020-05-17 13:39:51   \n2       10  GiuliaFliescher  g.fliescher@student.tue.nl 2020-05-17 13:13:38   \n3       10  GiuliaFliescher  g.fliescher@student.tue.nl 2020-05-17 13:13:06   \n4       10  GiuliaFliescher  g.fliescher@student.tue.nl 2020-05-17 13:02:50   \n...    ...              ...                         ...                 ...   \n1695    90           Loebna    loebnasabbah@hotmail.com 2020-05-05 10:54:56   \n1696    90           LinTaw    l.tawafra@student.tue.nl 2020-05-05 10:37:21   \n1697    90           LinTaw    l.tawafra@student.tue.nl 2020-05-05 10:36:19   \n1698    90           LinTaw    l.tawafra@student.tue.nl 2020-05-05 10:30:06   \n1699    90           Loebna    loebnasabbah@hotmail.com 2020-05-05 10:29:58   \n\n                                         Commit_Message  \n0                                 changed visual layout  \n1                     removed color oprions we dont use  \n2                                 unintentional changes  \n3                       tried to fix SaveImage function  \n4                                imported numba and jit  \n...                                                 ...  \n1695                                  Added name + date  \n1696                                 Contributor 2 name  \n1697  Merge remote-tracking branch 'origin/master'\\n...  \n1698                                 Contributor 2 name  \n1699                                  Added name + date  \n\n[1700 rows x 5 columns]",
      "text/html": "<div>\n<style scoped>\n    .dataframe tbody tr th:only-of-type {\n        vertical-align: middle;\n    }\n\n    .dataframe tbody tr th {\n        vertical-align: top;\n    }\n\n    .dataframe thead th {\n        text-align: right;\n    }\n</style>\n<table border=\"1\" class=\"dataframe\">\n  <thead>\n    <tr style=\"text-align: right;\">\n      <th></th>\n      <th>Pair</th>\n      <th>Author</th>\n      <th>Author_Email</th>\n      <th>Date</th>\n      <th>Commit_Message</th>\n    </tr>\n  </thead>\n  <tbody>\n    <tr>\n      <th>0</th>\n      <td>10</td>\n      <td>GiuliaFliescher</td>\n      <td>g.fliescher@student.tue.nl</td>\n      <td>2020-05-17 13:40:17</td>\n      <td>changed visual layout</td>\n    </tr>\n    <tr>\n      <th>1</th>\n      <td>10</td>\n      <td>GiuliaFliescher</td>\n      <td>g.fliescher@student.tue.nl</td>\n      <td>2020-05-17 13:39:51</td>\n      <td>removed color oprions we dont use</td>\n    </tr>\n    <tr>\n      <th>2</th>\n      <td>10</td>\n      <td>GiuliaFliescher</td>\n      <td>g.fliescher@student.tue.nl</td>\n      <td>2020-05-17 13:13:38</td>\n      <td>unintentional changes</td>\n    </tr>\n    <tr>\n      <th>3</th>\n      <td>10</td>\n      <td>GiuliaFliescher</td>\n      <td>g.fliescher@student.tue.nl</td>\n      <td>2020-05-17 13:13:06</td>\n      <td>tried to fix SaveImage function</td>\n    </tr>\n    <tr>\n      <th>4</th>\n      <td>10</td>\n      <td>GiuliaFliescher</td>\n      <td>g.fliescher@student.tue.nl</td>\n      <td>2020-05-17 13:02:50</td>\n      <td>imported numba and jit</td>\n    </tr>\n    <tr>\n      <th>...</th>\n      <td>...</td>\n      <td>...</td>\n      <td>...</td>\n      <td>...</td>\n      <td>...</td>\n    </tr>\n    <tr>\n      <th>1695</th>\n      <td>90</td>\n      <td>Loebna</td>\n      <td>loebnasabbah@hotmail.com</td>\n      <td>2020-05-05 10:54:56</td>\n      <td>Added name + date</td>\n    </tr>\n    <tr>\n      <th>1696</th>\n      <td>90</td>\n      <td>LinTaw</td>\n      <td>l.tawafra@student.tue.nl</td>\n      <td>2020-05-05 10:37:21</td>\n      <td>Contributor 2 name</td>\n    </tr>\n    <tr>\n      <th>1697</th>\n      <td>90</td>\n      <td>LinTaw</td>\n      <td>l.tawafra@student.tue.nl</td>\n      <td>2020-05-05 10:36:19</td>\n      <td>Merge remote-tracking branch 'origin/master'\\n...</td>\n    </tr>\n    <tr>\n      <th>1698</th>\n      <td>90</td>\n      <td>LinTaw</td>\n      <td>l.tawafra@student.tue.nl</td>\n      <td>2020-05-05 10:30:06</td>\n      <td>Contributor 2 name</td>\n    </tr>\n    <tr>\n      <th>1699</th>\n      <td>90</td>\n      <td>Loebna</td>\n      <td>loebnasabbah@hotmail.com</td>\n      <td>2020-05-05 10:29:58</td>\n      <td>Added name + date</td>\n    </tr>\n  </tbody>\n</table>\n<p>1700 rows × 5 columns</p>\n</div>"
     },
     "metadata": {},
     "execution_count": 60
    }
   ],
   "source": [
    "pd.DataFrame(api_data)"
   ]
  },
  {
   "cell_type": "code",
   "execution_count": 23,
   "metadata": {},
   "outputs": [],
   "source": [
    "coms = repos[0].get_commits()"
   ]
  },
  {
   "cell_type": "code",
   "execution_count": 33,
   "metadata": {},
   "outputs": [
    {
     "output_type": "execute_result",
     "data": {
      "text/plain": "datetime.datetime(2020, 4, 28, 15, 4, 37)"
     },
     "metadata": {},
     "execution_count": 33
    }
   ],
   "source": [
    "coms[0].commit.author.date"
   ]
  },
  {
   "cell_type": "code",
   "execution_count": 50,
   "metadata": {},
   "outputs": [
    {
     "output_type": "execute_result",
     "data": {
      "text/plain": "2020, 5, 13, 18, 24, 23),\n  datetime.datetime(2020, 5, 11, 7, 44, 7),\n  datetime.datetime(2020, 5, 11, 7, 30, 53),\n  datetime.datetime(2020, 5, 11, 7, 30, 44),\n  datetime.datetime(2020, 5, 7, 9, 21, 47),\n  datetime.datetime(2020, 5, 7, 9, 21, 7),\n  datetime.datetime(2020, 5, 7, 8, 53, 47),\n  datetime.datetime(2020, 5, 6, 12, 54, 3),\n  datetime.datetime(2020, 5, 5, 15, 18, 35),\n  datetime.datetime(2020, 5, 4, 14, 25, 49),\n  datetime.datetime(2020, 5, 4, 14, 5, 21),\n  datetime.datetime(2020, 5, 4, 9, 47, 1),\n  datetime.datetime(2020, 5, 4, 8, 25, 5),\n  datetime.datetime(2020, 5, 3, 11, 13, 55),\n  datetime.datetime(2020, 5, 1, 9, 42, 22),\n  datetime.datetime(2020, 5, 1, 9, 38, 19),\n  datetime.datetime(2020, 5, 1, 9, 36, 31),\n  datetime.datetime(2020, 5, 1, 8, 10, 1),\n  datetime.datetime(2020, 5, 1, 8, 10),\n  datetime.datetime(2020, 5, 1, 8, 9, 59),\n  datetime.datetime(2020, 5, 16, 16, 47, 35),\n  datetime.datetime(2020, 5, 14, 12, 41, 41),\n  datetime.datetime(2020, 5, 14, 12, 40, 19),\n  datetime.datetime(2020, 5, 14, 12, 39, 4),\n  datetime.datetime(2020, 5, 14, 11, 12, 45),\n  datetime.datetime(2020, 5, 14, 9, 29, 19),\n  datetime.datetime(2020, 5, 14, 9, 29, 6),\n  datetime.datetime(2020, 5, 13, 22, 26, 21),\n  datetime.datetime(2020, 5, 12, 15, 44, 11),\n  datetime.datetime(2020, 5, 7, 10, 45, 18),\n  datetime.datetime(2020, 5, 5, 10, 42, 47),\n  datetime.datetime(2020, 5, 5, 10, 41, 15),\n  datetime.datetime(2020, 5, 5, 10, 36, 38),\n  datetime.datetime(2020, 5, 5, 10, 24, 31),\n  datetime.datetime(2020, 5, 3, 14, 10, 45),\n  datetime.datetime(2020, 5, 3, 12, 46, 42),\n  datetime.datetime(2020, 5, 3, 11, 58, 38),\n  datetime.datetime(2020, 5, 3, 11, 58, 37),\n  datetime.datetime(2020, 5, 3, 11, 58, 36),\n  datetime.datetime(2020, 5, 13, 15, 48, 3),\n  datetime.datetime(2020, 5, 13, 12, 5, 40),\n  datetime.datetime(2020, 5, 12, 7, 36, 49),\n  datetime.datetime(2020, 5, 12, 7, 13, 35),\n  datetime.datetime(2020, 5, 12, 7, 2, 36),\n  datetime.datetime(2020, 5, 11, 14, 41, 59),\n  datetime.datetime(2020, 5, 11, 14, 26, 30),\n  datetime.datetime(2020, 5, 11, 14, 24, 56),\n  datetime.datetime(2020, 5, 11, 13, 49, 52),\n  datetime.datetime(2020, 5, 10, 17, 33, 38),\n  datetime.datetime(2020, 5, 10, 17, 28, 39),\n  datetime.datetime(2020, 5, 8, 14, 10, 33),\n  datetime.datetime(2020, 5, 8, 14, 0, 44),\n  datetime.datetime(2020, 5, 8, 13, 58, 52),\n  datetime.datetime(2020, 5, 8, 13, 58, 10),\n  datetime.datetime(2020, 5, 8, 10, 48, 6),\n  datetime.datetime(2020, 5, 7, 15, 41, 55),\n  datetime.datetime(2020, 5, 7, 15, 29, 19),\n  datetime.datetime(2020, 5, 7, 15, 24, 49),\n  datetime.datetime(2020, 5, 7, 15, 23, 45),\n  datetime.datetime(2020, 5, 7, 15, 19, 53),\n  datetime.datetime(2020, 5, 7, 15, 17, 14),\n  datetime.datetime(2020, 5, 7, 15, 12, 4),\n  datetime.datetime(2020, 5, 7, 14, 24, 12),\n  datetime.datetime(2020, 5, 7, 14, 2, 56),\n  datetime.datetime(2020, 5, 7, 13, 20, 46),\n  datetime.datetime(2020, 5, 7, 13, 19, 35),\n  datetime.datetime(2020, 5, 7, 13, 14, 59),\n  datetime.datetime(2020, 5, 7, 13, 0, 5),\n  datetime.datetime(2020, 5, 7, 12, 59, 12)],\n 'Commit_Message': ['changed visual layout',\n  'removed color oprions we dont use',\n  'unintentional changes',\n  'tried to fix SaveImage function',\n  'imported numba and jit',\n  'created buttons and fields to change range and added field+button to save image',\n  'Added the entries and button to gain the entries',\n  'Fixed the color function and the main function cleaned up',\n  'Tried to fix the color problejm',\n  'tried to create a working drop down menu to change mandel colour.',\n  'Unnessecary changed documents',\n  'Fixed the color mandel function for the right mandel number',\n  'Added test cases for the color mandel function',\n  'Removed a new test cast for convertion of the pixel',\n  'Added a new test cast for convertion of the pixel',\n  'Color function defined',\n  'Creating the gui picture',\n  'Changed nothing significant',\n  'Created a new working definition for mandel number and sequence',\n  'Created new test cases for 2C',\n  \"Danny created the function 'generate_mandel_nums'\",\n  'Danny Entered Contributor information',\n  'played around with test cases to check mandel_number function',\n  'attempted to create mandel_number function',\n  'changed test case for mandel_seq function',\n  'fixed mandel_seq function',\n  'Giulia created function convert_pixel',\n  'Giulia created test case for function convert_pixel',\n  'Entered the contributors names',\n  'Generated the html documentation',\n  'added contributer information',\n  'Made a test case for function mandel_seq',\n  'Attempted to define function mandel_seq',\n  'Finishing touches.',\n  'Changed mandel.py start',\n  'Changed imports',\n  'Changed path where images are saved,\\nImproved readability',\n  'Re-Re-generated documentation',\n  'Cleaned up numba implementation.\\nChanged pytest test-cases',\n  'Updated type of Color to match what it was at the start.\\nAdded results for doctests and pytests\\nUpdated requirements.txt to include numba',\n  'Added to HTML documentation',\n  'Added to HTML documentation',\n  'Added to HTML documentation',\n  're-generated HTML documentation.',\n  \"Merge remote-tracking branch 'origin/master'\",\n  'General improvements to readability\\nUpdated and added docstrings for multiple functions\\nAdded Newton_main.py, which can be ran to draw a newton fractal.\\nDefined newton_seq, newton_root, newton_color in mandel.py\\nDefined make_newton_image, blur_filter in gui.py\\nDefined apply_blur_filter in main.py\\nAdded doctest and pytest test cases.\\nChanged name of callback to refresh image.\\nAdded readme to the stats folder.\\nre-generated HTML documentation.',\n  'Re-enabled numba\\nworked on custom color selection',\n  'Added timing.py\\nImplemented numba\\nAdded Stats\\nDefined create_tuple.\\nAdded docstrings\\nDefined r_click_handler,l_click_handler,zoom and reset',\n  'Worked on implementing zoom\\nFinished exercise k,l\\nWorked on implementing Numba',\n  'Finished exercise i and j.\\nAdded dropdown menu for color\\nAdded possibility to change coordinates of center\\ndefined callback\\nUpdated color_mandel, convert_pixel, main.py, make_image, generate_mandel_numbers\\nAdded documentation for real this time.',\n  'Update readme.md\\n\\nAdded contributor 3 information',\n  'Added HTML Documentation.',\n  'Added contributor 3 information\\nFixed (defined) convert_pixel and generate_mandel_numbers\\nDefined mandel_color\\nadded doctests for convert_pixel and generate_mandel_numbers\\nadded pytests\\nChanged main.py to generate the mandelbrot image.\\nClosed issue #9, #8, #7, #6, #5\\nOpened issues for extra exercises',\n  'Update mandel.py',\n  'Update mandel.py',\n  'Update main.py',\n  'Update gui.py',\n  \"Merge remote-tracking branch 'origin/master'\",\n  'Added pytest testcases for mandel_seq and mandel_number',\n  'Update README.md',\n  'Defined functions: mandel_seq() and mandel_number.\\nFixed and closed issue #4.',\n  'Added author 1 information.',\n  \"Merge remote-tracking branch 'origin/master'\\n\\n# Conflicts:\\n#\\ttests/test_cases.py\",\n  'Added author 1 information.',\n  'Added name and date contribution',\n  'Added name and date contribution',\n  'Added contributor 1 name and student number.',\n  'Generated HTML documentation.',\n  'Added contributor 1 information.',\n  'added html documentation',\n  'added html documentation',\n  'fixed pytest test cases after change in convert_pixel',\n  'added html documentation for the extra exercises',\n  'added html documentation for the extra exercises',\n  'added html documentation for the extra exercises',\n  'added html documentation for the extra exercises',\n  'exercise l, added two buttons, one to take a screenshot and the other to save the most recent screenshot.',\n  'added documentation for main.py and gui.py',\n  'added documentation for mandel.py',\n  'Updated ZoomIn, ZoomOut\\nChanged variables smin and smax in range\\nChanged x, y in convert_pixel\\n\\nBeginning of blurfilter',\n  'Added reset button for the range and center point.\\nadded documentation for new functions.\\nadded new imports pyautogui, filedialog, imagegrab and time.\\nChanged function convert_pixel.',\n  \"Merge branch 'master' of https://github.com/2IS50/2is50-2019-2020-homework-assignment-1-pair-12\\n\\n\\x01 Conflicts:\\n\\x01\\tsrc/gui.py\",\n  'Beginning exercise M\\nBinded ZoomIn functions and ZoomOut functions to left and right mouse clicks. Changed center points on mouse position.',\n  'made some progress towards the save button, only right now we need two seperate buttons, one for the screenshot and one to save this screenshot.',\n  'Updated GUI definitions to exchange variables.\\nself.chosencolor, self.chosenxmax, .....',\n  'Done exercise J and K\\n\\nAdded docstring for function NewCenter  and NewRange\\nadded labels, buttons and entries for the functions\\nadded some documentation',\n  'Added documentation ChangeColor',\n  'Exercise o\\nImported Numba to make the calculations faster',\n  'Updated Exercise i\\nChanged Menubutton to OptionMenu to reduce code lines and clean up the GUI interface.',\n  'Begin Exercise k\\nAdded beginning of exercise k\\nField with interaction',\n  'exercise j and k added parameters from convert_pixel to function color_mandel',\n  'Exercise I added dropdown menu with colors.',\n  'part of exercise j and k, changed function convert_pixel so a new range and center point can be given.',\n  \"Merge remote-tracking branch 'origin/master'\",\n  'Begin Exercise i\\nAdded buttons with different color options\\nChanged make_image argument to change color\\nChanged color_mandel to implement colors',\n  'Update README.md\\n\\nAdded contributers information',\n  'Basic Exercise\\nRegenerated html with updated files',\n  \"Merge branch 'master' of https://github.com/2IS50/2is50-2019-2020-homework-assignment-1-pair-12\",\n  'Exercise h\\nAdded four pytests',\n  'fixed doctests documentation, There were a few spaces missing',\n  'Updated color_mandel',\n  \"Merge branch 'master' of https://github.com/2IS50/2is50-2019-2020-homework-assignment-1-pair-12\\n\\n\\x01 Conflicts:\\n\\x01\\tsrc/gui.py\\n\\x01\\tsrc/main.py\\n\\x01\\tsrc/mandel.py\",\n  'exercise g defined function color_mandel, added doctests, added it to make_image fixed mistake in convert_pixel\\nAlso added contributor information',\n  'exercise g defined function color_mandel, added doctests, added it to make_image fixed mistake in convert_pixel\\nAlso added contributor information',\n  'Update color_mandel',\n  \"Merge branch 'master' of https://github.com/2IS50/2is50-2019-2020-homework-assignment-1-pair-12\\n\\n\\x01 Conflicts:\\n\\x01\\tsrc/mandel.py\",\n  'Added Contributers information',\n  'exercise g defined function color_mandel and added doctests',\n  \"Merge branch 'master' of https://github.com/2IS50/2is50-2019-2020-homework-assignment-1-pair-12\",\n  'Added Contributers information',\n  'exercise f added doctests and doctstring for function generate_mandel_nums',\n  'Added docstring and doctest for convert_pixel',\n  'excercise e, difined function generate_mandel_nums that returns a 600 x 600 list that represent the mandel numbers for the pixels.',\n  'Fix in mandel_seq\\nAdded convert_pixel',\n  'exercise c\\n\\nadded functions mandel_seq and mandel_number',\n  \"Merge branch 'master' of https://github.com/2IS50/2is50-2019-2020-homework-assignment-1-pair-12\\n\\n\\x01 Conflicts:\\n\\x01\\t.idea/Assignment-1-21S50-Mandelbrot.iml\\n\\x01\\t.idea/misc.xml\",\n  'installation procedures',\n  'Exercise b\\nGenerate html',\n  'Final commit, changed speed of newton fractal.',\n  'Added blur function and final html documentation.',\n  'Added numba function compiler and optimized newtons fractal.',\n  'Cleaned up the software.',\n  \"Merge branch 'master' of https://github.com/2IS50/2is50-2019-2020-homework-assignment-1-pair-13\\n\\n\\x01 Conflicts:\\n\\x01\\tsrc/mandel.py\",\n  'Added Newton Fractal.',\n  'Added range choosing.',\n  'Added center-point choosing.',\n  \"Merge branch 'master' of https://github.com/2IS50/2is50-2019-2020-homework-assignment-1-pair-13\\n\\n\\x01 Conflicts:\\n\\x01\\ttests/test_cases.py\",\n  'Merge branch.',\n  'Added save button.',\n  'Added basic color choosing option.',\n  'Added correct final html documentation.',\n  'Added final html documentation.',\n  'Added pytest test_cases.',\n  'Added doctest to mandel.py',\n  'define of color_mandel.',\n  \"Merge branch 'master' of https://github.com/2IS50/2is50-2019-2020-homework-assignment-1-pair-13\\n\\n\\x01 Conflicts:\\n\\x01\\tsrc/mandel.py\",\n  'General changes in order to make image.',\n  'Added generate_mandel_nums function with docstring and doctest.',\n  'Finished definition of generate_mandel_nums (exercise e).',\n  'Started definition of generate_mandel_nums (exercise e), but is not yet fully correct.',\n  'Added convert_pixel function with docstring and doctest',\n  \"Merge branch 'master' of https://github.com/2IS50/2is50-2019-2020-homework-assignment-1-pair-13\\n\\n\\x01 Conflicts:\\n\\x01\\t.idea/Assignment-1-21S50-Mandelbrot.iml\\n\\x01\\t.idea/misc.xml\",\n  'Pull request commit (commit needed to pul, can be ignored)',\n  \"Merge branch 'master' of https://github.com/2IS50/2is50-2019-2020-homework-assignment-1-pair-13\",\n  'Defined functions mandel_seq and mandel_number.',\n  'Added html documentation (Exercise b)',\n  'Added index.rst and README.md contributor information.',\n  'Added source code contributor information.',\n  'final check performed, everything works as supposed. Documentation is also updated.',\n  'Regenerated documentation and copied to docs/html',\n  'Also option to zoom out is added, thereby fixing issue #15.\\n\\nAlso the zoom in procedure is updated, zooming in can now be done indefinitely, whereby the position of the mouse is now the new centre of the image.',\n  \"fixed exercise j which didn't work as supposed. Now it does, user can give x and y pixel coordinate which is centre point for image.\\n\\nAlso zooming in works / reset button.\\n#todo: zooming out\",\n  'Removed unnecessary code only used for testing numba',\n  'Finished exercise o: removed numba from gui and added in mandel.py',\n  'Fixed: forgot to add right click function',\n  'Worked on exercise m and o. For exercise o: added time measuring to test whether numba worked or not.',\n  'update read.me',\n  'last documentation check',\n  'last documentation check',\n  'added two saved images',\n  'made new function: blur_image which blurs the image after user presses button.\\n\\nalso make_image is adapted, more variables in function call. This was done during multiple attempts to get numba to work',\n  'Tried several exercises, not finished',\n  \"class GUI_OLD is old version. Added new version which uses .grid module instead of .place(). This resolved the issue that the layout wasn't suitable.\",\n  'added a colour (for fun)',\n  'ability to save image as jpg file is implemented, where user can give a name.',\n  'ability to let the user give a new centrepoint is added. Also labels are added to GUI so user knows what to give as input in which widgets.',\n  \"Merge branch 'master' of https://github.com/2IS50/2is50-2019-2020-homework-assignment-1-pair-14\",\n  \"gui.py is updated. The GUI class now contains a dropdown menu, entry label and a 'ok' button. Methods are created that make the GUI interactive.\\n\\nUser can choose a color in the dropdown menu, can give a range by giving a number, 1 gives whole image. By pressing OK button the image will be adapted/created.\",\n  'main.py is updated. The old make_image(..) call is not needed anymore, is build in the GUI',\n  \"function color_mandel_2 is new function that's able to change colors given by users as input in GUI. (ex.i)\\n\\nAlso convert_pixel is updated, x and y range from [-s,s] instead of [-1,1] (ex.k)\",\n  'Fixed typo',\n  'Added four pytest functions in the test/testcases.py file.\\n\\nand personal contributor information is entered.',\n  'defined function color_mandel in mandel.py, which is passed as an argument to function make_image in main.py\\n\\ntwo doctests are added.\\nand entered personal contributor information to all files in src folder.',\n  'fixed bug in generate_mandel_nums, and added docstring/doctests.\\n\\nupdated the doctest of convert_pixel',\n  'added docstring and doctests to convert_pixel',\n  'Started with defining function generate_mandel_nums',\n  'Changed names of variables in convert_pixel formula',\n  'Defined convert_pixel formula',\n  'Entered mandel number formula',\n  'Entered mandel sequence formula',\n  'Entered contributor information',\n  'Made function to save image on user command',\n  \"Merge remote-tracking branch 'origin/master'\\n\\n# Conflicts:\\n#\\tsrc/interface.py\",\n  'first attempt at making center point',\n  'Create menu for setting a different range',\n  \"Merge remote-tracking branch 'origin/master'\\n\\n# Conflicts:\\n#\\tsrc/interface.py\\n#\\tsrc/main.py\",\n  'first attempt at making center point',\n  'Create menu for setting a different range',\n  \"Merge remote-tracking branch 'origin/master'\\n\\n# Conflicts:\\n#\\tsrc/interface.py\\n#\\tsrc/main.py\",\n  'Create menu for setting a different range',\n  'first attempt at making center point',\n  'Create dropdown menu for colors of mandebrot figure.',\n  'Make Interface',\n  'Make Interface',\n  'Make Interface',\n  \"Merge remote-tracking branch 'origin/master'\",\n  'Pytest improved to test random index length',\n  'Fix doctests',\n  'Pytests added to test_cases.py',\n  'Fix issues mandel_seq (u_i_new) and function convert_pixel and generate_mandel_nums() and function color_mandel',\n  'Work on exercise g, discuss issues',\n  'Work on exercise g',\n  'Changed functions to discuss together (not yet correct)',\n  'First try assignments d,e,f for discussion',\n  \"Merge remote-tracking branch 'origin/master'\",\n  'Execute basic exercise b again',\n  'Names and id numbers added',\n  'Execute basic exercise b',\n  'updated latest version',\n  'Little change',\n  'first draft of color_mandel',\n  \"Merge remote-tracking branch 'origin/master'\",\n  'Fixed small issue with function mandel_seq returning integers instead of floats.\\n\\nAdded doctests to the convert_pixel function and updated its docstring.\\n\\nAdded docstring to the generate_mandel_nums function.\\n\\nAdded generate_mandel_nums function with docstring and doctests for the length of the list. (actual doctests still need to be added)',\n  'nonsense',\n  'try to run',\n  'Added first draft of the function generate_mandel_nums().',\n  'Updated convert_pixel and its docstring',\n  'Updated the docstring of convert_pixel',\n  'Defined convert_pixel output to tuple.',\n  'Defined mendel_seq output to list.',\n  'Defined mendel_number function.',\n  'Defined mendel_seq function.',\n  'Defined convert_pixel.',\n  'Generated documentation and added contributers',\n  'moved html folder to docs folder',\n  'Updated html docs',\n  'Added tests for newton_fractal. Updated some documentation.',\n  'improved initial selection menu',\n  'Put buttons in separate function in GUI class for not showing buttons when newton fractal is shown',\n  'Made option for mandel or newton',\n  'Showing newton fractal (in main choose option)',\n  'parsing mandel number to color_mandel instead of the full list',\n  'Created function for newton mandel fractal',\n  \"Merge remote-tracking branch 'origin/master'\\n\\n# Conflicts:\\n#\\tsrc/gui.py\",\n  'Fixed zoom in function',\n  'removed unnecessary globals and print statements',\n  'Fixed click zoom out',\n  'Fixed click zoom in',\n  'Changed convert_pixel zoom range type hint to float',\n  'Added extra testcases for convert_pixel',\n  'updated html documentation',\n  'Added numba for increased performance',\n  \"Merge remote-tracking branch 'origin/master'\",\n  'Merged changes',\n  'Added numba to requirements',\n  \"Merge remote-tracking branch 'origin/master'\\n\\n# Conflicts:\\n#\\tsrc/gui.py\",\n  'Added zoom in and zoom out feature using mouse click',\n  'Added button and function to blur image.',\n  'Added button and function to safe the image. Removed unnecessary globals',\n  'added config files to gitignore',\n  'added config files to gitignore',\n  'Added range field and updated documentation',\n  'Improved layout of buttons and fields at the top',\n  \"Merge remote-tracking branch 'origin/master'\"]}"
     },
     "metadata": {},
     "execution_count": 50
    }
   ],
   "source": [
    "api_data"
   ]
  },
  {
   "cell_type": "code",
   "execution_count": null,
   "metadata": {},
   "outputs": [],
   "source": []
  }
 ],
 "metadata": {
  "language_info": {
   "codemirror_mode": {
    "name": "ipython",
    "version": 3
   },
   "file_extension": ".py",
   "mimetype": "text/x-python",
   "name": "python",
   "nbconvert_exporter": "python",
   "pygments_lexer": "ipython3",
   "version": "3.7.7-final"
  },
  "orig_nbformat": 2,
  "kernelspec": {
   "name": "python37764bit61359d132ebe4c18b4ae5c7448546753",
   "display_name": "Python 3.7.7 64-bit"
  }
 },
 "nbformat": 4,
 "nbformat_minor": 2
}