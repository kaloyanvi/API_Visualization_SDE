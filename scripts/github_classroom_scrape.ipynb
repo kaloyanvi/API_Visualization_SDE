{
 "cells": [
  {
   "cell_type": "markdown",
   "metadata": {},
   "source": [
    "## 1. Imports"
   ]
  },
  {
   "cell_type": "code",
   "execution_count": 2,
   "metadata": {},
   "outputs": [],
   "source": [
    "import os\n",
    "import pandas as pd\n",
    "import progressbar as pbar\n",
    "from credentials import username, password\n",
    "from github import Github"
   ]
  },
  {
   "cell_type": "markdown",
   "metadata": {},
   "source": [
    "## 2. Github authentication\n",
    "\n",
    "Importing login details for Github from different file for security reasons. The credentitals file is a Python script and has to be located in the /scripts directory. The file consists of two functions - username() and password() where each of the functions has to return only the username and password as a string."
   ]
  },
  {
   "cell_type": "code",
   "execution_count": 3,
   "metadata": {},
   "outputs": [],
   "source": [
    "g = Github(username(), password())  # credentials for github login\n",
    "repos = g.get_user().get_repos()  # iterable; all the repos associated with the profile incl. organizations"
   ]
  },
  {
   "cell_type": "markdown",
   "metadata": {},
   "source": [
    "## 3. Assignment and staff details\n",
    "\n",
    "A variable which is a string is needed, this will be the assignment name on Github to look for. The pair number is not included so all pairs repositories will be scraped at once. To get the pair number the length of the string is needed for indexing purposes but I want it to include the word \"pair\", so slight modification is made. Finally, a list that contains the GitHub usernames of all the staff, this is needed so the staff will be excluded as being collaborators and any commits made by the staff won't be counted in the student repositories."
   ]
  },
  {
   "cell_type": "code",
   "execution_count": 7,
   "metadata": {},
   "outputs": [],
   "source": [
    "ha_1 = '2is50-2019-2020-homework-assignment-1-pair-'  # repos to filter for; \n",
    "ha_len = len('2is50-2019-2020-homework-assignment-1-')  # will be used for retrieving pair# by indexing\n",
    "staff_ids = ['sakce', 'kvidelov', 'mackees', 'sakehl', 'thatmariia', 'wstomv', 'sansteTUe', 'HDylanTV', 'gzwaan', 'dmarinissen']"
   ]
  },
  {
   "cell_type": "markdown",
   "metadata": {},
   "source": [
    "## 4. Scraping the API\n",
    "\n",
    "### Useful commands\n",
    "\n",
    "- repo.get_commits() returns all commit logs as an iterable\n",
    "\n",
    "- repo.get_collaborators() returns all collaborators of that repo as an iterable\n",
    "\n",
    "- commit.author returns information about the commit author\n",
    "\n",
    "- commit.author.login returns the commit author username\n",
    "\n",
    "\n",
    "### 4.1. Commit Authors\n",
    "\n",
    "There are three possible author cases, the commit is made with a student account, the commit is made with a staff account or the commit is made with anonymous account. In the third case, commit.author is returning None as far as I know, in the other two cases the command will return the account. For taking just the username I am using commit.author.login which cannot be used on None though."
   ]
  },
  {
   "cell_type": "code",
   "execution_count": 22,
   "metadata": {},
   "outputs": [],
   "source": [
    "def filterCollaborators(repository):\n",
    "    \"\"\"The function filters out only the student accounts from a repository as collaborators.\"\"\"\n",
    "    \n",
    "    student_collaborators = []\n",
    "\n",
    "    for i in repository.get_collaborators():\n",
    "\n",
    "        if i.login in staff_ids:\n",
    "            pass\n",
    "        else:\n",
    "            student_collaborators.append(i.login)\n",
    "\n",
    "    return student_collaborators"
   ]
  },
  {
   "cell_type": "code",
   "execution_count": 5,
   "metadata": {},
   "outputs": [],
   "source": [
    "pair_numb = []\n",
    "authors = []\n",
    "emails = []\n",
    "date_time = []\n",
    "commit_messages = []"
   ]
  },
  {
   "cell_type": "code",
   "execution_count": 8,
   "metadata": {},
   "outputs": [],
   "source": [
    "for repo in repos: # iterating over all repositories associated with the login account\n",
    "\n",
    "    if ha_1 in repo.name:  # filtering only the assignment repos\n",
    "\n",
    "        pair_id = int(str(repo.name)[len(ha_1):])  # getting the pair number from the repository name\n",
    "        \n",
    "        collaborators = filterCollaborators(repo)  # getting the repo collaborators\n",
    "        commits = repo.get_commits()  # iterable that contains the logs of each commit in the repo\n",
    "        \n",
    "        # Commit counts for each member\n",
    "        member_1 = 0\n",
    "        member_2 = 0\n",
    "\n",
    "        for commit in commits:  \n",
    "            \n",
    "            if commit.author is None:  # checking whether the account is anonymous\n",
    "\n",
    "                author = 'Anonymous'\n",
    "                collaborators.append(author)\n",
    "\n",
    "            elif commit.author.login in staff_ids:  # checking if the commit is done by the staff\n",
    "                pass\n",
    "\n",
    "            elif commit.author.login in collaborators:  # optimal case when the commit is by student\n",
    "\n",
    "                # Do things\n",
    "            \n",
    "            else:  # for anything weird that I may not be taking into account\n",
    "                print('Issue!')\n",
    "\n",
    "\n",
    "\n",
    "\n",
    "            if commit.author != None and commit.author.login not in staff_ids:\n",
    "\n",
    "                pair_numb.append(pair_id)  # pair number\n",
    "                authors.append(commit.author.login)  # author id\n",
    "                emails.append(commit.commit.author.email)  # author email\n",
    "                date_time.append(commit.commit.author.date)  # date and time of commit\n",
    "                commit_messages.append(commit.commit.message)  # commit message \n",
    "\n",
    "\n",
    "\n",
    "    else:  # not an assignment repository\n",
    "        pass"
   ]
  },
  {
   "cell_type": "code",
   "execution_count": 9,
   "metadata": {},
   "outputs": [],
   "source": [
    "api_data = {'Pair': pair_numb, 'Author': authors, 'Author_Email': emails, 'Date': date_time, 'Commit_Message': commit_messages}"
   ]
  },
  {
   "cell_type": "code",
   "execution_count": 11,
   "metadata": {},
   "outputs": [
    {
     "output_type": "execute_result",
     "data": {
      "text/plain": "      Pair           Author                Author_Email                Date  \\\n0       10  GiuliaFliescher  g.fliescher@student.tue.nl 2020-05-17 13:40:17   \n1       10  GiuliaFliescher  g.fliescher@student.tue.nl 2020-05-17 13:39:51   \n2       10  GiuliaFliescher  g.fliescher@student.tue.nl 2020-05-17 13:13:38   \n3       10  GiuliaFliescher  g.fliescher@student.tue.nl 2020-05-17 13:13:06   \n4       10  GiuliaFliescher  g.fliescher@student.tue.nl 2020-05-17 13:02:50   \n...    ...              ...                         ...                 ...   \n1623    90           Loebna    loebnasabbah@hotmail.com 2020-05-05 10:54:56   \n1624    90           LinTaw    l.tawafra@student.tue.nl 2020-05-05 10:37:21   \n1625    90           LinTaw    l.tawafra@student.tue.nl 2020-05-05 10:36:19   \n1626    90           LinTaw    l.tawafra@student.tue.nl 2020-05-05 10:30:06   \n1627    90           Loebna    loebnasabbah@hotmail.com 2020-05-05 10:29:58   \n\n                                         Commit_Message  \n0                                 changed visual layout  \n1                     removed color oprions we dont use  \n2                                 unintentional changes  \n3                       tried to fix SaveImage function  \n4                                imported numba and jit  \n...                                                 ...  \n1623                                  Added name + date  \n1624                                 Contributor 2 name  \n1625  Merge remote-tracking branch 'origin/master'\\n...  \n1626                                 Contributor 2 name  \n1627                                  Added name + date  \n\n[1628 rows x 5 columns]",
      "text/html": "<div>\n<style scoped>\n    .dataframe tbody tr th:only-of-type {\n        vertical-align: middle;\n    }\n\n    .dataframe tbody tr th {\n        vertical-align: top;\n    }\n\n    .dataframe thead th {\n        text-align: right;\n    }\n</style>\n<table border=\"1\" class=\"dataframe\">\n  <thead>\n    <tr style=\"text-align: right;\">\n      <th></th>\n      <th>Pair</th>\n      <th>Author</th>\n      <th>Author_Email</th>\n      <th>Date</th>\n      <th>Commit_Message</th>\n    </tr>\n  </thead>\n  <tbody>\n    <tr>\n      <th>0</th>\n      <td>10</td>\n      <td>GiuliaFliescher</td>\n      <td>g.fliescher@student.tue.nl</td>\n      <td>2020-05-17 13:40:17</td>\n      <td>changed visual layout</td>\n    </tr>\n    <tr>\n      <th>1</th>\n      <td>10</td>\n      <td>GiuliaFliescher</td>\n      <td>g.fliescher@student.tue.nl</td>\n      <td>2020-05-17 13:39:51</td>\n      <td>removed color oprions we dont use</td>\n    </tr>\n    <tr>\n      <th>2</th>\n      <td>10</td>\n      <td>GiuliaFliescher</td>\n      <td>g.fliescher@student.tue.nl</td>\n      <td>2020-05-17 13:13:38</td>\n      <td>unintentional changes</td>\n    </tr>\n    <tr>\n      <th>3</th>\n      <td>10</td>\n      <td>GiuliaFliescher</td>\n      <td>g.fliescher@student.tue.nl</td>\n      <td>2020-05-17 13:13:06</td>\n      <td>tried to fix SaveImage function</td>\n    </tr>\n    <tr>\n      <th>4</th>\n      <td>10</td>\n      <td>GiuliaFliescher</td>\n      <td>g.fliescher@student.tue.nl</td>\n      <td>2020-05-17 13:02:50</td>\n      <td>imported numba and jit</td>\n    </tr>\n    <tr>\n      <th>...</th>\n      <td>...</td>\n      <td>...</td>\n      <td>...</td>\n      <td>...</td>\n      <td>...</td>\n    </tr>\n    <tr>\n      <th>1623</th>\n      <td>90</td>\n      <td>Loebna</td>\n      <td>loebnasabbah@hotmail.com</td>\n      <td>2020-05-05 10:54:56</td>\n      <td>Added name + date</td>\n    </tr>\n    <tr>\n      <th>1624</th>\n      <td>90</td>\n      <td>LinTaw</td>\n      <td>l.tawafra@student.tue.nl</td>\n      <td>2020-05-05 10:37:21</td>\n      <td>Contributor 2 name</td>\n    </tr>\n    <tr>\n      <th>1625</th>\n      <td>90</td>\n      <td>LinTaw</td>\n      <td>l.tawafra@student.tue.nl</td>\n      <td>2020-05-05 10:36:19</td>\n      <td>Merge remote-tracking branch 'origin/master'\\n...</td>\n    </tr>\n    <tr>\n      <th>1626</th>\n      <td>90</td>\n      <td>LinTaw</td>\n      <td>l.tawafra@student.tue.nl</td>\n      <td>2020-05-05 10:30:06</td>\n      <td>Contributor 2 name</td>\n    </tr>\n    <tr>\n      <th>1627</th>\n      <td>90</td>\n      <td>Loebna</td>\n      <td>loebnasabbah@hotmail.com</td>\n      <td>2020-05-05 10:29:58</td>\n      <td>Added name + date</td>\n    </tr>\n  </tbody>\n</table>\n<p>1628 rows × 5 columns</p>\n</div>"
     },
     "metadata": {},
     "execution_count": 11
    }
   ],
   "source": [
    "pd.DataFrame(api_data)"
   ]
  },
  {
   "cell_type": "code",
   "execution_count": null,
   "metadata": {},
   "outputs": [],
   "source": []
  }
 ],
 "metadata": {
  "language_info": {
   "codemirror_mode": {
    "name": "ipython",
    "version": 3
   },
   "file_extension": ".py",
   "mimetype": "text/x-python",
   "name": "python",
   "nbconvert_exporter": "python",
   "pygments_lexer": "ipython3",
   "version": "3.7.7-final"
  },
  "orig_nbformat": 2,
  "kernelspec": {
   "name": "python37764bit61359d132ebe4c18b4ae5c7448546753",
   "display_name": "Python 3.7.7 64-bit"
  }
 },
 "nbformat": 4,
 "nbformat_minor": 2
}