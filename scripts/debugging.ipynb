{
 "cells": [
  {
   "cell_type": "code",
   "execution_count": 1,
   "metadata": {},
   "outputs": [],
   "source": [
    "import os\n",
    "import time\n",
    "import pandas as pd\n",
    "from github import Github\n",
    "from credentials import username, password\n",
    "from data_API import dataAPI"
   ]
  },
  {
   "cell_type": "code",
   "execution_count": 25,
   "metadata": {},
   "outputs": [],
   "source": [
    "g = Github(username(), password())  # credentials for github login\n",
    "repos = g.get_user().get_repos()  # iterable; all the repos associated with the profile incl. organizations"
   ]
  },
  {
   "cell_type": "code",
   "execution_count": 19,
   "metadata": {},
   "outputs": [],
   "source": [
    "test = repos"
   ]
  },
  {
   "cell_type": "code",
   "execution_count": 22,
   "metadata": {
    "tags": []
   },
   "outputs": [
    {
     "output_type": "stream",
     "name": "stdout",
     "text": "2is50-2019-2020-homework-assignment-0-20174095\n2is50-2019-2020-homework-assignment-0-20183839\n2is50-2019-2020-homework-assignment-0-20191177\n2is50-2019-2020-homework-assignment-0-20192968\n2is50-2019-2020-homework-assignment-0-20193289\n2is50-2019-2020-homework-assignment-0-2958Claudia\n2is50-2019-2020-homework-assignment-0-AER-Stud\n2is50-2019-2020-homework-assignment-0-alex-molnar\n2is50-2019-2020-homework-assignment-0-annamoerman\n2is50-2019-2020-homework-assignment-0-AnnoYingYing\n2is50-2019-2020-homework-assignment-0-Arendstudent\n2is50-2019-2020-homework-assignment-0-AugusteLef\n2is50-2019-2020-homework-assignment-0-Awesam-one\n2is50-2019-2020-homework-assignment-0-basschalkwijk\n2is50-2019-2020-homework-assignment-0-benGmaker\n2is50-2019-2020-homework-assignment-0-benjivdbrand\n2is50-2019-2020-homework-assignment-0-BibiFloris\n2is50-2019-2020-homework-assignment-0-bonjasper\n2is50-2019-2020-homework-assignment-0-Br1tt21\n2is50-2019-2020-homework-assignment-0-brambolinie256\n2is50-2019-2020-homework-assignment-0-BramtenBrink\n2is50-2019-2020-homework-assignment-0-brickmasterj\n2is50-2019-2020-homework-assignment-0-bryancghnus\n2is50-2019-2020-homework-assignment-0-Btl11\n2is50-2019-2020-homework-assignment-0-Carlos-Zieleman\n2is50-2019-2020-homework-assignment-0-ceasar1999\n2is50-2019-2020-homework-assignment-0-Chri5thiano\n2is50-2019-2020-homework-assignment-0-ChrisM76\n2is50-2019-2020-homework-assignment-0-D-Meulendijks\n2is50-2019-2020-homework-assignment-0-DaanvStratum\n2is50-2019-2020-homework-assignment-0-DannyVogels\n2is50-2019-2020-homework-assignment-0-DcoyM\n2is50-2019-2020-homework-assignment-0-debruss\n2is50-2019-2020-homework-assignment-0-degrootward\n2is50-2019-2020-homework-assignment-0-diederikpel\n2is50-2019-2020-homework-assignment-0-DoortjeMarkovic\n2is50-2019-2020-homework-assignment-0-Dravurius\n2is50-2019-2020-homework-assignment-0-EddydeH\n2is50-2019-2020-homework-assignment-0-ElionaiWeldeghebreal\n2is50-2019-2020-homework-assignment-0-Erick-Hoogstrate\n2is50-2019-2020-homework-assignment-0-EstherMendel\n2is50-2019-2020-homework-assignment-0-failin3\n2is50-2019-2020-homework-assignment-0-FinnRuijters\n2is50-2019-2020-homework-assignment-0-fllagami\n2is50-2019-2020-homework-assignment-0-gees1206\n2is50-2019-2020-homework-assignment-0-GiuliaFliescher\n2is50-2019-2020-homework-assignment-0-gzwaan\n2is50-2019-2020-homework-assignment-0-Harry-Verspagen\n2is50-2019-2020-homework-assignment-0-HDylanTV\n2is50-2019-2020-homework-assignment-0-HugovA\n2is50-2019-2020-homework-assignment-0-Huijun-ml\n2is50-2019-2020-homework-assignment-0-iliasdf\n2is50-2019-2020-homework-assignment-0-indra4837\n2is50-2019-2020-homework-assignment-0-jassiemijno\n2is50-2019-2020-homework-assignment-0-Jean-Lucvds\n2is50-2019-2020-homework-assignment-0-Jechwes\n2is50-2019-2020-homework-assignment-0-Jeroen921\n2is50-2019-2020-homework-assignment-0-Jessamydegraaf\n2is50-2019-2020-homework-assignment-0-jimmy001001\n2is50-2019-2020-homework-assignment-0-JLArellano16\n2is50-2019-2020-homework-assignment-0-joswillems635\n2is50-2019-2020-homework-assignment-0-jurriaanreichert\n2is50-2019-2020-homework-assignment-0-justinalittlefield\n2is50-2019-2020-homework-assignment-0-jxdamen\n2is50-2019-2020-homework-assignment-0-kajiewang\n2is50-2019-2020-homework-assignment-0-KKuiper12\n2is50-2019-2020-homework-assignment-0-Koendij\n2is50-2019-2020-homework-assignment-0-kvidelov\n2is50-2019-2020-homework-assignment-0-larsboon10\n2is50-2019-2020-homework-assignment-0-LarsMulder242\n2is50-2019-2020-homework-assignment-0-Laszlo-Roovers\n2is50-2019-2020-homework-assignment-0-LinTaw\n2is50-2019-2020-homework-assignment-0-Loebna\n2is50-2019-2020-homework-assignment-0-LoekVlooswijk\n2is50-2019-2020-homework-assignment-0-lol0rg\n2is50-2019-2020-homework-assignment-0-LucasvanBentum\n2is50-2019-2020-homework-assignment-0-Lucia2is50\n2is50-2019-2020-homework-assignment-0-LynnBosveld\n2is50-2019-2020-homework-assignment-0-Maartenminartz\n2is50-2019-2020-homework-assignment-0-mackees\n2is50-2019-2020-homework-assignment-0-mamjow\n2is50-2019-2020-homework-assignment-0-Marijn-dev\n2is50-2019-2020-homework-assignment-0-MartijnTuinstra\n2is50-2019-2020-homework-assignment-0-MatsErdkamp\n2is50-2019-2020-homework-assignment-0-mcbarella\n2is50-2019-2020-homework-assignment-0-MGAFatah\n2is50-2019-2020-homework-assignment-0-mgijsm\n2is50-2019-2020-homework-assignment-0-Michared\n2is50-2019-2020-homework-assignment-0-Mikaaa8\n2is50-2019-2020-homework-assignment-0-Musebashir\n2is50-2019-2020-homework-assignment-0-NickJeurissen\n2is50-2019-2020-homework-assignment-0-NielsVeenstraTue\n2is50-2019-2020-homework-assignment-0-Patrick6698\n2is50-2019-2020-homework-assignment-0-PatrikPat\n2is50-2019-2020-homework-assignment-0-Pieter-Goosen\n2is50-2019-2020-homework-assignment-0-Pietertue\n2is50-2019-2020-homework-assignment-0-pimhanssen\n2is50-2019-2020-homework-assignment-0-Poilerwags\n2is50-2019-2020-homework-assignment-0-QuintenTijn\n2is50-2019-2020-homework-assignment-0-R4vio\n2is50-2019-2020-homework-assignment-0-RickyTeunissen\n2is50-2019-2020-homework-assignment-0-RobertDevillers\n2is50-2019-2020-homework-assignment-0-RobHoogma\n2is50-2019-2020-homework-assignment-0-robinstuiver1\n2is50-2019-2020-homework-assignment-0-RoelWijnands\n2is50-2019-2020-homework-assignment-0-rogertian0707\n2is50-2019-2020-homework-assignment-0-royvdoorn\n2is50-2019-2020-homework-assignment-0-rvkupper\n2is50-2019-2020-homework-assignment-0-s149226\n2is50-2019-2020-homework-assignment-0-s165013\n2is50-2019-2020-homework-assignment-0-SabineHavermans\n2is50-2019-2020-homework-assignment-0-sakce\n2is50-2019-2020-homework-assignment-0-SanderDebets\n2is50-2019-2020-homework-assignment-0-savsteenbergen\n2is50-2019-2020-homework-assignment-0-sboonen\n2is50-2019-2020-homework-assignment-0-SCVW1868\n2is50-2019-2020-homework-assignment-0-SimonvanV\n2is50-2019-2020-homework-assignment-0-SjoerdKurstjens\n2is50-2019-2020-homework-assignment-0-Steefkuh\n2is50-2019-2020-homework-assignment-0-stefvdwielen\n2is50-2019-2020-homework-assignment-0-Stijnvandervoort\n2is50-2019-2020-homework-assignment-0-sus-avi\n2is50-2019-2020-homework-assignment-0-szabgab19\n2is50-2019-2020-homework-assignment-0-terunakanishi\n2is50-2019-2020-homework-assignment-0-TheoWitkamp\n2is50-2019-2020-homework-assignment-0-ThomasMuhren\n2is50-2019-2020-homework-assignment-0-ThorAbegg\n2is50-2019-2020-homework-assignment-0-ties-oosthoek\n2is50-2019-2020-homework-assignment-0-tijnvanderzwan\n2is50-2019-2020-homework-assignment-0-tim-tue\n2is50-2019-2020-homework-assignment-0-TobyHilpert\n2is50-2019-2020-homework-assignment-0-TomJanssen00\n2is50-2019-2020-homework-assignment-0-TwanSt01\n2is50-2019-2020-homework-assignment-0-vladerhan\n2is50-2019-2020-homework-assignment-0-willemsjob\n2is50-2019-2020-homework-assignment-0-XxEstherxX\n2is50-2019-2020-homework-assignment-0-yanbr\n2is50-2019-2020-homework-assignment-0-YouriMartin2001\n2is50-2019-2020-homework-assignment-0-YSmolders\n2is50-2019-2020-homework-assignment-0-ZephRuijters\n2is50-2019-2020-homework-assignment-1-52\n2is50-2019-2020-homework-assignment-1-ghost\n2is50-2019-2020-homework-assignment-1-mandelbrot-bryancghnus\n2is50-2019-2020-homework-assignment-1-mandelbrot-Chri5thiano\n2is50-2019-2020-homework-assignment-1-mandelbrot-debruss\n2is50-2019-2020-homework-assignment-1-mandelbrot-Erick-Hoogstrate\n2is50-2019-2020-homework-assignment-1-mandelbrot-RobertDevillers\n2is50-2019-2020-homework-assignment-1-me\n2is50-2019-2020-homework-assignment-1-pair-10\n2is50-2019-2020-homework-assignment-1-pair-11\n2is50-2019-2020-homework-assignment-1-pair-12\n2is50-2019-2020-homework-assignment-1-pair-13\n2is50-2019-2020-homework-assignment-1-pair-14\n2is50-2019-2020-homework-assignment-1-pair-15\n2is50-2019-2020-homework-assignment-1-pair-16\n2is50-2019-2020-homework-assignment-1-pair-17\n2is50-2019-2020-homework-assignment-1-pair-18\n2is50-2019-2020-homework-assignment-1-pair-19\n2is50-2019-2020-homework-assignment-1-pair-2\n2is50-2019-2020-homework-assignment-1-pair-20\n2is50-2019-2020-homework-assignment-1-pair-21\n2is50-2019-2020-homework-assignment-1-pair-22\n2is50-2019-2020-homework-assignment-1-pair-23\n2is50-2019-2020-homework-assignment-1-pair-24\n2is50-2019-2020-homework-assignment-1-pair-25\n2is50-2019-2020-homework-assignment-1-pair-26\n2is50-2019-2020-homework-assignment-1-pair-27\n2is50-2019-2020-homework-assignment-1-pair-28\n2is50-2019-2020-homework-assignment-1-pair-29\n2is50-2019-2020-homework-assignment-1-pair-3\n2is50-2019-2020-homework-assignment-1-pair-30\n2is50-2019-2020-homework-assignment-1-pair-31\n2is50-2019-2020-homework-assignment-1-pair-32\n2is50-2019-2020-homework-assignment-1-pair-33\n2is50-2019-2020-homework-assignment-1-pair-34\n2is50-2019-2020-homework-assignment-1-pair-35\n2is50-2019-2020-homework-assignment-1-pair-36\n2is50-2019-2020-homework-assignment-1-pair-38\n2is50-2019-2020-homework-assignment-1-pair-4\n2is50-2019-2020-homework-assignment-1-pair-40\n2is50-2019-2020-homework-assignment-1-pair-41\n2is50-2019-2020-homework-assignment-1-pair-42\n2is50-2019-2020-homework-assignment-1-pair-43\n2is50-2019-2020-homework-assignment-1-pair-44\n2is50-2019-2020-homework-assignment-1-pair-45\n2is50-2019-2020-homework-assignment-1-pair-46\n2is50-2019-2020-homework-assignment-1-pair-47\n2is50-2019-2020-homework-assignment-1-pair-49\n2is50-2019-2020-homework-assignment-1-pair-5\n2is50-2019-2020-homework-assignment-1-pair-50\n2is50-2019-2020-homework-assignment-1-pair-51\n2is50-2019-2020-homework-assignment-1-pair-53\n2is50-2019-2020-homework-assignment-1-pair-55\n2is50-2019-2020-homework-assignment-1-pair-57\n2is50-2019-2020-homework-assignment-1-pair-6\n2is50-2019-2020-homework-assignment-1-pair-60\n2is50-2019-2020-homework-assignment-1-pair-63\n2is50-2019-2020-homework-assignment-1-pair-65\n2is50-2019-2020-homework-assignment-1-pair-66\n2is50-2019-2020-homework-assignment-1-pair-69\n2is50-2019-2020-homework-assignment-1-pair-7\n2is50-2019-2020-homework-assignment-1-pair-70\n2is50-2019-2020-homework-assignment-1-pair-71\n2is50-2019-2020-homework-assignment-1-pair-72\n2is50-2019-2020-homework-assignment-1-pair-77\n2is50-2019-2020-homework-assignment-1-pair-8\n2is50-2019-2020-homework-assignment-1-pair-87\n2is50-2019-2020-homework-assignment-1-pair-88\n2is50-2019-2020-homework-assignment-1-pair-89\n2is50-2019-2020-homework-assignment-1-pair-9\n2is50-2019-2020-homework-assignment-1-pair-90\n2is50-2019-2020-homework-assignment-1-pair-with-ta\n2is50-2019-2020-homework-assignment-2-pair-1\n2is50-2019-2020-homework-assignment-2-pair-10\n2is50-2019-2020-homework-assignment-2-pair-11\n2is50-2019-2020-homework-assignment-2-pair-12\n2is50-2019-2020-homework-assignment-2-pair-13\n2is50-2019-2020-homework-assignment-2-pair-14\n2is50-2019-2020-homework-assignment-2-pair-15\n2is50-2019-2020-homework-assignment-2-pair-16\n2is50-2019-2020-homework-assignment-2-pair-17\n2is50-2019-2020-homework-assignment-2-pair-18\n2is50-2019-2020-homework-assignment-2-pair-2\n2is50-2019-2020-homework-assignment-2-pair-20\n2is50-2019-2020-homework-assignment-2-pair-21\n2is50-2019-2020-homework-assignment-2-pair-22\n2is50-2019-2020-homework-assignment-2-pair-23\n2is50-2019-2020-homework-assignment-2-pair-24\n2is50-2019-2020-homework-assignment-2-pair-25\n2is50-2019-2020-homework-assignment-2-pair-26\n2is50-2019-2020-homework-assignment-2-pair-27\n2is50-2019-2020-homework-assignment-2-pair-28\n2is50-2019-2020-homework-assignment-2-pair-29\n2is50-2019-2020-homework-assignment-2-pair-3\n2is50-2019-2020-homework-assignment-2-pair-30\n2is50-2019-2020-homework-assignment-2-pair-31\n2is50-2019-2020-homework-assignment-2-pair-32\n2is50-2019-2020-homework-assignment-2-pair-33\n2is50-2019-2020-homework-assignment-2-pair-34\n2is50-2019-2020-homework-assignment-2-pair-35\n2is50-2019-2020-homework-assignment-2-pair-36\n2is50-2019-2020-homework-assignment-2-pair-38\n2is50-2019-2020-homework-assignment-2-pair-4\n2is50-2019-2020-homework-assignment-2-pair-40\n2is50-2019-2020-homework-assignment-2-pair-41\n2is50-2019-2020-homework-assignment-2-pair-42\n2is50-2019-2020-homework-assignment-2-pair-43\n2is50-2019-2020-homework-assignment-2-pair-44\n2is50-2019-2020-homework-assignment-2-pair-45\n2is50-2019-2020-homework-assignment-2-pair-46\n2is50-2019-2020-homework-assignment-2-pair-47\n2is50-2019-2020-homework-assignment-2-pair-49\n2is50-2019-2020-homework-assignment-2-pair-5\n2is50-2019-2020-homework-assignment-2-pair-50\n2is50-2019-2020-homework-assignment-2-pair-51\n2is50-2019-2020-homework-assignment-2-pair-52\n2is50-2019-2020-homework-assignment-2-pair-53\n2is50-2019-2020-homework-assignment-2-pair-6\n2is50-2019-2020-homework-assignment-2-pair-60\n2is50-2019-2020-homework-assignment-2-pair-63\n2is50-2019-2020-homework-assignment-2-pair-65\n2is50-2019-2020-homework-assignment-2-pair-66\n2is50-2019-2020-homework-assignment-2-pair-69\n2is50-2019-2020-homework-assignment-2-pair-7\n2is50-2019-2020-homework-assignment-2-pair-70\n2is50-2019-2020-homework-assignment-2-pair-72\n2is50-2019-2020-homework-assignment-2-pair-77\n2is50-2019-2020-homework-assignment-2-pair-8\n2is50-2019-2020-homework-assignment-2-pair-80\n2is50-2019-2020-homework-assignment-2-pair-87\n2is50-2019-2020-homework-assignment-2-pair-88\n2is50-2019-2020-homework-assignment-2-pair-89\n2is50-2019-2020-homework-assignment-2-pair-9\n2is50-2019-2020-homework-assignment-2-pair-with-ta\nAssignment-1-21S50-Mandelbrot\nfoobar\nAdvent_of_Code_2019\nAPI_Visualization_SDE\nBokeh_GUI\nCNN_Diabetic_Retinopathy\nfoobar\nLinuxMint_SystemSettings\nstockmarket_app\nstudent_data_2020\nSystemConfiguration\nTwitter_Scraper\nDataChallenge1\nProcess-Mining-Business-Intelligence-Challenge\nVisTool\ndatachallenge-2\n"
    }
   ],
   "source": [
    "for i in test:\n",
    "    print(i.name)\n",
    "    if i.name == \"2is50-2019-2020-homework-assignment-2-pair-20\":\n",
    "        pair20 = i"
   ]
  },
  {
   "cell_type": "code",
   "execution_count": 23,
   "metadata": {},
   "outputs": [
    {
     "output_type": "execute_result",
     "data": {
      "text/plain": "Repository(full_name=\"2IS50/2is50-2019-2020-homework-assignment-2-pair-20\")"
     },
     "metadata": {},
     "execution_count": 23
    }
   ],
   "source": [
    "pair20"
   ]
  },
  {
   "cell_type": "code",
   "execution_count": 26,
   "metadata": {
    "tags": []
   },
   "outputs": [
    {
     "output_type": "stream",
     "name": "stdout",
     "text": "1\n2\n3\n4\n5\n6\n7\n8\n9\n10\n11\n12\n13\n14\n15\n16\n17\n18\n19\n20\n21\n22\n23\n24\n25\n26\n27\n28\n29\n30\n31\n32\n33\n34\n35\n36\n37\n38\n39\n40\n41\n42\n43\n44\n45\n46\n47\n48\n49\n50\n51\n52\n53\n54\n55\n56\n57\n58\n59\n60\n61\nTime to complete: 851.3139622211456\n"
    }
   ],
   "source": [
    "start = time.time()\n",
    "api_data = dataAPI(repos, '2is50-2019-2020-homework-assignment-2-pair-')\n",
    "end = time.time()\n",
    "print(\"Time to complete:\", end - start)"
   ]
  },
  {
   "cell_type": "code",
   "execution_count": 44,
   "metadata": {},
   "outputs": [],
   "source": [
    "df_data = pd.DataFrame(api_data)\n",
    "all_unique_pairs = df_data['Pair'].unique()"
   ]
  },
  {
   "cell_type": "code",
   "execution_count": 45,
   "metadata": {},
   "outputs": [],
   "source": [
    "grouped_data = df_data.groupby(by=['Pair','Date','Author']).describe()\n",
    "\n",
    "x = grouped_data['Additions'][['max']].reset_index()\n",
    "x['Deletions'] = grouped_data['Deletions'][['max']].reset_index()['max']\n",
    "x = x.rename(columns={'max': 'Additions'})\n",
    "grouped_data = x"
   ]
  },
  {
   "cell_type": "code",
   "execution_count": 46,
   "metadata": {},
   "outputs": [],
   "source": [
    "aggregated_list = []\n",
    "\n",
    "for pair in all_unique_pairs:\n",
    "\n",
    "    df_pair = grouped_data[grouped_data['Pair'] == pair]\n",
    "\n",
    "    members = df_pair['Author'].unique()\n",
    "\n",
    "    if len(members) == 2: # best scenario\n",
    "\n",
    "        for date in df_pair['Date'].unique():\n",
    "\n",
    "            df_pair_date = df_pair[df_pair['Date'] == date]\n",
    "            m_1 = df_pair_date[df_pair_date['Author'] == members[0]]\n",
    "            m_2 = df_pair_date[df_pair_date['Author'] == members[1]]\n",
    "\n",
    "            m1_additions = df_pair_date[df_pair_date['Author'] == members[0]]['Additions'].sum()\n",
    "            m2_additions = df_pair_date[df_pair_date['Author'] == members[1]]['Additions'].sum()\n",
    "\n",
    "            m1_deletions = df_pair_date[df_pair_date['Author'] == members[0]]['Deletions'].sum()\n",
    "            m2_deletions = df_pair_date[df_pair_date['Author'] == members[1]]['Deletions'].sum()\n",
    "\n",
    "\n",
    "            aggregated_list.append([pair, date, m1_additions, m2_additions, m1_deletions, m2_deletions])\n",
    "\n",
    "    elif len(members) > 2: \n",
    "\n",
    "        custom_more = []\n",
    "\n",
    "        for date in df_pair['Date'].unique():\n",
    "\n",
    "            df_pair_date = df_pair[df_pair['Date'] == date]\n",
    "\n",
    "            m1_additions = df_pair_date[df_pair_date['Author'] == members[0]]['Additions'].sum()\n",
    "            m2_additions = df_pair_date[df_pair_date['Author'] == members[1]]['Additions'].sum()\n",
    "            m2_additions += df_pair_date[df_pair_date['Author'] == members[2]]['Additions'].sum()\n",
    "\n",
    "\n",
    "            m1_deletions = df_pair_date[df_pair_date['Author'] == members[0]]['Deletions'].sum()\n",
    "            m2_deletions = df_pair_date[df_pair_date['Author'] == members[1]]['Deletions'].sum()\n",
    "            m2_deletions += df_pair_date[df_pair_date['Author'] == members[2]]['Deletions'].sum()\n",
    "\n",
    "            custom_more.append([pair, date, m1_additions, m2_additions, m1_deletions, m2_deletions])\n",
    "\n",
    "        aggregated_list += custom_more \n",
    "\n",
    "    elif len(members) < 2: \n",
    "\n",
    "        custom_less = []\n",
    "\n",
    "        for date in df_pair['Date'].unique():\n",
    "\n",
    "            df_pair_date = df_pair[df_pair['Date'] == date]\n",
    "\n",
    "            m1_additions = df_pair_date[df_pair_date['Author'] == members[0]]['Additions'].sum()\n",
    "            m2_additions = 0\n",
    "\n",
    "            m1_deletions = df_pair_date[df_pair_date['Author'] == members[0]]['Deletions'].sum()\n",
    "            m2_deletions = 0\n",
    "\n",
    "            custom_less.append([pair, date, m1_additions, m2_additions, m1_deletions, m2_deletions])\n",
    "\n",
    "        aggregated_list += custom_less"
   ]
  },
  {
   "cell_type": "code",
   "execution_count": 47,
   "metadata": {},
   "outputs": [],
   "source": [
    "cols = ['Pair', 'Date', 'M1_Additions', 'M2_Additions', 'M1_deletions', 'M2_deletions']\n",
    "df_aggregated_member = pd.DataFrame(aggregated_list, columns=cols).sort_values(by='Pair')"
   ]
  },
  {
   "cell_type": "code",
   "execution_count": 48,
   "metadata": {},
   "outputs": [],
   "source": [
    "df_total_size = df_aggregated_member#[['Pair', 'Date']]\n",
    "df_total_size['Member_1'] = df_aggregated_member['M1_Additions'] + df_aggregated_member['M1_deletions']\n",
    "df_total_size['Member_2'] = df_aggregated_member['M2_Additions'] + df_aggregated_member['M2_deletions']\n",
    "df_total_size['Total'] = df_total_size['Member_1'] + df_total_size['Member_2']\n",
    "df_total_size.to_csv(\"../data/commit_sizes_ha2.csv\", index=False) "
   ]
  }
 ],
 "metadata": {
  "language_info": {
   "codemirror_mode": {
    "name": "ipython",
    "version": 3
   },
   "file_extension": ".py",
   "mimetype": "text/x-python",
   "name": "python",
   "nbconvert_exporter": "python",
   "pygments_lexer": "ipython3",
   "version": "3.8.3-final"
  },
  "orig_nbformat": 2,
  "kernelspec": {
   "name": "python38364bitvenvvirtualenv9952826a39b342408aef60a1198f5adf",
   "display_name": "Python 3.8.3 64-bit ('venv': virtualenv)"
  }
 },
 "nbformat": 4,
 "nbformat_minor": 2
}