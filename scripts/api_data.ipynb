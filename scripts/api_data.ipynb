{
 "cells": [
  {
   "cell_type": "code",
   "execution_count": 2,
   "metadata": {},
   "outputs": [],
   "source": [
    "import os\n",
    "import pandas as pd\n",
    "from github import Github\n",
    "from credentials import username, password\n",
    "from githubAPI_scrape import scrapeAPI"
   ]
  },
  {
   "cell_type": "code",
   "execution_count": 3,
   "metadata": {},
   "outputs": [],
   "source": [
    "g = Github(username(), password())  # credentials for github login\n",
    "repos = g.get_user().get_repos()  # iterable; all the repos associated with the profile incl. organizations"
   ]
  },
  {
   "cell_type": "code",
   "execution_count": 4,
   "metadata": {},
   "outputs": [],
   "source": [
    "ha_1 = '2is50-2019-2020-homework-assignment-1-pair-'  # repos to filter for; \n",
    "ha_len = len('2is50-2019-2020-homework-assignment-1-')  # will be used for retrieving pair# by indexing\n",
    "staff_ids = ['sakce', 'kvidelov', 'mackees', 'sakehl', 'thatmariia', 'wstomv', 'sansteTUe', 'HDylanTV', 'gzwaan', 'dmarinissen']\n",
    "\n",
    "pair_numb = []\n",
    "authors = []\n",
    "emails = []\n",
    "date_time = []\n",
    "commit_messages = []"
   ]
  },
  {
   "cell_type": "code",
   "execution_count": 25,
   "metadata": {},
   "outputs": [
    {
     "output_type": "stream",
     "name": "stdout",
     "text": "\n 2is50-2019-2020-homework-assignment-1-pair-10\nCommit Commit(sha=\"6fba18aa17a7dd42c800ef4e65657873ac1083bb\") Date 2020-05-17 13:40:17\nAuthor GiuliaFliescher\nAdditions 13\nDeletions 5\nCommit Commit(sha=\"a5709ab3ae73ff97813b374f3e1ffc833b044a3d\") Date 2020-05-17 13:39:51\nAuthor GiuliaFliescher\nAdditions 1\nDeletions 5\nCommit Commit(sha=\"b4bcb7bfd9e15cd9b8f54681f5ef5736740a289d\") Date 2020-05-17 13:13:38\nAuthor GiuliaFliescher\nAdditions 0\nDeletions 0\nCommit Commit(sha=\"30b4abef9dea29d96d33edbfbdeebeed3920082d\") Date 2020-05-17 13:13:06\nAuthor GiuliaFliescher\nAdditions 1\nDeletions 1\nCommit Commit(sha=\"adbdff7827cfca9c49365b82faafeb1f0bf92f07\") Date 2020-05-17 13:02:50\nAuthor GiuliaFliescher\nAdditions 7\nDeletions 0\nCommit Commit(sha=\"16e3192f594b4091f4a23360de402c142ac43205\") Date 2020-05-17 13:02:12\nAuthor GiuliaFliescher\nAdditions 53\nDeletions 7\nCommit Commit(sha=\"0cea82c6b35835c5c0afe7b19f56fd3bc7f07780\") Date 2020-05-13 10:16:42\nAuthor Dravurius\nAdditions 22\nDeletions 2\nCommit Commit(sha=\"07d9d8790bae03c5a62319b72387ab9af9110d2f\") Date 2020-05-13 09:33:37\nAuthor Dravurius\nAdditions 30\nDeletions 64\nCommit Commit(sha=\"385f18264c51cc064dd5181eb9b4e40f24305121\") Date 2020-05-12 21:18:22\nAuthor Dravurius\nAdditions 40\nDeletions 8\nCommit Commit(sha=\"d05df4630aa0440409b1a5e8fc6be9141deaed43\") Date 2020-05-12 14:32:25\nAuthor GiuliaFliescher\nAdditions 42\nDeletions 1\nCommit Commit(sha=\"fa62afcff35c7764eb6dae6215a1d53a219734d7\") Date 2020-05-08 09:05:50\nAuthor Dravurius\nAdditions 0\nDeletions 0\n"
    },
    {
     "output_type": "error",
     "ename": "KeyboardInterrupt",
     "evalue": "",
     "traceback": [
      "\u001b[0;31m---------------------------------------------------------------------------\u001b[0m",
      "\u001b[0;31mKeyboardInterrupt\u001b[0m                         Traceback (most recent call last)",
      "\u001b[0;32m<ipython-input-25-7d0c8adba7b6>\u001b[0m in \u001b[0;36m<module>\u001b[0;34m\u001b[0m\n\u001b[1;32m     11\u001b[0m         \u001b[0;32mfor\u001b[0m \u001b[0mcommit\u001b[0m \u001b[0;32min\u001b[0m \u001b[0mrepo_commits\u001b[0m\u001b[0;34m:\u001b[0m\u001b[0;34m\u001b[0m\u001b[0;34m\u001b[0m\u001b[0m\n\u001b[1;32m     12\u001b[0m \u001b[0;34m\u001b[0m\u001b[0m\n\u001b[0;32m---> 13\u001b[0;31m             \u001b[0mcommit_files\u001b[0m \u001b[0;34m=\u001b[0m \u001b[0mcommit\u001b[0m\u001b[0;34m.\u001b[0m\u001b[0mfiles\u001b[0m\u001b[0;34m\u001b[0m\u001b[0;34m\u001b[0m\u001b[0m\n\u001b[0m\u001b[1;32m     14\u001b[0m             \u001b[0mcommit_additions\u001b[0m \u001b[0;34m=\u001b[0m \u001b[0;36m0\u001b[0m\u001b[0;34m\u001b[0m\u001b[0;34m\u001b[0m\u001b[0m\n\u001b[1;32m     15\u001b[0m             \u001b[0mcommit_deletions\u001b[0m \u001b[0;34m=\u001b[0m \u001b[0;36m0\u001b[0m\u001b[0;34m\u001b[0m\u001b[0;34m\u001b[0m\u001b[0m\n",
      "\u001b[0;32m~/Desktop/Projects/SDE_Dashboard/venv/lib/python3.6/site-packages/github/Commit.py\u001b[0m in \u001b[0;36mfiles\u001b[0;34m(self)\u001b[0m\n\u001b[1;32m     89\u001b[0m         \u001b[0;34m:\u001b[0m\u001b[0mtype\u001b[0m\u001b[0;34m:\u001b[0m \u001b[0mlist\u001b[0m \u001b[0mof\u001b[0m \u001b[0;34m:\u001b[0m\u001b[0;32mclass\u001b[0m\u001b[0;34m:\u001b[0m\u001b[0;31m`\u001b[0m\u001b[0mgithub\u001b[0m\u001b[0;34m.\u001b[0m\u001b[0mFile\u001b[0m\u001b[0;34m.\u001b[0m\u001b[0mFile\u001b[0m\u001b[0;31m`\u001b[0m\u001b[0;34m\u001b[0m\u001b[0;34m\u001b[0m\u001b[0m\n\u001b[1;32m     90\u001b[0m         \"\"\"\n\u001b[0;32m---> 91\u001b[0;31m         \u001b[0mself\u001b[0m\u001b[0;34m.\u001b[0m\u001b[0m_completeIfNotSet\u001b[0m\u001b[0;34m(\u001b[0m\u001b[0mself\u001b[0m\u001b[0;34m.\u001b[0m\u001b[0m_files\u001b[0m\u001b[0;34m)\u001b[0m\u001b[0;34m\u001b[0m\u001b[0;34m\u001b[0m\u001b[0m\n\u001b[0m\u001b[1;32m     92\u001b[0m         \u001b[0;32mreturn\u001b[0m \u001b[0mself\u001b[0m\u001b[0;34m.\u001b[0m\u001b[0m_files\u001b[0m\u001b[0;34m.\u001b[0m\u001b[0mvalue\u001b[0m\u001b[0;34m\u001b[0m\u001b[0;34m\u001b[0m\u001b[0m\n\u001b[1;32m     93\u001b[0m \u001b[0;34m\u001b[0m\u001b[0m\n",
      "\u001b[0;32m~/Desktop/Projects/SDE_Dashboard/venv/lib/python3.6/site-packages/github/GithubObject.py\u001b[0m in \u001b[0;36m_completeIfNotSet\u001b[0;34m(self, value)\u001b[0m\n\u001b[1;32m    297\u001b[0m     \u001b[0;32mdef\u001b[0m \u001b[0m_completeIfNotSet\u001b[0m\u001b[0;34m(\u001b[0m\u001b[0mself\u001b[0m\u001b[0;34m,\u001b[0m \u001b[0mvalue\u001b[0m\u001b[0;34m)\u001b[0m\u001b[0;34m:\u001b[0m\u001b[0;34m\u001b[0m\u001b[0;34m\u001b[0m\u001b[0m\n\u001b[1;32m    298\u001b[0m         \u001b[0;32mif\u001b[0m \u001b[0mvalue\u001b[0m \u001b[0;32mis\u001b[0m \u001b[0mNotSet\u001b[0m\u001b[0;34m:\u001b[0m\u001b[0;34m\u001b[0m\u001b[0;34m\u001b[0m\u001b[0m\n\u001b[0;32m--> 299\u001b[0;31m             \u001b[0mself\u001b[0m\u001b[0;34m.\u001b[0m\u001b[0m_completeIfNeeded\u001b[0m\u001b[0;34m(\u001b[0m\u001b[0;34m)\u001b[0m\u001b[0;34m\u001b[0m\u001b[0;34m\u001b[0m\u001b[0m\n\u001b[0m\u001b[1;32m    300\u001b[0m \u001b[0;34m\u001b[0m\u001b[0m\n\u001b[1;32m    301\u001b[0m     \u001b[0;32mdef\u001b[0m \u001b[0m_completeIfNeeded\u001b[0m\u001b[0;34m(\u001b[0m\u001b[0mself\u001b[0m\u001b[0;34m)\u001b[0m\u001b[0;34m:\u001b[0m\u001b[0;34m\u001b[0m\u001b[0;34m\u001b[0m\u001b[0m\n",
      "\u001b[0;32m~/Desktop/Projects/SDE_Dashboard/venv/lib/python3.6/site-packages/github/GithubObject.py\u001b[0m in \u001b[0;36m_completeIfNeeded\u001b[0;34m(self)\u001b[0m\n\u001b[1;32m    301\u001b[0m     \u001b[0;32mdef\u001b[0m \u001b[0m_completeIfNeeded\u001b[0m\u001b[0;34m(\u001b[0m\u001b[0mself\u001b[0m\u001b[0;34m)\u001b[0m\u001b[0;34m:\u001b[0m\u001b[0;34m\u001b[0m\u001b[0;34m\u001b[0m\u001b[0m\n\u001b[1;32m    302\u001b[0m         \u001b[0;32mif\u001b[0m \u001b[0;32mnot\u001b[0m \u001b[0mself\u001b[0m\u001b[0;34m.\u001b[0m\u001b[0m__completed\u001b[0m\u001b[0;34m:\u001b[0m\u001b[0;34m\u001b[0m\u001b[0;34m\u001b[0m\u001b[0m\n\u001b[0;32m--> 303\u001b[0;31m             \u001b[0mself\u001b[0m\u001b[0;34m.\u001b[0m\u001b[0m__complete\u001b[0m\u001b[0;34m(\u001b[0m\u001b[0;34m)\u001b[0m\u001b[0;34m\u001b[0m\u001b[0;34m\u001b[0m\u001b[0m\n\u001b[0m\u001b[1;32m    304\u001b[0m \u001b[0;34m\u001b[0m\u001b[0m\n\u001b[1;32m    305\u001b[0m     \u001b[0;32mdef\u001b[0m \u001b[0m__complete\u001b[0m\u001b[0;34m(\u001b[0m\u001b[0mself\u001b[0m\u001b[0;34m)\u001b[0m\u001b[0;34m:\u001b[0m\u001b[0;34m\u001b[0m\u001b[0;34m\u001b[0m\u001b[0m\n",
      "\u001b[0;32m~/Desktop/Projects/SDE_Dashboard/venv/lib/python3.6/site-packages/github/GithubObject.py\u001b[0m in \u001b[0;36m__complete\u001b[0;34m(self)\u001b[0m\n\u001b[1;32m    308\u001b[0m                 \u001b[0;36m400\u001b[0m\u001b[0;34m,\u001b[0m \u001b[0;34m\"Returned object contains no URL\"\u001b[0m\u001b[0;34m\u001b[0m\u001b[0;34m\u001b[0m\u001b[0m\n\u001b[1;32m    309\u001b[0m             )\n\u001b[0;32m--> 310\u001b[0;31m         \u001b[0mheaders\u001b[0m\u001b[0;34m,\u001b[0m \u001b[0mdata\u001b[0m \u001b[0;34m=\u001b[0m \u001b[0mself\u001b[0m\u001b[0;34m.\u001b[0m\u001b[0m_requester\u001b[0m\u001b[0;34m.\u001b[0m\u001b[0mrequestJsonAndCheck\u001b[0m\u001b[0;34m(\u001b[0m\u001b[0;34m\"GET\"\u001b[0m\u001b[0;34m,\u001b[0m \u001b[0mself\u001b[0m\u001b[0;34m.\u001b[0m\u001b[0m_url\u001b[0m\u001b[0;34m.\u001b[0m\u001b[0mvalue\u001b[0m\u001b[0;34m)\u001b[0m\u001b[0;34m\u001b[0m\u001b[0;34m\u001b[0m\u001b[0m\n\u001b[0m\u001b[1;32m    311\u001b[0m         \u001b[0mself\u001b[0m\u001b[0;34m.\u001b[0m\u001b[0m_storeAndUseAttributes\u001b[0m\u001b[0;34m(\u001b[0m\u001b[0mheaders\u001b[0m\u001b[0;34m,\u001b[0m \u001b[0mdata\u001b[0m\u001b[0;34m)\u001b[0m\u001b[0;34m\u001b[0m\u001b[0;34m\u001b[0m\u001b[0m\n\u001b[1;32m    312\u001b[0m         \u001b[0mself\u001b[0m\u001b[0;34m.\u001b[0m\u001b[0m__completed\u001b[0m \u001b[0;34m=\u001b[0m \u001b[0;32mTrue\u001b[0m\u001b[0;34m\u001b[0m\u001b[0;34m\u001b[0m\u001b[0m\n",
      "\u001b[0;32m~/Desktop/Projects/SDE_Dashboard/venv/lib/python3.6/site-packages/github/Requester.py\u001b[0m in \u001b[0;36mrequestJsonAndCheck\u001b[0;34m(self, verb, url, parameters, headers, input)\u001b[0m\n\u001b[1;32m    317\u001b[0m         return self.__check(\n\u001b[1;32m    318\u001b[0m             *self.requestJson(\n\u001b[0;32m--> 319\u001b[0;31m                 \u001b[0mverb\u001b[0m\u001b[0;34m,\u001b[0m \u001b[0murl\u001b[0m\u001b[0;34m,\u001b[0m \u001b[0mparameters\u001b[0m\u001b[0;34m,\u001b[0m \u001b[0mheaders\u001b[0m\u001b[0;34m,\u001b[0m \u001b[0minput\u001b[0m\u001b[0;34m,\u001b[0m \u001b[0mself\u001b[0m\u001b[0;34m.\u001b[0m\u001b[0m__customConnection\u001b[0m\u001b[0;34m(\u001b[0m\u001b[0murl\u001b[0m\u001b[0;34m)\u001b[0m\u001b[0;34m\u001b[0m\u001b[0;34m\u001b[0m\u001b[0m\n\u001b[0m\u001b[1;32m    320\u001b[0m             )\n\u001b[1;32m    321\u001b[0m         )\n",
      "\u001b[0;32m~/Desktop/Projects/SDE_Dashboard/venv/lib/python3.6/site-packages/github/Requester.py\u001b[0m in \u001b[0;36mrequestJson\u001b[0;34m(self, verb, url, parameters, headers, input, cnx)\u001b[0m\n\u001b[1;32m    408\u001b[0m             \u001b[0;32mreturn\u001b[0m \u001b[0;34m\"application/json\"\u001b[0m\u001b[0;34m,\u001b[0m \u001b[0mjson\u001b[0m\u001b[0;34m.\u001b[0m\u001b[0mdumps\u001b[0m\u001b[0;34m(\u001b[0m\u001b[0minput\u001b[0m\u001b[0;34m)\u001b[0m\u001b[0;34m\u001b[0m\u001b[0;34m\u001b[0m\u001b[0m\n\u001b[1;32m    409\u001b[0m \u001b[0;34m\u001b[0m\u001b[0m\n\u001b[0;32m--> 410\u001b[0;31m         \u001b[0;32mreturn\u001b[0m \u001b[0mself\u001b[0m\u001b[0;34m.\u001b[0m\u001b[0m__requestEncode\u001b[0m\u001b[0;34m(\u001b[0m\u001b[0mcnx\u001b[0m\u001b[0;34m,\u001b[0m \u001b[0mverb\u001b[0m\u001b[0;34m,\u001b[0m \u001b[0murl\u001b[0m\u001b[0;34m,\u001b[0m \u001b[0mparameters\u001b[0m\u001b[0;34m,\u001b[0m \u001b[0mheaders\u001b[0m\u001b[0;34m,\u001b[0m \u001b[0minput\u001b[0m\u001b[0;34m,\u001b[0m \u001b[0mencode\u001b[0m\u001b[0;34m)\u001b[0m\u001b[0;34m\u001b[0m\u001b[0;34m\u001b[0m\u001b[0m\n\u001b[0m\u001b[1;32m    411\u001b[0m \u001b[0;34m\u001b[0m\u001b[0m\n\u001b[1;32m    412\u001b[0m     def requestMultipart(\n",
      "\u001b[0;32m~/Desktop/Projects/SDE_Dashboard/venv/lib/python3.6/site-packages/github/Requester.py\u001b[0m in \u001b[0;36m__requestEncode\u001b[0;34m(self, cnx, verb, url, parameters, requestHeaders, input, encode)\u001b[0m\n\u001b[1;32m    470\u001b[0m \u001b[0;34m\u001b[0m\u001b[0m\n\u001b[1;32m    471\u001b[0m         status, responseHeaders, output = self.__requestRaw(\n\u001b[0;32m--> 472\u001b[0;31m             \u001b[0mcnx\u001b[0m\u001b[0;34m,\u001b[0m \u001b[0mverb\u001b[0m\u001b[0;34m,\u001b[0m \u001b[0murl\u001b[0m\u001b[0;34m,\u001b[0m \u001b[0mrequestHeaders\u001b[0m\u001b[0;34m,\u001b[0m \u001b[0mencoded_input\u001b[0m\u001b[0;34m\u001b[0m\u001b[0;34m\u001b[0m\u001b[0m\n\u001b[0m\u001b[1;32m    473\u001b[0m         )\n\u001b[1;32m    474\u001b[0m \u001b[0;34m\u001b[0m\u001b[0m\n",
      "\u001b[0;32m~/Desktop/Projects/SDE_Dashboard/venv/lib/python3.6/site-packages/github/Requester.py\u001b[0m in \u001b[0;36m__requestRaw\u001b[0;34m(self, cnx, verb, url, requestHeaders, input)\u001b[0m\n\u001b[1;32m    496\u001b[0m             \u001b[0mcnx\u001b[0m \u001b[0;34m=\u001b[0m \u001b[0mself\u001b[0m\u001b[0;34m.\u001b[0m\u001b[0m__createConnection\u001b[0m\u001b[0;34m(\u001b[0m\u001b[0;34m)\u001b[0m\u001b[0;34m\u001b[0m\u001b[0;34m\u001b[0m\u001b[0m\n\u001b[1;32m    497\u001b[0m         \u001b[0mcnx\u001b[0m\u001b[0;34m.\u001b[0m\u001b[0mrequest\u001b[0m\u001b[0;34m(\u001b[0m\u001b[0mverb\u001b[0m\u001b[0;34m,\u001b[0m \u001b[0murl\u001b[0m\u001b[0;34m,\u001b[0m \u001b[0minput\u001b[0m\u001b[0;34m,\u001b[0m \u001b[0mrequestHeaders\u001b[0m\u001b[0;34m)\u001b[0m\u001b[0;34m\u001b[0m\u001b[0;34m\u001b[0m\u001b[0m\n\u001b[0;32m--> 498\u001b[0;31m         \u001b[0mresponse\u001b[0m \u001b[0;34m=\u001b[0m \u001b[0mcnx\u001b[0m\u001b[0;34m.\u001b[0m\u001b[0mgetresponse\u001b[0m\u001b[0;34m(\u001b[0m\u001b[0;34m)\u001b[0m\u001b[0;34m\u001b[0m\u001b[0;34m\u001b[0m\u001b[0m\n\u001b[0m\u001b[1;32m    499\u001b[0m \u001b[0;34m\u001b[0m\u001b[0m\n\u001b[1;32m    500\u001b[0m         \u001b[0mstatus\u001b[0m \u001b[0;34m=\u001b[0m \u001b[0mresponse\u001b[0m\u001b[0;34m.\u001b[0m\u001b[0mstatus\u001b[0m\u001b[0;34m\u001b[0m\u001b[0;34m\u001b[0m\u001b[0m\n",
      "\u001b[0;32m~/Desktop/Projects/SDE_Dashboard/venv/lib/python3.6/site-packages/github/Requester.py\u001b[0m in \u001b[0;36mgetresponse\u001b[0;34m(self)\u001b[0m\n\u001b[1;32m    114\u001b[0m             \u001b[0mtimeout\u001b[0m\u001b[0;34m=\u001b[0m\u001b[0mself\u001b[0m\u001b[0;34m.\u001b[0m\u001b[0mtimeout\u001b[0m\u001b[0;34m,\u001b[0m\u001b[0;34m\u001b[0m\u001b[0;34m\u001b[0m\u001b[0m\n\u001b[1;32m    115\u001b[0m             \u001b[0mverify\u001b[0m\u001b[0;34m=\u001b[0m\u001b[0mself\u001b[0m\u001b[0;34m.\u001b[0m\u001b[0mverify\u001b[0m\u001b[0;34m,\u001b[0m\u001b[0;34m\u001b[0m\u001b[0;34m\u001b[0m\u001b[0m\n\u001b[0;32m--> 116\u001b[0;31m             \u001b[0mallow_redirects\u001b[0m\u001b[0;34m=\u001b[0m\u001b[0;32mFalse\u001b[0m\u001b[0;34m,\u001b[0m\u001b[0;34m\u001b[0m\u001b[0;34m\u001b[0m\u001b[0m\n\u001b[0m\u001b[1;32m    117\u001b[0m         )\n\u001b[1;32m    118\u001b[0m         \u001b[0;32mreturn\u001b[0m \u001b[0mRequestsResponse\u001b[0m\u001b[0;34m(\u001b[0m\u001b[0mr\u001b[0m\u001b[0;34m)\u001b[0m\u001b[0;34m\u001b[0m\u001b[0;34m\u001b[0m\u001b[0m\n",
      "\u001b[0;32m~/Desktop/Projects/SDE_Dashboard/venv/lib/python3.6/site-packages/requests/sessions.py\u001b[0m in \u001b[0;36mget\u001b[0;34m(self, url, **kwargs)\u001b[0m\n\u001b[1;32m    541\u001b[0m \u001b[0;34m\u001b[0m\u001b[0m\n\u001b[1;32m    542\u001b[0m         \u001b[0mkwargs\u001b[0m\u001b[0;34m.\u001b[0m\u001b[0msetdefault\u001b[0m\u001b[0;34m(\u001b[0m\u001b[0;34m'allow_redirects'\u001b[0m\u001b[0;34m,\u001b[0m \u001b[0;32mTrue\u001b[0m\u001b[0;34m)\u001b[0m\u001b[0;34m\u001b[0m\u001b[0;34m\u001b[0m\u001b[0m\n\u001b[0;32m--> 543\u001b[0;31m         \u001b[0;32mreturn\u001b[0m \u001b[0mself\u001b[0m\u001b[0;34m.\u001b[0m\u001b[0mrequest\u001b[0m\u001b[0;34m(\u001b[0m\u001b[0;34m'GET'\u001b[0m\u001b[0;34m,\u001b[0m \u001b[0murl\u001b[0m\u001b[0;34m,\u001b[0m \u001b[0;34m**\u001b[0m\u001b[0mkwargs\u001b[0m\u001b[0;34m)\u001b[0m\u001b[0;34m\u001b[0m\u001b[0;34m\u001b[0m\u001b[0m\n\u001b[0m\u001b[1;32m    544\u001b[0m \u001b[0;34m\u001b[0m\u001b[0m\n\u001b[1;32m    545\u001b[0m     \u001b[0;32mdef\u001b[0m \u001b[0moptions\u001b[0m\u001b[0;34m(\u001b[0m\u001b[0mself\u001b[0m\u001b[0;34m,\u001b[0m \u001b[0murl\u001b[0m\u001b[0;34m,\u001b[0m \u001b[0;34m**\u001b[0m\u001b[0mkwargs\u001b[0m\u001b[0;34m)\u001b[0m\u001b[0;34m:\u001b[0m\u001b[0;34m\u001b[0m\u001b[0;34m\u001b[0m\u001b[0m\n",
      "\u001b[0;32m~/Desktop/Projects/SDE_Dashboard/venv/lib/python3.6/site-packages/requests/sessions.py\u001b[0m in \u001b[0;36mrequest\u001b[0;34m(self, method, url, params, data, headers, cookies, files, auth, timeout, allow_redirects, proxies, hooks, stream, verify, cert, json)\u001b[0m\n\u001b[1;32m    528\u001b[0m         }\n\u001b[1;32m    529\u001b[0m         \u001b[0msend_kwargs\u001b[0m\u001b[0;34m.\u001b[0m\u001b[0mupdate\u001b[0m\u001b[0;34m(\u001b[0m\u001b[0msettings\u001b[0m\u001b[0;34m)\u001b[0m\u001b[0;34m\u001b[0m\u001b[0;34m\u001b[0m\u001b[0m\n\u001b[0;32m--> 530\u001b[0;31m         \u001b[0mresp\u001b[0m \u001b[0;34m=\u001b[0m \u001b[0mself\u001b[0m\u001b[0;34m.\u001b[0m\u001b[0msend\u001b[0m\u001b[0;34m(\u001b[0m\u001b[0mprep\u001b[0m\u001b[0;34m,\u001b[0m \u001b[0;34m**\u001b[0m\u001b[0msend_kwargs\u001b[0m\u001b[0;34m)\u001b[0m\u001b[0;34m\u001b[0m\u001b[0;34m\u001b[0m\u001b[0m\n\u001b[0m\u001b[1;32m    531\u001b[0m \u001b[0;34m\u001b[0m\u001b[0m\n\u001b[1;32m    532\u001b[0m         \u001b[0;32mreturn\u001b[0m \u001b[0mresp\u001b[0m\u001b[0;34m\u001b[0m\u001b[0;34m\u001b[0m\u001b[0m\n",
      "\u001b[0;32m~/Desktop/Projects/SDE_Dashboard/venv/lib/python3.6/site-packages/requests/sessions.py\u001b[0m in \u001b[0;36msend\u001b[0;34m(self, request, **kwargs)\u001b[0m\n\u001b[1;32m    641\u001b[0m \u001b[0;34m\u001b[0m\u001b[0m\n\u001b[1;32m    642\u001b[0m         \u001b[0;31m# Send the request\u001b[0m\u001b[0;34m\u001b[0m\u001b[0;34m\u001b[0m\u001b[0;34m\u001b[0m\u001b[0m\n\u001b[0;32m--> 643\u001b[0;31m         \u001b[0mr\u001b[0m \u001b[0;34m=\u001b[0m \u001b[0madapter\u001b[0m\u001b[0;34m.\u001b[0m\u001b[0msend\u001b[0m\u001b[0;34m(\u001b[0m\u001b[0mrequest\u001b[0m\u001b[0;34m,\u001b[0m \u001b[0;34m**\u001b[0m\u001b[0mkwargs\u001b[0m\u001b[0;34m)\u001b[0m\u001b[0;34m\u001b[0m\u001b[0;34m\u001b[0m\u001b[0m\n\u001b[0m\u001b[1;32m    644\u001b[0m \u001b[0;34m\u001b[0m\u001b[0m\n\u001b[1;32m    645\u001b[0m         \u001b[0;31m# Total elapsed time of the request (approximately)\u001b[0m\u001b[0;34m\u001b[0m\u001b[0;34m\u001b[0m\u001b[0;34m\u001b[0m\u001b[0m\n",
      "\u001b[0;32m~/Desktop/Projects/SDE_Dashboard/venv/lib/python3.6/site-packages/requests/adapters.py\u001b[0m in \u001b[0;36msend\u001b[0;34m(self, request, stream, timeout, verify, cert, proxies)\u001b[0m\n\u001b[1;32m    447\u001b[0m                     \u001b[0mdecode_content\u001b[0m\u001b[0;34m=\u001b[0m\u001b[0;32mFalse\u001b[0m\u001b[0;34m,\u001b[0m\u001b[0;34m\u001b[0m\u001b[0;34m\u001b[0m\u001b[0m\n\u001b[1;32m    448\u001b[0m                     \u001b[0mretries\u001b[0m\u001b[0;34m=\u001b[0m\u001b[0mself\u001b[0m\u001b[0;34m.\u001b[0m\u001b[0mmax_retries\u001b[0m\u001b[0;34m,\u001b[0m\u001b[0;34m\u001b[0m\u001b[0;34m\u001b[0m\u001b[0m\n\u001b[0;32m--> 449\u001b[0;31m                     \u001b[0mtimeout\u001b[0m\u001b[0;34m=\u001b[0m\u001b[0mtimeout\u001b[0m\u001b[0;34m\u001b[0m\u001b[0;34m\u001b[0m\u001b[0m\n\u001b[0m\u001b[1;32m    450\u001b[0m                 )\n\u001b[1;32m    451\u001b[0m \u001b[0;34m\u001b[0m\u001b[0m\n",
      "\u001b[0;32m~/Desktop/Projects/SDE_Dashboard/venv/lib/python3.6/site-packages/urllib3/connectionpool.py\u001b[0m in \u001b[0;36murlopen\u001b[0;34m(self, method, url, body, headers, retries, redirect, assert_same_host, timeout, pool_timeout, release_conn, chunked, body_pos, **response_kw)\u001b[0m\n\u001b[1;32m    675\u001b[0m                 \u001b[0mbody\u001b[0m\u001b[0;34m=\u001b[0m\u001b[0mbody\u001b[0m\u001b[0;34m,\u001b[0m\u001b[0;34m\u001b[0m\u001b[0;34m\u001b[0m\u001b[0m\n\u001b[1;32m    676\u001b[0m                 \u001b[0mheaders\u001b[0m\u001b[0;34m=\u001b[0m\u001b[0mheaders\u001b[0m\u001b[0;34m,\u001b[0m\u001b[0;34m\u001b[0m\u001b[0;34m\u001b[0m\u001b[0m\n\u001b[0;32m--> 677\u001b[0;31m                 \u001b[0mchunked\u001b[0m\u001b[0;34m=\u001b[0m\u001b[0mchunked\u001b[0m\u001b[0;34m,\u001b[0m\u001b[0;34m\u001b[0m\u001b[0;34m\u001b[0m\u001b[0m\n\u001b[0m\u001b[1;32m    678\u001b[0m             )\n\u001b[1;32m    679\u001b[0m \u001b[0;34m\u001b[0m\u001b[0m\n",
      "\u001b[0;32m~/Desktop/Projects/SDE_Dashboard/venv/lib/python3.6/site-packages/urllib3/connectionpool.py\u001b[0m in \u001b[0;36m_make_request\u001b[0;34m(self, conn, method, url, timeout, chunked, **httplib_request_kw)\u001b[0m\n\u001b[1;32m    424\u001b[0m                     \u001b[0;31m# Python 3 (including for exceptions like SystemExit).\u001b[0m\u001b[0;34m\u001b[0m\u001b[0;34m\u001b[0m\u001b[0;34m\u001b[0m\u001b[0m\n\u001b[1;32m    425\u001b[0m                     \u001b[0;31m# Otherwise it looks like a bug in the code.\u001b[0m\u001b[0;34m\u001b[0m\u001b[0;34m\u001b[0m\u001b[0;34m\u001b[0m\u001b[0m\n\u001b[0;32m--> 426\u001b[0;31m                     \u001b[0msix\u001b[0m\u001b[0;34m.\u001b[0m\u001b[0mraise_from\u001b[0m\u001b[0;34m(\u001b[0m\u001b[0me\u001b[0m\u001b[0;34m,\u001b[0m \u001b[0;32mNone\u001b[0m\u001b[0;34m)\u001b[0m\u001b[0;34m\u001b[0m\u001b[0;34m\u001b[0m\u001b[0m\n\u001b[0m\u001b[1;32m    427\u001b[0m         \u001b[0;32mexcept\u001b[0m \u001b[0;34m(\u001b[0m\u001b[0mSocketTimeout\u001b[0m\u001b[0;34m,\u001b[0m \u001b[0mBaseSSLError\u001b[0m\u001b[0;34m,\u001b[0m \u001b[0mSocketError\u001b[0m\u001b[0;34m)\u001b[0m \u001b[0;32mas\u001b[0m \u001b[0me\u001b[0m\u001b[0;34m:\u001b[0m\u001b[0;34m\u001b[0m\u001b[0;34m\u001b[0m\u001b[0m\n\u001b[1;32m    428\u001b[0m             \u001b[0mself\u001b[0m\u001b[0;34m.\u001b[0m\u001b[0m_raise_timeout\u001b[0m\u001b[0;34m(\u001b[0m\u001b[0merr\u001b[0m\u001b[0;34m=\u001b[0m\u001b[0me\u001b[0m\u001b[0;34m,\u001b[0m \u001b[0murl\u001b[0m\u001b[0;34m=\u001b[0m\u001b[0murl\u001b[0m\u001b[0;34m,\u001b[0m \u001b[0mtimeout_value\u001b[0m\u001b[0;34m=\u001b[0m\u001b[0mread_timeout\u001b[0m\u001b[0;34m)\u001b[0m\u001b[0;34m\u001b[0m\u001b[0;34m\u001b[0m\u001b[0m\n",
      "\u001b[0;32m~/Desktop/Projects/SDE_Dashboard/venv/lib/python3.6/site-packages/urllib3/packages/six.py\u001b[0m in \u001b[0;36mraise_from\u001b[0;34m(value, from_value)\u001b[0m\n",
      "\u001b[0;32m~/Desktop/Projects/SDE_Dashboard/venv/lib/python3.6/site-packages/urllib3/connectionpool.py\u001b[0m in \u001b[0;36m_make_request\u001b[0;34m(self, conn, method, url, timeout, chunked, **httplib_request_kw)\u001b[0m\n\u001b[1;32m    419\u001b[0m                 \u001b[0;31m# Python 3\u001b[0m\u001b[0;34m\u001b[0m\u001b[0;34m\u001b[0m\u001b[0;34m\u001b[0m\u001b[0m\n\u001b[1;32m    420\u001b[0m                 \u001b[0;32mtry\u001b[0m\u001b[0;34m:\u001b[0m\u001b[0;34m\u001b[0m\u001b[0;34m\u001b[0m\u001b[0m\n\u001b[0;32m--> 421\u001b[0;31m                     \u001b[0mhttplib_response\u001b[0m \u001b[0;34m=\u001b[0m \u001b[0mconn\u001b[0m\u001b[0;34m.\u001b[0m\u001b[0mgetresponse\u001b[0m\u001b[0;34m(\u001b[0m\u001b[0;34m)\u001b[0m\u001b[0;34m\u001b[0m\u001b[0;34m\u001b[0m\u001b[0m\n\u001b[0m\u001b[1;32m    422\u001b[0m                 \u001b[0;32mexcept\u001b[0m \u001b[0mBaseException\u001b[0m \u001b[0;32mas\u001b[0m \u001b[0me\u001b[0m\u001b[0;34m:\u001b[0m\u001b[0;34m\u001b[0m\u001b[0;34m\u001b[0m\u001b[0m\n\u001b[1;32m    423\u001b[0m                     \u001b[0;31m# Remove the TypeError from the exception chain in\u001b[0m\u001b[0;34m\u001b[0m\u001b[0;34m\u001b[0m\u001b[0;34m\u001b[0m\u001b[0m\n",
      "\u001b[0;32m/usr/lib/python3.6/http/client.py\u001b[0m in \u001b[0;36mgetresponse\u001b[0;34m(self)\u001b[0m\n\u001b[1;32m   1354\u001b[0m         \u001b[0;32mtry\u001b[0m\u001b[0;34m:\u001b[0m\u001b[0;34m\u001b[0m\u001b[0;34m\u001b[0m\u001b[0m\n\u001b[1;32m   1355\u001b[0m             \u001b[0;32mtry\u001b[0m\u001b[0;34m:\u001b[0m\u001b[0;34m\u001b[0m\u001b[0;34m\u001b[0m\u001b[0m\n\u001b[0;32m-> 1356\u001b[0;31m                 \u001b[0mresponse\u001b[0m\u001b[0;34m.\u001b[0m\u001b[0mbegin\u001b[0m\u001b[0;34m(\u001b[0m\u001b[0;34m)\u001b[0m\u001b[0;34m\u001b[0m\u001b[0;34m\u001b[0m\u001b[0m\n\u001b[0m\u001b[1;32m   1357\u001b[0m             \u001b[0;32mexcept\u001b[0m \u001b[0mConnectionError\u001b[0m\u001b[0;34m:\u001b[0m\u001b[0;34m\u001b[0m\u001b[0;34m\u001b[0m\u001b[0m\n\u001b[1;32m   1358\u001b[0m                 \u001b[0mself\u001b[0m\u001b[0;34m.\u001b[0m\u001b[0mclose\u001b[0m\u001b[0;34m(\u001b[0m\u001b[0;34m)\u001b[0m\u001b[0;34m\u001b[0m\u001b[0;34m\u001b[0m\u001b[0m\n",
      "\u001b[0;32m/usr/lib/python3.6/http/client.py\u001b[0m in \u001b[0;36mbegin\u001b[0;34m(self)\u001b[0m\n\u001b[1;32m    305\u001b[0m         \u001b[0;31m# read until we get a non-100 response\u001b[0m\u001b[0;34m\u001b[0m\u001b[0;34m\u001b[0m\u001b[0;34m\u001b[0m\u001b[0m\n\u001b[1;32m    306\u001b[0m         \u001b[0;32mwhile\u001b[0m \u001b[0;32mTrue\u001b[0m\u001b[0;34m:\u001b[0m\u001b[0;34m\u001b[0m\u001b[0;34m\u001b[0m\u001b[0m\n\u001b[0;32m--> 307\u001b[0;31m             \u001b[0mversion\u001b[0m\u001b[0;34m,\u001b[0m \u001b[0mstatus\u001b[0m\u001b[0;34m,\u001b[0m \u001b[0mreason\u001b[0m \u001b[0;34m=\u001b[0m \u001b[0mself\u001b[0m\u001b[0;34m.\u001b[0m\u001b[0m_read_status\u001b[0m\u001b[0;34m(\u001b[0m\u001b[0;34m)\u001b[0m\u001b[0;34m\u001b[0m\u001b[0;34m\u001b[0m\u001b[0m\n\u001b[0m\u001b[1;32m    308\u001b[0m             \u001b[0;32mif\u001b[0m \u001b[0mstatus\u001b[0m \u001b[0;34m!=\u001b[0m \u001b[0mCONTINUE\u001b[0m\u001b[0;34m:\u001b[0m\u001b[0;34m\u001b[0m\u001b[0;34m\u001b[0m\u001b[0m\n\u001b[1;32m    309\u001b[0m                 \u001b[0;32mbreak\u001b[0m\u001b[0;34m\u001b[0m\u001b[0;34m\u001b[0m\u001b[0m\n",
      "\u001b[0;32m/usr/lib/python3.6/http/client.py\u001b[0m in \u001b[0;36m_read_status\u001b[0;34m(self)\u001b[0m\n\u001b[1;32m    266\u001b[0m \u001b[0;34m\u001b[0m\u001b[0m\n\u001b[1;32m    267\u001b[0m     \u001b[0;32mdef\u001b[0m \u001b[0m_read_status\u001b[0m\u001b[0;34m(\u001b[0m\u001b[0mself\u001b[0m\u001b[0;34m)\u001b[0m\u001b[0;34m:\u001b[0m\u001b[0;34m\u001b[0m\u001b[0;34m\u001b[0m\u001b[0m\n\u001b[0;32m--> 268\u001b[0;31m         \u001b[0mline\u001b[0m \u001b[0;34m=\u001b[0m \u001b[0mstr\u001b[0m\u001b[0;34m(\u001b[0m\u001b[0mself\u001b[0m\u001b[0;34m.\u001b[0m\u001b[0mfp\u001b[0m\u001b[0;34m.\u001b[0m\u001b[0mreadline\u001b[0m\u001b[0;34m(\u001b[0m\u001b[0m_MAXLINE\u001b[0m \u001b[0;34m+\u001b[0m \u001b[0;36m1\u001b[0m\u001b[0;34m)\u001b[0m\u001b[0;34m,\u001b[0m \u001b[0;34m\"iso-8859-1\"\u001b[0m\u001b[0;34m)\u001b[0m\u001b[0;34m\u001b[0m\u001b[0;34m\u001b[0m\u001b[0m\n\u001b[0m\u001b[1;32m    269\u001b[0m         \u001b[0;32mif\u001b[0m \u001b[0mlen\u001b[0m\u001b[0;34m(\u001b[0m\u001b[0mline\u001b[0m\u001b[0;34m)\u001b[0m \u001b[0;34m>\u001b[0m \u001b[0m_MAXLINE\u001b[0m\u001b[0;34m:\u001b[0m\u001b[0;34m\u001b[0m\u001b[0;34m\u001b[0m\u001b[0m\n\u001b[1;32m    270\u001b[0m             \u001b[0;32mraise\u001b[0m \u001b[0mLineTooLong\u001b[0m\u001b[0;34m(\u001b[0m\u001b[0;34m\"status line\"\u001b[0m\u001b[0;34m)\u001b[0m\u001b[0;34m\u001b[0m\u001b[0;34m\u001b[0m\u001b[0m\n",
      "\u001b[0;32m/usr/lib/python3.6/socket.py\u001b[0m in \u001b[0;36mreadinto\u001b[0;34m(self, b)\u001b[0m\n\u001b[1;32m    584\u001b[0m         \u001b[0;32mwhile\u001b[0m \u001b[0;32mTrue\u001b[0m\u001b[0;34m:\u001b[0m\u001b[0;34m\u001b[0m\u001b[0;34m\u001b[0m\u001b[0m\n\u001b[1;32m    585\u001b[0m             \u001b[0;32mtry\u001b[0m\u001b[0;34m:\u001b[0m\u001b[0;34m\u001b[0m\u001b[0;34m\u001b[0m\u001b[0m\n\u001b[0;32m--> 586\u001b[0;31m                 \u001b[0;32mreturn\u001b[0m \u001b[0mself\u001b[0m\u001b[0;34m.\u001b[0m\u001b[0m_sock\u001b[0m\u001b[0;34m.\u001b[0m\u001b[0mrecv_into\u001b[0m\u001b[0;34m(\u001b[0m\u001b[0mb\u001b[0m\u001b[0;34m)\u001b[0m\u001b[0;34m\u001b[0m\u001b[0;34m\u001b[0m\u001b[0m\n\u001b[0m\u001b[1;32m    587\u001b[0m             \u001b[0;32mexcept\u001b[0m \u001b[0mtimeout\u001b[0m\u001b[0;34m:\u001b[0m\u001b[0;34m\u001b[0m\u001b[0;34m\u001b[0m\u001b[0m\n\u001b[1;32m    588\u001b[0m                 \u001b[0mself\u001b[0m\u001b[0;34m.\u001b[0m\u001b[0m_timeout_occurred\u001b[0m \u001b[0;34m=\u001b[0m \u001b[0;32mTrue\u001b[0m\u001b[0;34m\u001b[0m\u001b[0;34m\u001b[0m\u001b[0m\n",
      "\u001b[0;32m/usr/lib/python3.6/ssl.py\u001b[0m in \u001b[0;36mrecv_into\u001b[0;34m(self, buffer, nbytes, flags)\u001b[0m\n\u001b[1;32m   1010\u001b[0m                   \u001b[0;34m\"non-zero flags not allowed in calls to recv_into() on %s\"\u001b[0m \u001b[0;34m%\u001b[0m\u001b[0;34m\u001b[0m\u001b[0;34m\u001b[0m\u001b[0m\n\u001b[1;32m   1011\u001b[0m                   self.__class__)\n\u001b[0;32m-> 1012\u001b[0;31m             \u001b[0;32mreturn\u001b[0m \u001b[0mself\u001b[0m\u001b[0;34m.\u001b[0m\u001b[0mread\u001b[0m\u001b[0;34m(\u001b[0m\u001b[0mnbytes\u001b[0m\u001b[0;34m,\u001b[0m \u001b[0mbuffer\u001b[0m\u001b[0;34m)\u001b[0m\u001b[0;34m\u001b[0m\u001b[0;34m\u001b[0m\u001b[0m\n\u001b[0m\u001b[1;32m   1013\u001b[0m         \u001b[0;32melse\u001b[0m\u001b[0;34m:\u001b[0m\u001b[0;34m\u001b[0m\u001b[0;34m\u001b[0m\u001b[0m\n\u001b[1;32m   1014\u001b[0m             \u001b[0;32mreturn\u001b[0m \u001b[0msocket\u001b[0m\u001b[0;34m.\u001b[0m\u001b[0mrecv_into\u001b[0m\u001b[0;34m(\u001b[0m\u001b[0mself\u001b[0m\u001b[0;34m,\u001b[0m \u001b[0mbuffer\u001b[0m\u001b[0;34m,\u001b[0m \u001b[0mnbytes\u001b[0m\u001b[0;34m,\u001b[0m \u001b[0mflags\u001b[0m\u001b[0;34m)\u001b[0m\u001b[0;34m\u001b[0m\u001b[0;34m\u001b[0m\u001b[0m\n",
      "\u001b[0;32m/usr/lib/python3.6/ssl.py\u001b[0m in \u001b[0;36mread\u001b[0;34m(self, len, buffer)\u001b[0m\n\u001b[1;32m    872\u001b[0m             \u001b[0;32mraise\u001b[0m \u001b[0mValueError\u001b[0m\u001b[0;34m(\u001b[0m\u001b[0;34m\"Read on closed or unwrapped SSL socket.\"\u001b[0m\u001b[0;34m)\u001b[0m\u001b[0;34m\u001b[0m\u001b[0;34m\u001b[0m\u001b[0m\n\u001b[1;32m    873\u001b[0m         \u001b[0;32mtry\u001b[0m\u001b[0;34m:\u001b[0m\u001b[0;34m\u001b[0m\u001b[0;34m\u001b[0m\u001b[0m\n\u001b[0;32m--> 874\u001b[0;31m             \u001b[0;32mreturn\u001b[0m \u001b[0mself\u001b[0m\u001b[0;34m.\u001b[0m\u001b[0m_sslobj\u001b[0m\u001b[0;34m.\u001b[0m\u001b[0mread\u001b[0m\u001b[0;34m(\u001b[0m\u001b[0mlen\u001b[0m\u001b[0;34m,\u001b[0m \u001b[0mbuffer\u001b[0m\u001b[0;34m)\u001b[0m\u001b[0;34m\u001b[0m\u001b[0;34m\u001b[0m\u001b[0m\n\u001b[0m\u001b[1;32m    875\u001b[0m         \u001b[0;32mexcept\u001b[0m \u001b[0mSSLError\u001b[0m \u001b[0;32mas\u001b[0m \u001b[0mx\u001b[0m\u001b[0;34m:\u001b[0m\u001b[0;34m\u001b[0m\u001b[0;34m\u001b[0m\u001b[0m\n\u001b[1;32m    876\u001b[0m             \u001b[0;32mif\u001b[0m \u001b[0mx\u001b[0m\u001b[0;34m.\u001b[0m\u001b[0margs\u001b[0m\u001b[0;34m[\u001b[0m\u001b[0;36m0\u001b[0m\u001b[0;34m]\u001b[0m \u001b[0;34m==\u001b[0m \u001b[0mSSL_ERROR_EOF\u001b[0m \u001b[0;32mand\u001b[0m \u001b[0mself\u001b[0m\u001b[0;34m.\u001b[0m\u001b[0msuppress_ragged_eofs\u001b[0m\u001b[0;34m:\u001b[0m\u001b[0;34m\u001b[0m\u001b[0;34m\u001b[0m\u001b[0m\n",
      "\u001b[0;32m/usr/lib/python3.6/ssl.py\u001b[0m in \u001b[0;36mread\u001b[0;34m(self, len, buffer)\u001b[0m\n\u001b[1;32m    629\u001b[0m         \"\"\"\n\u001b[1;32m    630\u001b[0m         \u001b[0;32mif\u001b[0m \u001b[0mbuffer\u001b[0m \u001b[0;32mis\u001b[0m \u001b[0;32mnot\u001b[0m \u001b[0;32mNone\u001b[0m\u001b[0;34m:\u001b[0m\u001b[0;34m\u001b[0m\u001b[0;34m\u001b[0m\u001b[0m\n\u001b[0;32m--> 631\u001b[0;31m             \u001b[0mv\u001b[0m \u001b[0;34m=\u001b[0m \u001b[0mself\u001b[0m\u001b[0;34m.\u001b[0m\u001b[0m_sslobj\u001b[0m\u001b[0;34m.\u001b[0m\u001b[0mread\u001b[0m\u001b[0;34m(\u001b[0m\u001b[0mlen\u001b[0m\u001b[0;34m,\u001b[0m \u001b[0mbuffer\u001b[0m\u001b[0;34m)\u001b[0m\u001b[0;34m\u001b[0m\u001b[0;34m\u001b[0m\u001b[0m\n\u001b[0m\u001b[1;32m    632\u001b[0m         \u001b[0;32melse\u001b[0m\u001b[0;34m:\u001b[0m\u001b[0;34m\u001b[0m\u001b[0;34m\u001b[0m\u001b[0m\n\u001b[1;32m    633\u001b[0m             \u001b[0mv\u001b[0m \u001b[0;34m=\u001b[0m \u001b[0mself\u001b[0m\u001b[0;34m.\u001b[0m\u001b[0m_sslobj\u001b[0m\u001b[0;34m.\u001b[0m\u001b[0mread\u001b[0m\u001b[0;34m(\u001b[0m\u001b[0mlen\u001b[0m\u001b[0;34m)\u001b[0m\u001b[0;34m\u001b[0m\u001b[0;34m\u001b[0m\u001b[0m\n",
      "\u001b[0;31mKeyboardInterrupt\u001b[0m: "
     ]
    }
   ],
   "source": [
    "for repo in repos: # iterating over all repositories associated with the login account\n",
    "\n",
    "    if 'with-ta' in repo.name:\n",
    "        pass\n",
    "\n",
    "    elif ha_1 in repo.name:  # filtering only the assignment repos\n",
    "\n",
    "        print(\"\\n\", repo.name)\n",
    "        repo_commits = repo.get_commits()\n",
    "        \n",
    "        for commit in repo_commits:\n",
    "            \n",
    "            commit_files = commit.files\n",
    "            commit_additions = 0\n",
    "            commit_deletions = 0\n",
    "            \n",
    "\n",
    "            for one_file in commit_files:\n",
    "                \n",
    "                if one_file.filename[-3:] == '.py':\n",
    "\n",
    "                    py_file = one_file\n",
    "                    commit_additions += py_file.additions\n",
    "                    commit_deletions += py_file.deletions\n",
    "\n",
    "            print('Commit', commit, 'Date', commit.commit.author.date)\n",
    "            print('Author', commit.author.login)\n",
    "            print('Additions', commit_additions)\n",
    "            print('Deletions', commit_deletions)"
   ]
  },
  {
   "cell_type": "code",
   "execution_count": 5,
   "metadata": {},
   "outputs": [],
   "source": [
    "def commitSize(commit): \n",
    " \n",
    "    commit_files = commit.files  # all files affected by the commit\n",
    "    commit_additions = 0\n",
    "    commit_deletions = 0\n",
    "\n",
    "    for one_file in commit_files:\n",
    "\n",
    "        if one_file.filename[-3:] == '.py':\n",
    "            \n",
    "            commit_additions += one_file.additions\n",
    "            commit_deletions += one_file.deletions\n",
    "            #print(commit_additions, commit_deletions)\n",
    "\n",
    "    return [commit_additions, commit_deletions]"
   ]
  },
  {
   "cell_type": "code",
   "execution_count": 6,
   "metadata": {},
   "outputs": [
    {
     "output_type": "stream",
     "name": "stdout",
     "text": "[13, 5]\n[1, 5]\n[0, 0]\n[1, 1]\n[7, 0]\n[53, 7]\n[22, 2]\n[30, 64]\n[40, 8]\n[42, 1]\n[0, 0]\n[2, 2]\n[8, 1]\n[0, 5]\n[6, 1]\n[20, 9]\n[3, 2]\n[1, 1]\n[24, 18]\n[1, 1]\n[11, 1]\n[6, 6]\n[7, 1]\n[5, 5]\n[1, 1]\n[3, 1]\n[10, 1]\n[5, 1]\n[12, 12]\n[0, 0]\n[3, 3]\n[1, 1]\n[13, 2]\n"
    },
    {
     "output_type": "error",
     "ename": "KeyboardInterrupt",
     "evalue": "",
     "traceback": [
      "\u001b[0;31m---------------------------------------------------------------------------\u001b[0m",
      "\u001b[0;31mKeyboardInterrupt\u001b[0m                         Traceback (most recent call last)",
      "\u001b[0;32m<ipython-input-6-5fd08b1a8f9b>\u001b[0m in \u001b[0;36m<module>\u001b[0;34m\u001b[0m\n\u001b[1;32m      8\u001b[0m \u001b[0;34m\u001b[0m\u001b[0m\n\u001b[1;32m      9\u001b[0m         \u001b[0;32mfor\u001b[0m \u001b[0mcommit\u001b[0m \u001b[0;32min\u001b[0m \u001b[0mrepo_commits\u001b[0m\u001b[0;34m:\u001b[0m\u001b[0;34m\u001b[0m\u001b[0;34m\u001b[0m\u001b[0m\n\u001b[0;32m---> 10\u001b[0;31m             \u001b[0mprint\u001b[0m\u001b[0;34m(\u001b[0m\u001b[0mcommitSize\u001b[0m\u001b[0;34m(\u001b[0m\u001b[0mcommit\u001b[0m\u001b[0;34m)\u001b[0m\u001b[0;34m)\u001b[0m\u001b[0;34m\u001b[0m\u001b[0;34m\u001b[0m\u001b[0m\n\u001b[0m",
      "\u001b[0;32m<ipython-input-5-ca50616d67cb>\u001b[0m in \u001b[0;36mcommitSize\u001b[0;34m(commit)\u001b[0m\n\u001b[1;32m      1\u001b[0m \u001b[0;32mdef\u001b[0m \u001b[0mcommitSize\u001b[0m\u001b[0;34m(\u001b[0m\u001b[0mcommit\u001b[0m\u001b[0;34m)\u001b[0m\u001b[0;34m:\u001b[0m\u001b[0;34m\u001b[0m\u001b[0;34m\u001b[0m\u001b[0m\n\u001b[1;32m      2\u001b[0m \u001b[0;34m\u001b[0m\u001b[0m\n\u001b[0;32m----> 3\u001b[0;31m     \u001b[0mcommit_files\u001b[0m \u001b[0;34m=\u001b[0m \u001b[0mcommit\u001b[0m\u001b[0;34m.\u001b[0m\u001b[0mfiles\u001b[0m  \u001b[0;31m# all files affected by the commit\u001b[0m\u001b[0;34m\u001b[0m\u001b[0;34m\u001b[0m\u001b[0m\n\u001b[0m\u001b[1;32m      4\u001b[0m     \u001b[0mcommit_additions\u001b[0m \u001b[0;34m=\u001b[0m \u001b[0;36m0\u001b[0m\u001b[0;34m\u001b[0m\u001b[0;34m\u001b[0m\u001b[0m\n\u001b[1;32m      5\u001b[0m     \u001b[0mcommit_deletions\u001b[0m \u001b[0;34m=\u001b[0m \u001b[0;36m0\u001b[0m\u001b[0;34m\u001b[0m\u001b[0;34m\u001b[0m\u001b[0m\n",
      "\u001b[0;32m~/Desktop/Projects/SDE_Dashboard/venv/lib/python3.6/site-packages/github/Commit.py\u001b[0m in \u001b[0;36mfiles\u001b[0;34m(self)\u001b[0m\n\u001b[1;32m     89\u001b[0m         \u001b[0;34m:\u001b[0m\u001b[0mtype\u001b[0m\u001b[0;34m:\u001b[0m \u001b[0mlist\u001b[0m \u001b[0mof\u001b[0m \u001b[0;34m:\u001b[0m\u001b[0;32mclass\u001b[0m\u001b[0;34m:\u001b[0m\u001b[0;31m`\u001b[0m\u001b[0mgithub\u001b[0m\u001b[0;34m.\u001b[0m\u001b[0mFile\u001b[0m\u001b[0;34m.\u001b[0m\u001b[0mFile\u001b[0m\u001b[0;31m`\u001b[0m\u001b[0;34m\u001b[0m\u001b[0;34m\u001b[0m\u001b[0m\n\u001b[1;32m     90\u001b[0m         \"\"\"\n\u001b[0;32m---> 91\u001b[0;31m         \u001b[0mself\u001b[0m\u001b[0;34m.\u001b[0m\u001b[0m_completeIfNotSet\u001b[0m\u001b[0;34m(\u001b[0m\u001b[0mself\u001b[0m\u001b[0;34m.\u001b[0m\u001b[0m_files\u001b[0m\u001b[0;34m)\u001b[0m\u001b[0;34m\u001b[0m\u001b[0;34m\u001b[0m\u001b[0m\n\u001b[0m\u001b[1;32m     92\u001b[0m         \u001b[0;32mreturn\u001b[0m \u001b[0mself\u001b[0m\u001b[0;34m.\u001b[0m\u001b[0m_files\u001b[0m\u001b[0;34m.\u001b[0m\u001b[0mvalue\u001b[0m\u001b[0;34m\u001b[0m\u001b[0;34m\u001b[0m\u001b[0m\n\u001b[1;32m     93\u001b[0m \u001b[0;34m\u001b[0m\u001b[0m\n",
      "\u001b[0;32m~/Desktop/Projects/SDE_Dashboard/venv/lib/python3.6/site-packages/github/GithubObject.py\u001b[0m in \u001b[0;36m_completeIfNotSet\u001b[0;34m(self, value)\u001b[0m\n\u001b[1;32m    297\u001b[0m     \u001b[0;32mdef\u001b[0m \u001b[0m_completeIfNotSet\u001b[0m\u001b[0;34m(\u001b[0m\u001b[0mself\u001b[0m\u001b[0;34m,\u001b[0m \u001b[0mvalue\u001b[0m\u001b[0;34m)\u001b[0m\u001b[0;34m:\u001b[0m\u001b[0;34m\u001b[0m\u001b[0;34m\u001b[0m\u001b[0m\n\u001b[1;32m    298\u001b[0m         \u001b[0;32mif\u001b[0m \u001b[0mvalue\u001b[0m \u001b[0;32mis\u001b[0m \u001b[0mNotSet\u001b[0m\u001b[0;34m:\u001b[0m\u001b[0;34m\u001b[0m\u001b[0;34m\u001b[0m\u001b[0m\n\u001b[0;32m--> 299\u001b[0;31m             \u001b[0mself\u001b[0m\u001b[0;34m.\u001b[0m\u001b[0m_completeIfNeeded\u001b[0m\u001b[0;34m(\u001b[0m\u001b[0;34m)\u001b[0m\u001b[0;34m\u001b[0m\u001b[0;34m\u001b[0m\u001b[0m\n\u001b[0m\u001b[1;32m    300\u001b[0m \u001b[0;34m\u001b[0m\u001b[0m\n\u001b[1;32m    301\u001b[0m     \u001b[0;32mdef\u001b[0m \u001b[0m_completeIfNeeded\u001b[0m\u001b[0;34m(\u001b[0m\u001b[0mself\u001b[0m\u001b[0;34m)\u001b[0m\u001b[0;34m:\u001b[0m\u001b[0;34m\u001b[0m\u001b[0;34m\u001b[0m\u001b[0m\n",
      "\u001b[0;32m~/Desktop/Projects/SDE_Dashboard/venv/lib/python3.6/site-packages/github/GithubObject.py\u001b[0m in \u001b[0;36m_completeIfNeeded\u001b[0;34m(self)\u001b[0m\n\u001b[1;32m    301\u001b[0m     \u001b[0;32mdef\u001b[0m \u001b[0m_completeIfNeeded\u001b[0m\u001b[0;34m(\u001b[0m\u001b[0mself\u001b[0m\u001b[0;34m)\u001b[0m\u001b[0;34m:\u001b[0m\u001b[0;34m\u001b[0m\u001b[0;34m\u001b[0m\u001b[0m\n\u001b[1;32m    302\u001b[0m         \u001b[0;32mif\u001b[0m \u001b[0;32mnot\u001b[0m \u001b[0mself\u001b[0m\u001b[0;34m.\u001b[0m\u001b[0m__completed\u001b[0m\u001b[0;34m:\u001b[0m\u001b[0;34m\u001b[0m\u001b[0;34m\u001b[0m\u001b[0m\n\u001b[0;32m--> 303\u001b[0;31m             \u001b[0mself\u001b[0m\u001b[0;34m.\u001b[0m\u001b[0m__complete\u001b[0m\u001b[0;34m(\u001b[0m\u001b[0;34m)\u001b[0m\u001b[0;34m\u001b[0m\u001b[0;34m\u001b[0m\u001b[0m\n\u001b[0m\u001b[1;32m    304\u001b[0m \u001b[0;34m\u001b[0m\u001b[0m\n\u001b[1;32m    305\u001b[0m     \u001b[0;32mdef\u001b[0m \u001b[0m__complete\u001b[0m\u001b[0;34m(\u001b[0m\u001b[0mself\u001b[0m\u001b[0;34m)\u001b[0m\u001b[0;34m:\u001b[0m\u001b[0;34m\u001b[0m\u001b[0;34m\u001b[0m\u001b[0m\n",
      "\u001b[0;32m~/Desktop/Projects/SDE_Dashboard/venv/lib/python3.6/site-packages/github/GithubObject.py\u001b[0m in \u001b[0;36m__complete\u001b[0;34m(self)\u001b[0m\n\u001b[1;32m    308\u001b[0m                 \u001b[0;36m400\u001b[0m\u001b[0;34m,\u001b[0m \u001b[0;34m\"Returned object contains no URL\"\u001b[0m\u001b[0;34m\u001b[0m\u001b[0;34m\u001b[0m\u001b[0m\n\u001b[1;32m    309\u001b[0m             )\n\u001b[0;32m--> 310\u001b[0;31m         \u001b[0mheaders\u001b[0m\u001b[0;34m,\u001b[0m \u001b[0mdata\u001b[0m \u001b[0;34m=\u001b[0m \u001b[0mself\u001b[0m\u001b[0;34m.\u001b[0m\u001b[0m_requester\u001b[0m\u001b[0;34m.\u001b[0m\u001b[0mrequestJsonAndCheck\u001b[0m\u001b[0;34m(\u001b[0m\u001b[0;34m\"GET\"\u001b[0m\u001b[0;34m,\u001b[0m \u001b[0mself\u001b[0m\u001b[0;34m.\u001b[0m\u001b[0m_url\u001b[0m\u001b[0;34m.\u001b[0m\u001b[0mvalue\u001b[0m\u001b[0;34m)\u001b[0m\u001b[0;34m\u001b[0m\u001b[0;34m\u001b[0m\u001b[0m\n\u001b[0m\u001b[1;32m    311\u001b[0m         \u001b[0mself\u001b[0m\u001b[0;34m.\u001b[0m\u001b[0m_storeAndUseAttributes\u001b[0m\u001b[0;34m(\u001b[0m\u001b[0mheaders\u001b[0m\u001b[0;34m,\u001b[0m \u001b[0mdata\u001b[0m\u001b[0;34m)\u001b[0m\u001b[0;34m\u001b[0m\u001b[0;34m\u001b[0m\u001b[0m\n\u001b[1;32m    312\u001b[0m         \u001b[0mself\u001b[0m\u001b[0;34m.\u001b[0m\u001b[0m__completed\u001b[0m \u001b[0;34m=\u001b[0m \u001b[0;32mTrue\u001b[0m\u001b[0;34m\u001b[0m\u001b[0;34m\u001b[0m\u001b[0m\n",
      "\u001b[0;32m~/Desktop/Projects/SDE_Dashboard/venv/lib/python3.6/site-packages/github/Requester.py\u001b[0m in \u001b[0;36mrequestJsonAndCheck\u001b[0;34m(self, verb, url, parameters, headers, input)\u001b[0m\n\u001b[1;32m    317\u001b[0m         return self.__check(\n\u001b[1;32m    318\u001b[0m             *self.requestJson(\n\u001b[0;32m--> 319\u001b[0;31m                 \u001b[0mverb\u001b[0m\u001b[0;34m,\u001b[0m \u001b[0murl\u001b[0m\u001b[0;34m,\u001b[0m \u001b[0mparameters\u001b[0m\u001b[0;34m,\u001b[0m \u001b[0mheaders\u001b[0m\u001b[0;34m,\u001b[0m \u001b[0minput\u001b[0m\u001b[0;34m,\u001b[0m \u001b[0mself\u001b[0m\u001b[0;34m.\u001b[0m\u001b[0m__customConnection\u001b[0m\u001b[0;34m(\u001b[0m\u001b[0murl\u001b[0m\u001b[0;34m)\u001b[0m\u001b[0;34m\u001b[0m\u001b[0;34m\u001b[0m\u001b[0m\n\u001b[0m\u001b[1;32m    320\u001b[0m             )\n\u001b[1;32m    321\u001b[0m         )\n",
      "\u001b[0;32m~/Desktop/Projects/SDE_Dashboard/venv/lib/python3.6/site-packages/github/Requester.py\u001b[0m in \u001b[0;36mrequestJson\u001b[0;34m(self, verb, url, parameters, headers, input, cnx)\u001b[0m\n\u001b[1;32m    408\u001b[0m             \u001b[0;32mreturn\u001b[0m \u001b[0;34m\"application/json\"\u001b[0m\u001b[0;34m,\u001b[0m \u001b[0mjson\u001b[0m\u001b[0;34m.\u001b[0m\u001b[0mdumps\u001b[0m\u001b[0;34m(\u001b[0m\u001b[0minput\u001b[0m\u001b[0;34m)\u001b[0m\u001b[0;34m\u001b[0m\u001b[0;34m\u001b[0m\u001b[0m\n\u001b[1;32m    409\u001b[0m \u001b[0;34m\u001b[0m\u001b[0m\n\u001b[0;32m--> 410\u001b[0;31m         \u001b[0;32mreturn\u001b[0m \u001b[0mself\u001b[0m\u001b[0;34m.\u001b[0m\u001b[0m__requestEncode\u001b[0m\u001b[0;34m(\u001b[0m\u001b[0mcnx\u001b[0m\u001b[0;34m,\u001b[0m \u001b[0mverb\u001b[0m\u001b[0;34m,\u001b[0m \u001b[0murl\u001b[0m\u001b[0;34m,\u001b[0m \u001b[0mparameters\u001b[0m\u001b[0;34m,\u001b[0m \u001b[0mheaders\u001b[0m\u001b[0;34m,\u001b[0m \u001b[0minput\u001b[0m\u001b[0;34m,\u001b[0m \u001b[0mencode\u001b[0m\u001b[0;34m)\u001b[0m\u001b[0;34m\u001b[0m\u001b[0;34m\u001b[0m\u001b[0m\n\u001b[0m\u001b[1;32m    411\u001b[0m \u001b[0;34m\u001b[0m\u001b[0m\n\u001b[1;32m    412\u001b[0m     def requestMultipart(\n",
      "\u001b[0;32m~/Desktop/Projects/SDE_Dashboard/venv/lib/python3.6/site-packages/github/Requester.py\u001b[0m in \u001b[0;36m__requestEncode\u001b[0;34m(self, cnx, verb, url, parameters, requestHeaders, input, encode)\u001b[0m\n\u001b[1;32m    470\u001b[0m \u001b[0;34m\u001b[0m\u001b[0m\n\u001b[1;32m    471\u001b[0m         status, responseHeaders, output = self.__requestRaw(\n\u001b[0;32m--> 472\u001b[0;31m             \u001b[0mcnx\u001b[0m\u001b[0;34m,\u001b[0m \u001b[0mverb\u001b[0m\u001b[0;34m,\u001b[0m \u001b[0murl\u001b[0m\u001b[0;34m,\u001b[0m \u001b[0mrequestHeaders\u001b[0m\u001b[0;34m,\u001b[0m \u001b[0mencoded_input\u001b[0m\u001b[0;34m\u001b[0m\u001b[0;34m\u001b[0m\u001b[0m\n\u001b[0m\u001b[1;32m    473\u001b[0m         )\n\u001b[1;32m    474\u001b[0m \u001b[0;34m\u001b[0m\u001b[0m\n",
      "\u001b[0;32m~/Desktop/Projects/SDE_Dashboard/venv/lib/python3.6/site-packages/github/Requester.py\u001b[0m in \u001b[0;36m__requestRaw\u001b[0;34m(self, cnx, verb, url, requestHeaders, input)\u001b[0m\n\u001b[1;32m    496\u001b[0m             \u001b[0mcnx\u001b[0m \u001b[0;34m=\u001b[0m \u001b[0mself\u001b[0m\u001b[0;34m.\u001b[0m\u001b[0m__createConnection\u001b[0m\u001b[0;34m(\u001b[0m\u001b[0;34m)\u001b[0m\u001b[0;34m\u001b[0m\u001b[0;34m\u001b[0m\u001b[0m\n\u001b[1;32m    497\u001b[0m         \u001b[0mcnx\u001b[0m\u001b[0;34m.\u001b[0m\u001b[0mrequest\u001b[0m\u001b[0;34m(\u001b[0m\u001b[0mverb\u001b[0m\u001b[0;34m,\u001b[0m \u001b[0murl\u001b[0m\u001b[0;34m,\u001b[0m \u001b[0minput\u001b[0m\u001b[0;34m,\u001b[0m \u001b[0mrequestHeaders\u001b[0m\u001b[0;34m)\u001b[0m\u001b[0;34m\u001b[0m\u001b[0;34m\u001b[0m\u001b[0m\n\u001b[0;32m--> 498\u001b[0;31m         \u001b[0mresponse\u001b[0m \u001b[0;34m=\u001b[0m \u001b[0mcnx\u001b[0m\u001b[0;34m.\u001b[0m\u001b[0mgetresponse\u001b[0m\u001b[0;34m(\u001b[0m\u001b[0;34m)\u001b[0m\u001b[0;34m\u001b[0m\u001b[0;34m\u001b[0m\u001b[0m\n\u001b[0m\u001b[1;32m    499\u001b[0m \u001b[0;34m\u001b[0m\u001b[0m\n\u001b[1;32m    500\u001b[0m         \u001b[0mstatus\u001b[0m \u001b[0;34m=\u001b[0m \u001b[0mresponse\u001b[0m\u001b[0;34m.\u001b[0m\u001b[0mstatus\u001b[0m\u001b[0;34m\u001b[0m\u001b[0;34m\u001b[0m\u001b[0m\n",
      "\u001b[0;32m~/Desktop/Projects/SDE_Dashboard/venv/lib/python3.6/site-packages/github/Requester.py\u001b[0m in \u001b[0;36mgetresponse\u001b[0;34m(self)\u001b[0m\n\u001b[1;32m    114\u001b[0m             \u001b[0mtimeout\u001b[0m\u001b[0;34m=\u001b[0m\u001b[0mself\u001b[0m\u001b[0;34m.\u001b[0m\u001b[0mtimeout\u001b[0m\u001b[0;34m,\u001b[0m\u001b[0;34m\u001b[0m\u001b[0;34m\u001b[0m\u001b[0m\n\u001b[1;32m    115\u001b[0m             \u001b[0mverify\u001b[0m\u001b[0;34m=\u001b[0m\u001b[0mself\u001b[0m\u001b[0;34m.\u001b[0m\u001b[0mverify\u001b[0m\u001b[0;34m,\u001b[0m\u001b[0;34m\u001b[0m\u001b[0;34m\u001b[0m\u001b[0m\n\u001b[0;32m--> 116\u001b[0;31m             \u001b[0mallow_redirects\u001b[0m\u001b[0;34m=\u001b[0m\u001b[0;32mFalse\u001b[0m\u001b[0;34m,\u001b[0m\u001b[0;34m\u001b[0m\u001b[0;34m\u001b[0m\u001b[0m\n\u001b[0m\u001b[1;32m    117\u001b[0m         )\n\u001b[1;32m    118\u001b[0m         \u001b[0;32mreturn\u001b[0m \u001b[0mRequestsResponse\u001b[0m\u001b[0;34m(\u001b[0m\u001b[0mr\u001b[0m\u001b[0;34m)\u001b[0m\u001b[0;34m\u001b[0m\u001b[0;34m\u001b[0m\u001b[0m\n",
      "\u001b[0;32m~/Desktop/Projects/SDE_Dashboard/venv/lib/python3.6/site-packages/requests/sessions.py\u001b[0m in \u001b[0;36mget\u001b[0;34m(self, url, **kwargs)\u001b[0m\n\u001b[1;32m    541\u001b[0m \u001b[0;34m\u001b[0m\u001b[0m\n\u001b[1;32m    542\u001b[0m         \u001b[0mkwargs\u001b[0m\u001b[0;34m.\u001b[0m\u001b[0msetdefault\u001b[0m\u001b[0;34m(\u001b[0m\u001b[0;34m'allow_redirects'\u001b[0m\u001b[0;34m,\u001b[0m \u001b[0;32mTrue\u001b[0m\u001b[0;34m)\u001b[0m\u001b[0;34m\u001b[0m\u001b[0;34m\u001b[0m\u001b[0m\n\u001b[0;32m--> 543\u001b[0;31m         \u001b[0;32mreturn\u001b[0m \u001b[0mself\u001b[0m\u001b[0;34m.\u001b[0m\u001b[0mrequest\u001b[0m\u001b[0;34m(\u001b[0m\u001b[0;34m'GET'\u001b[0m\u001b[0;34m,\u001b[0m \u001b[0murl\u001b[0m\u001b[0;34m,\u001b[0m \u001b[0;34m**\u001b[0m\u001b[0mkwargs\u001b[0m\u001b[0;34m)\u001b[0m\u001b[0;34m\u001b[0m\u001b[0;34m\u001b[0m\u001b[0m\n\u001b[0m\u001b[1;32m    544\u001b[0m \u001b[0;34m\u001b[0m\u001b[0m\n\u001b[1;32m    545\u001b[0m     \u001b[0;32mdef\u001b[0m \u001b[0moptions\u001b[0m\u001b[0;34m(\u001b[0m\u001b[0mself\u001b[0m\u001b[0;34m,\u001b[0m \u001b[0murl\u001b[0m\u001b[0;34m,\u001b[0m \u001b[0;34m**\u001b[0m\u001b[0mkwargs\u001b[0m\u001b[0;34m)\u001b[0m\u001b[0;34m:\u001b[0m\u001b[0;34m\u001b[0m\u001b[0;34m\u001b[0m\u001b[0m\n",
      "\u001b[0;32m~/Desktop/Projects/SDE_Dashboard/venv/lib/python3.6/site-packages/requests/sessions.py\u001b[0m in \u001b[0;36mrequest\u001b[0;34m(self, method, url, params, data, headers, cookies, files, auth, timeout, allow_redirects, proxies, hooks, stream, verify, cert, json)\u001b[0m\n\u001b[1;32m    528\u001b[0m         }\n\u001b[1;32m    529\u001b[0m         \u001b[0msend_kwargs\u001b[0m\u001b[0;34m.\u001b[0m\u001b[0mupdate\u001b[0m\u001b[0;34m(\u001b[0m\u001b[0msettings\u001b[0m\u001b[0;34m)\u001b[0m\u001b[0;34m\u001b[0m\u001b[0;34m\u001b[0m\u001b[0m\n\u001b[0;32m--> 530\u001b[0;31m         \u001b[0mresp\u001b[0m \u001b[0;34m=\u001b[0m \u001b[0mself\u001b[0m\u001b[0;34m.\u001b[0m\u001b[0msend\u001b[0m\u001b[0;34m(\u001b[0m\u001b[0mprep\u001b[0m\u001b[0;34m,\u001b[0m \u001b[0;34m**\u001b[0m\u001b[0msend_kwargs\u001b[0m\u001b[0;34m)\u001b[0m\u001b[0;34m\u001b[0m\u001b[0;34m\u001b[0m\u001b[0m\n\u001b[0m\u001b[1;32m    531\u001b[0m \u001b[0;34m\u001b[0m\u001b[0m\n\u001b[1;32m    532\u001b[0m         \u001b[0;32mreturn\u001b[0m \u001b[0mresp\u001b[0m\u001b[0;34m\u001b[0m\u001b[0;34m\u001b[0m\u001b[0m\n",
      "\u001b[0;32m~/Desktop/Projects/SDE_Dashboard/venv/lib/python3.6/site-packages/requests/sessions.py\u001b[0m in \u001b[0;36msend\u001b[0;34m(self, request, **kwargs)\u001b[0m\n\u001b[1;32m    641\u001b[0m \u001b[0;34m\u001b[0m\u001b[0m\n\u001b[1;32m    642\u001b[0m         \u001b[0;31m# Send the request\u001b[0m\u001b[0;34m\u001b[0m\u001b[0;34m\u001b[0m\u001b[0;34m\u001b[0m\u001b[0m\n\u001b[0;32m--> 643\u001b[0;31m         \u001b[0mr\u001b[0m \u001b[0;34m=\u001b[0m \u001b[0madapter\u001b[0m\u001b[0;34m.\u001b[0m\u001b[0msend\u001b[0m\u001b[0;34m(\u001b[0m\u001b[0mrequest\u001b[0m\u001b[0;34m,\u001b[0m \u001b[0;34m**\u001b[0m\u001b[0mkwargs\u001b[0m\u001b[0;34m)\u001b[0m\u001b[0;34m\u001b[0m\u001b[0;34m\u001b[0m\u001b[0m\n\u001b[0m\u001b[1;32m    644\u001b[0m \u001b[0;34m\u001b[0m\u001b[0m\n\u001b[1;32m    645\u001b[0m         \u001b[0;31m# Total elapsed time of the request (approximately)\u001b[0m\u001b[0;34m\u001b[0m\u001b[0;34m\u001b[0m\u001b[0;34m\u001b[0m\u001b[0m\n",
      "\u001b[0;32m~/Desktop/Projects/SDE_Dashboard/venv/lib/python3.6/site-packages/requests/adapters.py\u001b[0m in \u001b[0;36msend\u001b[0;34m(self, request, stream, timeout, verify, cert, proxies)\u001b[0m\n\u001b[1;32m    447\u001b[0m                     \u001b[0mdecode_content\u001b[0m\u001b[0;34m=\u001b[0m\u001b[0;32mFalse\u001b[0m\u001b[0;34m,\u001b[0m\u001b[0;34m\u001b[0m\u001b[0;34m\u001b[0m\u001b[0m\n\u001b[1;32m    448\u001b[0m                     \u001b[0mretries\u001b[0m\u001b[0;34m=\u001b[0m\u001b[0mself\u001b[0m\u001b[0;34m.\u001b[0m\u001b[0mmax_retries\u001b[0m\u001b[0;34m,\u001b[0m\u001b[0;34m\u001b[0m\u001b[0;34m\u001b[0m\u001b[0m\n\u001b[0;32m--> 449\u001b[0;31m                     \u001b[0mtimeout\u001b[0m\u001b[0;34m=\u001b[0m\u001b[0mtimeout\u001b[0m\u001b[0;34m\u001b[0m\u001b[0;34m\u001b[0m\u001b[0m\n\u001b[0m\u001b[1;32m    450\u001b[0m                 )\n\u001b[1;32m    451\u001b[0m \u001b[0;34m\u001b[0m\u001b[0m\n",
      "\u001b[0;32m~/Desktop/Projects/SDE_Dashboard/venv/lib/python3.6/site-packages/urllib3/connectionpool.py\u001b[0m in \u001b[0;36murlopen\u001b[0;34m(self, method, url, body, headers, retries, redirect, assert_same_host, timeout, pool_timeout, release_conn, chunked, body_pos, **response_kw)\u001b[0m\n\u001b[1;32m    675\u001b[0m                 \u001b[0mbody\u001b[0m\u001b[0;34m=\u001b[0m\u001b[0mbody\u001b[0m\u001b[0;34m,\u001b[0m\u001b[0;34m\u001b[0m\u001b[0;34m\u001b[0m\u001b[0m\n\u001b[1;32m    676\u001b[0m                 \u001b[0mheaders\u001b[0m\u001b[0;34m=\u001b[0m\u001b[0mheaders\u001b[0m\u001b[0;34m,\u001b[0m\u001b[0;34m\u001b[0m\u001b[0;34m\u001b[0m\u001b[0m\n\u001b[0;32m--> 677\u001b[0;31m                 \u001b[0mchunked\u001b[0m\u001b[0;34m=\u001b[0m\u001b[0mchunked\u001b[0m\u001b[0;34m,\u001b[0m\u001b[0;34m\u001b[0m\u001b[0;34m\u001b[0m\u001b[0m\n\u001b[0m\u001b[1;32m    678\u001b[0m             )\n\u001b[1;32m    679\u001b[0m \u001b[0;34m\u001b[0m\u001b[0m\n",
      "\u001b[0;32m~/Desktop/Projects/SDE_Dashboard/venv/lib/python3.6/site-packages/urllib3/connectionpool.py\u001b[0m in \u001b[0;36m_make_request\u001b[0;34m(self, conn, method, url, timeout, chunked, **httplib_request_kw)\u001b[0m\n\u001b[1;32m    424\u001b[0m                     \u001b[0;31m# Python 3 (including for exceptions like SystemExit).\u001b[0m\u001b[0;34m\u001b[0m\u001b[0;34m\u001b[0m\u001b[0;34m\u001b[0m\u001b[0m\n\u001b[1;32m    425\u001b[0m                     \u001b[0;31m# Otherwise it looks like a bug in the code.\u001b[0m\u001b[0;34m\u001b[0m\u001b[0;34m\u001b[0m\u001b[0;34m\u001b[0m\u001b[0m\n\u001b[0;32m--> 426\u001b[0;31m                     \u001b[0msix\u001b[0m\u001b[0;34m.\u001b[0m\u001b[0mraise_from\u001b[0m\u001b[0;34m(\u001b[0m\u001b[0me\u001b[0m\u001b[0;34m,\u001b[0m \u001b[0;32mNone\u001b[0m\u001b[0;34m)\u001b[0m\u001b[0;34m\u001b[0m\u001b[0;34m\u001b[0m\u001b[0m\n\u001b[0m\u001b[1;32m    427\u001b[0m         \u001b[0;32mexcept\u001b[0m \u001b[0;34m(\u001b[0m\u001b[0mSocketTimeout\u001b[0m\u001b[0;34m,\u001b[0m \u001b[0mBaseSSLError\u001b[0m\u001b[0;34m,\u001b[0m \u001b[0mSocketError\u001b[0m\u001b[0;34m)\u001b[0m \u001b[0;32mas\u001b[0m \u001b[0me\u001b[0m\u001b[0;34m:\u001b[0m\u001b[0;34m\u001b[0m\u001b[0;34m\u001b[0m\u001b[0m\n\u001b[1;32m    428\u001b[0m             \u001b[0mself\u001b[0m\u001b[0;34m.\u001b[0m\u001b[0m_raise_timeout\u001b[0m\u001b[0;34m(\u001b[0m\u001b[0merr\u001b[0m\u001b[0;34m=\u001b[0m\u001b[0me\u001b[0m\u001b[0;34m,\u001b[0m \u001b[0murl\u001b[0m\u001b[0;34m=\u001b[0m\u001b[0murl\u001b[0m\u001b[0;34m,\u001b[0m \u001b[0mtimeout_value\u001b[0m\u001b[0;34m=\u001b[0m\u001b[0mread_timeout\u001b[0m\u001b[0;34m)\u001b[0m\u001b[0;34m\u001b[0m\u001b[0;34m\u001b[0m\u001b[0m\n",
      "\u001b[0;32m~/Desktop/Projects/SDE_Dashboard/venv/lib/python3.6/site-packages/urllib3/packages/six.py\u001b[0m in \u001b[0;36mraise_from\u001b[0;34m(value, from_value)\u001b[0m\n",
      "\u001b[0;32m~/Desktop/Projects/SDE_Dashboard/venv/lib/python3.6/site-packages/urllib3/connectionpool.py\u001b[0m in \u001b[0;36m_make_request\u001b[0;34m(self, conn, method, url, timeout, chunked, **httplib_request_kw)\u001b[0m\n\u001b[1;32m    419\u001b[0m                 \u001b[0;31m# Python 3\u001b[0m\u001b[0;34m\u001b[0m\u001b[0;34m\u001b[0m\u001b[0;34m\u001b[0m\u001b[0m\n\u001b[1;32m    420\u001b[0m                 \u001b[0;32mtry\u001b[0m\u001b[0;34m:\u001b[0m\u001b[0;34m\u001b[0m\u001b[0;34m\u001b[0m\u001b[0m\n\u001b[0;32m--> 421\u001b[0;31m                     \u001b[0mhttplib_response\u001b[0m \u001b[0;34m=\u001b[0m \u001b[0mconn\u001b[0m\u001b[0;34m.\u001b[0m\u001b[0mgetresponse\u001b[0m\u001b[0;34m(\u001b[0m\u001b[0;34m)\u001b[0m\u001b[0;34m\u001b[0m\u001b[0;34m\u001b[0m\u001b[0m\n\u001b[0m\u001b[1;32m    422\u001b[0m                 \u001b[0;32mexcept\u001b[0m \u001b[0mBaseException\u001b[0m \u001b[0;32mas\u001b[0m \u001b[0me\u001b[0m\u001b[0;34m:\u001b[0m\u001b[0;34m\u001b[0m\u001b[0;34m\u001b[0m\u001b[0m\n\u001b[1;32m    423\u001b[0m                     \u001b[0;31m# Remove the TypeError from the exception chain in\u001b[0m\u001b[0;34m\u001b[0m\u001b[0;34m\u001b[0m\u001b[0;34m\u001b[0m\u001b[0m\n",
      "\u001b[0;32m/usr/lib/python3.6/http/client.py\u001b[0m in \u001b[0;36mgetresponse\u001b[0;34m(self)\u001b[0m\n\u001b[1;32m   1354\u001b[0m         \u001b[0;32mtry\u001b[0m\u001b[0;34m:\u001b[0m\u001b[0;34m\u001b[0m\u001b[0;34m\u001b[0m\u001b[0m\n\u001b[1;32m   1355\u001b[0m             \u001b[0;32mtry\u001b[0m\u001b[0;34m:\u001b[0m\u001b[0;34m\u001b[0m\u001b[0;34m\u001b[0m\u001b[0m\n\u001b[0;32m-> 1356\u001b[0;31m                 \u001b[0mresponse\u001b[0m\u001b[0;34m.\u001b[0m\u001b[0mbegin\u001b[0m\u001b[0;34m(\u001b[0m\u001b[0;34m)\u001b[0m\u001b[0;34m\u001b[0m\u001b[0;34m\u001b[0m\u001b[0m\n\u001b[0m\u001b[1;32m   1357\u001b[0m             \u001b[0;32mexcept\u001b[0m \u001b[0mConnectionError\u001b[0m\u001b[0;34m:\u001b[0m\u001b[0;34m\u001b[0m\u001b[0;34m\u001b[0m\u001b[0m\n\u001b[1;32m   1358\u001b[0m                 \u001b[0mself\u001b[0m\u001b[0;34m.\u001b[0m\u001b[0mclose\u001b[0m\u001b[0;34m(\u001b[0m\u001b[0;34m)\u001b[0m\u001b[0;34m\u001b[0m\u001b[0;34m\u001b[0m\u001b[0m\n",
      "\u001b[0;32m/usr/lib/python3.6/http/client.py\u001b[0m in \u001b[0;36mbegin\u001b[0;34m(self)\u001b[0m\n\u001b[1;32m    305\u001b[0m         \u001b[0;31m# read until we get a non-100 response\u001b[0m\u001b[0;34m\u001b[0m\u001b[0;34m\u001b[0m\u001b[0;34m\u001b[0m\u001b[0m\n\u001b[1;32m    306\u001b[0m         \u001b[0;32mwhile\u001b[0m \u001b[0;32mTrue\u001b[0m\u001b[0;34m:\u001b[0m\u001b[0;34m\u001b[0m\u001b[0;34m\u001b[0m\u001b[0m\n\u001b[0;32m--> 307\u001b[0;31m             \u001b[0mversion\u001b[0m\u001b[0;34m,\u001b[0m \u001b[0mstatus\u001b[0m\u001b[0;34m,\u001b[0m \u001b[0mreason\u001b[0m \u001b[0;34m=\u001b[0m \u001b[0mself\u001b[0m\u001b[0;34m.\u001b[0m\u001b[0m_read_status\u001b[0m\u001b[0;34m(\u001b[0m\u001b[0;34m)\u001b[0m\u001b[0;34m\u001b[0m\u001b[0;34m\u001b[0m\u001b[0m\n\u001b[0m\u001b[1;32m    308\u001b[0m             \u001b[0;32mif\u001b[0m \u001b[0mstatus\u001b[0m \u001b[0;34m!=\u001b[0m \u001b[0mCONTINUE\u001b[0m\u001b[0;34m:\u001b[0m\u001b[0;34m\u001b[0m\u001b[0;34m\u001b[0m\u001b[0m\n\u001b[1;32m    309\u001b[0m                 \u001b[0;32mbreak\u001b[0m\u001b[0;34m\u001b[0m\u001b[0;34m\u001b[0m\u001b[0m\n",
      "\u001b[0;32m/usr/lib/python3.6/http/client.py\u001b[0m in \u001b[0;36m_read_status\u001b[0;34m(self)\u001b[0m\n\u001b[1;32m    266\u001b[0m \u001b[0;34m\u001b[0m\u001b[0m\n\u001b[1;32m    267\u001b[0m     \u001b[0;32mdef\u001b[0m \u001b[0m_read_status\u001b[0m\u001b[0;34m(\u001b[0m\u001b[0mself\u001b[0m\u001b[0;34m)\u001b[0m\u001b[0;34m:\u001b[0m\u001b[0;34m\u001b[0m\u001b[0;34m\u001b[0m\u001b[0m\n\u001b[0;32m--> 268\u001b[0;31m         \u001b[0mline\u001b[0m \u001b[0;34m=\u001b[0m \u001b[0mstr\u001b[0m\u001b[0;34m(\u001b[0m\u001b[0mself\u001b[0m\u001b[0;34m.\u001b[0m\u001b[0mfp\u001b[0m\u001b[0;34m.\u001b[0m\u001b[0mreadline\u001b[0m\u001b[0;34m(\u001b[0m\u001b[0m_MAXLINE\u001b[0m \u001b[0;34m+\u001b[0m \u001b[0;36m1\u001b[0m\u001b[0;34m)\u001b[0m\u001b[0;34m,\u001b[0m \u001b[0;34m\"iso-8859-1\"\u001b[0m\u001b[0;34m)\u001b[0m\u001b[0;34m\u001b[0m\u001b[0;34m\u001b[0m\u001b[0m\n\u001b[0m\u001b[1;32m    269\u001b[0m         \u001b[0;32mif\u001b[0m \u001b[0mlen\u001b[0m\u001b[0;34m(\u001b[0m\u001b[0mline\u001b[0m\u001b[0;34m)\u001b[0m \u001b[0;34m>\u001b[0m \u001b[0m_MAXLINE\u001b[0m\u001b[0;34m:\u001b[0m\u001b[0;34m\u001b[0m\u001b[0;34m\u001b[0m\u001b[0m\n\u001b[1;32m    270\u001b[0m             \u001b[0;32mraise\u001b[0m \u001b[0mLineTooLong\u001b[0m\u001b[0;34m(\u001b[0m\u001b[0;34m\"status line\"\u001b[0m\u001b[0;34m)\u001b[0m\u001b[0;34m\u001b[0m\u001b[0;34m\u001b[0m\u001b[0m\n",
      "\u001b[0;32m/usr/lib/python3.6/socket.py\u001b[0m in \u001b[0;36mreadinto\u001b[0;34m(self, b)\u001b[0m\n\u001b[1;32m    584\u001b[0m         \u001b[0;32mwhile\u001b[0m \u001b[0;32mTrue\u001b[0m\u001b[0;34m:\u001b[0m\u001b[0;34m\u001b[0m\u001b[0;34m\u001b[0m\u001b[0m\n\u001b[1;32m    585\u001b[0m             \u001b[0;32mtry\u001b[0m\u001b[0;34m:\u001b[0m\u001b[0;34m\u001b[0m\u001b[0;34m\u001b[0m\u001b[0m\n\u001b[0;32m--> 586\u001b[0;31m                 \u001b[0;32mreturn\u001b[0m \u001b[0mself\u001b[0m\u001b[0;34m.\u001b[0m\u001b[0m_sock\u001b[0m\u001b[0;34m.\u001b[0m\u001b[0mrecv_into\u001b[0m\u001b[0;34m(\u001b[0m\u001b[0mb\u001b[0m\u001b[0;34m)\u001b[0m\u001b[0;34m\u001b[0m\u001b[0;34m\u001b[0m\u001b[0m\n\u001b[0m\u001b[1;32m    587\u001b[0m             \u001b[0;32mexcept\u001b[0m \u001b[0mtimeout\u001b[0m\u001b[0;34m:\u001b[0m\u001b[0;34m\u001b[0m\u001b[0;34m\u001b[0m\u001b[0m\n\u001b[1;32m    588\u001b[0m                 \u001b[0mself\u001b[0m\u001b[0;34m.\u001b[0m\u001b[0m_timeout_occurred\u001b[0m \u001b[0;34m=\u001b[0m \u001b[0;32mTrue\u001b[0m\u001b[0;34m\u001b[0m\u001b[0;34m\u001b[0m\u001b[0m\n",
      "\u001b[0;32m/usr/lib/python3.6/ssl.py\u001b[0m in \u001b[0;36mrecv_into\u001b[0;34m(self, buffer, nbytes, flags)\u001b[0m\n\u001b[1;32m   1010\u001b[0m                   \u001b[0;34m\"non-zero flags not allowed in calls to recv_into() on %s\"\u001b[0m \u001b[0;34m%\u001b[0m\u001b[0;34m\u001b[0m\u001b[0;34m\u001b[0m\u001b[0m\n\u001b[1;32m   1011\u001b[0m                   self.__class__)\n\u001b[0;32m-> 1012\u001b[0;31m             \u001b[0;32mreturn\u001b[0m \u001b[0mself\u001b[0m\u001b[0;34m.\u001b[0m\u001b[0mread\u001b[0m\u001b[0;34m(\u001b[0m\u001b[0mnbytes\u001b[0m\u001b[0;34m,\u001b[0m \u001b[0mbuffer\u001b[0m\u001b[0;34m)\u001b[0m\u001b[0;34m\u001b[0m\u001b[0;34m\u001b[0m\u001b[0m\n\u001b[0m\u001b[1;32m   1013\u001b[0m         \u001b[0;32melse\u001b[0m\u001b[0;34m:\u001b[0m\u001b[0;34m\u001b[0m\u001b[0;34m\u001b[0m\u001b[0m\n\u001b[1;32m   1014\u001b[0m             \u001b[0;32mreturn\u001b[0m \u001b[0msocket\u001b[0m\u001b[0;34m.\u001b[0m\u001b[0mrecv_into\u001b[0m\u001b[0;34m(\u001b[0m\u001b[0mself\u001b[0m\u001b[0;34m,\u001b[0m \u001b[0mbuffer\u001b[0m\u001b[0;34m,\u001b[0m \u001b[0mnbytes\u001b[0m\u001b[0;34m,\u001b[0m \u001b[0mflags\u001b[0m\u001b[0;34m)\u001b[0m\u001b[0;34m\u001b[0m\u001b[0;34m\u001b[0m\u001b[0m\n",
      "\u001b[0;32m/usr/lib/python3.6/ssl.py\u001b[0m in \u001b[0;36mread\u001b[0;34m(self, len, buffer)\u001b[0m\n\u001b[1;32m    872\u001b[0m             \u001b[0;32mraise\u001b[0m \u001b[0mValueError\u001b[0m\u001b[0;34m(\u001b[0m\u001b[0;34m\"Read on closed or unwrapped SSL socket.\"\u001b[0m\u001b[0;34m)\u001b[0m\u001b[0;34m\u001b[0m\u001b[0;34m\u001b[0m\u001b[0m\n\u001b[1;32m    873\u001b[0m         \u001b[0;32mtry\u001b[0m\u001b[0;34m:\u001b[0m\u001b[0;34m\u001b[0m\u001b[0;34m\u001b[0m\u001b[0m\n\u001b[0;32m--> 874\u001b[0;31m             \u001b[0;32mreturn\u001b[0m \u001b[0mself\u001b[0m\u001b[0;34m.\u001b[0m\u001b[0m_sslobj\u001b[0m\u001b[0;34m.\u001b[0m\u001b[0mread\u001b[0m\u001b[0;34m(\u001b[0m\u001b[0mlen\u001b[0m\u001b[0;34m,\u001b[0m \u001b[0mbuffer\u001b[0m\u001b[0;34m)\u001b[0m\u001b[0;34m\u001b[0m\u001b[0;34m\u001b[0m\u001b[0m\n\u001b[0m\u001b[1;32m    875\u001b[0m         \u001b[0;32mexcept\u001b[0m \u001b[0mSSLError\u001b[0m \u001b[0;32mas\u001b[0m \u001b[0mx\u001b[0m\u001b[0;34m:\u001b[0m\u001b[0;34m\u001b[0m\u001b[0;34m\u001b[0m\u001b[0m\n\u001b[1;32m    876\u001b[0m             \u001b[0;32mif\u001b[0m \u001b[0mx\u001b[0m\u001b[0;34m.\u001b[0m\u001b[0margs\u001b[0m\u001b[0;34m[\u001b[0m\u001b[0;36m0\u001b[0m\u001b[0;34m]\u001b[0m \u001b[0;34m==\u001b[0m \u001b[0mSSL_ERROR_EOF\u001b[0m \u001b[0;32mand\u001b[0m \u001b[0mself\u001b[0m\u001b[0;34m.\u001b[0m\u001b[0msuppress_ragged_eofs\u001b[0m\u001b[0;34m:\u001b[0m\u001b[0;34m\u001b[0m\u001b[0;34m\u001b[0m\u001b[0m\n",
      "\u001b[0;32m/usr/lib/python3.6/ssl.py\u001b[0m in \u001b[0;36mread\u001b[0;34m(self, len, buffer)\u001b[0m\n\u001b[1;32m    629\u001b[0m         \"\"\"\n\u001b[1;32m    630\u001b[0m         \u001b[0;32mif\u001b[0m \u001b[0mbuffer\u001b[0m \u001b[0;32mis\u001b[0m \u001b[0;32mnot\u001b[0m \u001b[0;32mNone\u001b[0m\u001b[0;34m:\u001b[0m\u001b[0;34m\u001b[0m\u001b[0;34m\u001b[0m\u001b[0m\n\u001b[0;32m--> 631\u001b[0;31m             \u001b[0mv\u001b[0m \u001b[0;34m=\u001b[0m \u001b[0mself\u001b[0m\u001b[0;34m.\u001b[0m\u001b[0m_sslobj\u001b[0m\u001b[0;34m.\u001b[0m\u001b[0mread\u001b[0m\u001b[0;34m(\u001b[0m\u001b[0mlen\u001b[0m\u001b[0;34m,\u001b[0m \u001b[0mbuffer\u001b[0m\u001b[0;34m)\u001b[0m\u001b[0;34m\u001b[0m\u001b[0;34m\u001b[0m\u001b[0m\n\u001b[0m\u001b[1;32m    632\u001b[0m         \u001b[0;32melse\u001b[0m\u001b[0;34m:\u001b[0m\u001b[0;34m\u001b[0m\u001b[0;34m\u001b[0m\u001b[0m\n\u001b[1;32m    633\u001b[0m             \u001b[0mv\u001b[0m \u001b[0;34m=\u001b[0m \u001b[0mself\u001b[0m\u001b[0;34m.\u001b[0m\u001b[0m_sslobj\u001b[0m\u001b[0;34m.\u001b[0m\u001b[0mread\u001b[0m\u001b[0;34m(\u001b[0m\u001b[0mlen\u001b[0m\u001b[0;34m)\u001b[0m\u001b[0;34m\u001b[0m\u001b[0;34m\u001b[0m\u001b[0m\n",
      "\u001b[0;31mKeyboardInterrupt\u001b[0m: "
     ]
    }
   ],
   "source": [
    "for repo in repos: # iterating over all repositories associated with the login account\n",
    "\n",
    "    if 'with-ta' in repo.name:\n",
    "        pass\n",
    "\n",
    "    elif ha_1 in repo.name:  # filtering only the assignment repos\n",
    "        repo_commits = repo.get_commits()  # iterable that contains the logs of each commit in the repo\n",
    "\n",
    "        for commit in repo_commits:\n",
    "            print(commitSize(commit))\n"
   ]
  },
  {
   "cell_type": "markdown",
   "metadata": {},
   "source": [
    "## Test Environment"
   ]
  },
  {
   "cell_type": "code",
   "execution_count": 27,
   "metadata": {},
   "outputs": [],
   "source": [
    "import pandas as pd\n",
    "import datetime as dt\n",
    "from github import Github"
   ]
  },
  {
   "cell_type": "code",
   "execution_count": 7,
   "metadata": {},
   "outputs": [],
   "source": [
    "\n",
    "def dataAPI(repos):\n",
    "\n",
    "    ha_1 = '2is50-2019-2020-homework-assignment-1-pair-'  # repos to filter for;\n",
    "    staff_ids = ['sakce', 'kvidelov', 'mackees', 'sakehl', 'thatmariia', 'wstomv', 'sansteTUe', 'HDylanTV', 'gzwaan', 'dmarinissen']\n",
    "\n",
    "    pair_numb = []\n",
    "    authors = []\n",
    "    emails = []\n",
    "    date_time = []\n",
    "    commit_messages = []\n",
    "    additions = []\n",
    "    deletions = []\n",
    "\n",
    "    count = 0  # counter to indicated progress\n",
    "\n",
    "    for repo in repos: # iterating over all repositories associated with the login account\n",
    "\n",
    "        if 'with-ta' in repo.name:\n",
    "            pass\n",
    "\n",
    "        elif ha_1 in repo.name:  # filtering only the assignment repos\n",
    "\n",
    "            pair_id = int(str(repo.name)[len(ha_1):])  # getting the pair number from the repository name\n",
    "            repo_commits = repo.get_commits()  # iterable that contains the logs of each commit in the repo\n",
    "            \n",
    "            for commit in repo_commits:  \n",
    "                \n",
    "                commit_date = commit.commit.author.date.date()  # getting the date and time of the commit\n",
    "                commit_size =commitSize(commit)\n",
    "\n",
    "                if commit.author == None:  # checking whether the account is anonymous\n",
    "\n",
    "                    author = 'Anonymous'\n",
    "                    pair_numb.append(pair_id)\n",
    "                    date_time.append(commit_date)\n",
    "                    authors.append(author)  # author username\n",
    "                    emails.append(commit.commit.author.email)  # author email\n",
    "                    commit_messages.append(commit.commit.message)  # commit message \n",
    "                    additions.append(commit_size[0])\n",
    "                    deletions.append(commit_size[1])\n",
    "\n",
    "                elif commit.author.login not in staff_ids:  # optimal case when the commit is by student\n",
    "\n",
    "                    pair_numb.append(pair_id)\n",
    "                    date_time.append(commit_date)\n",
    "                    authors.append(commit.author.login)  # author username\n",
    "                    emails.append(commit.commit.author.email)  # author email\n",
    "                    commit_messages.append(commit.commit.message)  # commit message \n",
    "                    additions.append(commit_size[0])\n",
    "                    deletions.append(commit_size[1])\n",
    "\n",
    "                elif commit.author.login in staff_ids:  # staff commits\n",
    "                    pass\n",
    "            \n",
    "                else:  # everything else that may be unaccounter for\n",
    "                    print('Issue!')\n",
    "                    print(commit_date, 'Pair: ', pair_id, 'Username: ', commit.author.login)\n",
    "\n",
    "            count += 1\n",
    "            print(count)\n",
    "\n",
    "        else:  # not an assignment repository\n",
    "            pass\n",
    "\n",
    "\n",
    "\n",
    "    api_data = {'Pair': pair_numb, 'Author': authors, 'Author_Email': emails, 'Date': date_time, 'Additions': additions, 'Deletions': deletions, 'Commit_Message': commit_messages}\n",
    "\n",
    "    return api_data"
   ]
  },
  {
   "cell_type": "code",
   "execution_count": 8,
   "metadata": {},
   "outputs": [
    {
     "output_type": "stream",
     "name": "stdout",
     "text": "1\n2\n3\n4\n5\n6\n7\n8\n9\n10\n11\n12\n13\n14\n15\n16\n17\n18\n19\n20\n21\n22\n23\n24\n25\n26\n27\n28\n29\n30\n31\n32\n33\n34\n35\n36\n37\n38\n39\n40\n41\n42\n43\n44\n45\n46\n47\n48\n49\n50\n51\n52\n53\n54\n55\n56\n57\n58\n59\n60\n61\n62\n63\n"
    }
   ],
   "source": [
    "api_data = dataAPI(repos)"
   ]
  },
  {
   "cell_type": "markdown",
   "metadata": {},
   "source": [
    "## Aggregate API data"
   ]
  },
  {
   "cell_type": "code",
   "execution_count": 9,
   "metadata": {},
   "outputs": [
    {
     "output_type": "stream",
     "name": "stdout",
     "text": "Pair 1704\nAuthor 1704\nAuthor_Email 1704\nDate 1704\nAdditions 1704\nDeletions 1704\nCommit_Message 1704\n"
    }
   ],
   "source": [
    "for i in api_data:\n",
    "    print(i, len(api_data[i]))"
   ]
  },
  {
   "cell_type": "code",
   "execution_count": 10,
   "metadata": {},
   "outputs": [],
   "source": [
    "df_data = pd.DataFrame(api_data)\n",
    "all_unique_pairs = df_data['Pair'].unique()"
   ]
  },
  {
   "cell_type": "code",
   "execution_count": 12,
   "metadata": {},
   "outputs": [],
   "source": [
    "grouped_data = df_data.groupby(by=['Pair','Date','Author']).describe()"
   ]
  },
  {
   "cell_type": "code",
   "execution_count": 24,
   "metadata": {},
   "outputs": [],
   "source": [
    "x = grouped_data['Additions'][['max']].reset_index()\n",
    "x['Deletions'] = grouped_data['Deletions'][['max']].reset_index()['max']\n",
    "x = x.rename(columns={'max': 'Additions'})"
   ]
  },
  {
   "cell_type": "code",
   "execution_count": 27,
   "metadata": {},
   "outputs": [],
   "source": [
    "grouped_data = x"
   ]
  },
  {
   "cell_type": "code",
   "execution_count": 38,
   "metadata": {},
   "outputs": [
    {
     "output_type": "execute_result",
     "data": {
      "text/plain": "577"
     },
     "metadata": {},
     "execution_count": 38
    }
   ],
   "source": [
    "len(grouped_data['Author'])"
   ]
  },
  {
   "cell_type": "code",
   "execution_count": 48,
   "metadata": {
    "tags": [
     "outputPrepend",
     "outputPrepend",
     "outputPrepend",
     "outputPrepend",
     "outputPrepend",
     "outputPrepend"
    ]
   },
   "outputs": [
    {
     "output_type": "stream",
     "name": "stdout",
     "text": "   40.0       43.0\n396    43  2020-05-13  SjoerdKurstjens       30.0       43.0\n     Pair        Date           Author  Additions  Deletions\n397    43  2020-05-14       BibiFloris       32.0       32.0\n398    43  2020-05-14  SjoerdKurstjens       36.0       16.0\n     Pair        Date         Author  Additions  Deletions\n399    44  2020-05-01      Anonymous       26.0        9.0\n400    44  2020-05-01  LarsMulder242       37.0       19.0\n     Pair        Date         Author  Additions  Deletions\n401    44  2020-05-02  LarsMulder242       16.0       10.0\n     Pair        Date     Author  Additions  Deletions\n402    44  2020-05-03  Anonymous        7.0        6.0\n     Pair        Date         Author  Additions  Deletions\n403    44  2020-05-04      Anonymous        3.0        0.0\n404    44  2020-05-04  LarsMulder242        6.0        8.0\n     Pair        Date     Author  Additions  Deletions\n405    44  2020-05-06  Anonymous       37.0        6.0\n     Pair        Date     Author  Additions  Deletions\n406    44  2020-05-13  Anonymous       43.0       11.0\n     Pair        Date         Author  Additions  Deletions\n407    44  2020-05-15      Anonymous       38.0        5.0\n408    44  2020-05-15  LarsMulder242       86.0       33.0\n     Pair        Date     Author  Additions  Deletions\n409    44  2020-05-16  Anonymous       13.0        6.0\n     Pair        Date        Author  Additions  Deletions\n410    45  2020-05-01  EstherMendel       29.0        6.0\n     Pair        Date        Author  Additions  Deletions\n411    45  2020-05-02  EstherMendel        6.0        1.0\n     Pair        Date        Author  Additions  Deletions\n412    45  2020-05-03  EstherMendel       89.0       44.0\n     Pair        Date     Author  Additions  Deletions\n413    45  2020-05-06  mcbarella       12.0        6.0\n     Pair        Date        Author  Additions  Deletions\n414    45  2020-05-07  EstherMendel       65.0       23.0\n     Pair        Date        Author  Additions  Deletions\n415    45  2020-05-08  EstherMendel       84.0        9.0\n416    45  2020-05-08     mcbarella       84.0       37.0\n     Pair        Date     Author  Additions  Deletions\n417    45  2020-05-10  mcbarella       64.0       43.0\n     Pair        Date         Author  Additions  Deletions\n418    46  2020-05-06  NickJeurissen       11.0       11.0\n419    46  2020-05-06          yanbr      355.0       12.0\n     Pair        Date         Author  Additions  Deletions\n420    46  2020-05-14  NickJeurissen       74.0        4.0\n     Pair        Date     Author  Additions  Deletions\n421    47  2020-05-07  Anonymous        4.0        4.0\n422    47  2020-05-07      Btl11       26.0       12.0\n     Pair        Date     Author  Additions  Deletions\n423    47  2020-05-08  Anonymous       73.0       16.0\n424    47  2020-05-08      Btl11       52.0       23.0\n     Pair        Date Author  Additions  Deletions\n425    47  2020-05-09  Btl11       74.0       66.0\n     Pair        Date     Author  Additions  Deletions\n426    47  2020-05-10  Anonymous       48.0       14.0\n     Pair        Date     Author  Additions  Deletions\n427    47  2020-05-11  Anonymous        8.0        2.0\n428    47  2020-05-11      Btl11       52.0       43.0\n     Pair        Date         Author  Additions  Deletions\n429    49  2020-05-05    bryancghnus       39.0        7.0\n430    49  2020-05-05  terunakanishi       39.0        7.0\n     Pair        Date         Author  Additions  Deletions\n431    49  2020-05-06    bryancghnus       38.0       15.0\n432    49  2020-05-06  terunakanishi       25.0       15.0\n     Pair        Date         Author  Additions  Deletions\n433    49  2020-05-07  terunakanishi       12.0        0.0\n    Pair        Date    Author  Additions  Deletions\n35     5  2020-05-04  20193289       21.0        4.0\n36     5  2020-05-04   EddydeH       32.0       15.0\n    Pair        Date    Author  Additions  Deletions\n37     5  2020-05-10  20193289       72.0       19.0\n38     5  2020-05-10   EddydeH       23.0       15.0\n    Pair        Date   Author  Additions  Deletions\n39     5  2020-05-13  EddydeH        0.0        0.0\n     Pair        Date           Author  Additions  Deletions\n434    50  2020-05-04  Harry-Verspagen       15.0       15.0\n435    50  2020-05-04     SanderDebets       20.0        3.0\n     Pair        Date           Author  Additions  Deletions\n436    50  2020-05-05  Harry-Verspagen       19.0        8.0\n437    50  2020-05-05     SanderDebets       37.0       16.0\n     Pair        Date           Author  Additions  Deletions\n438    50  2020-05-15  Harry-Verspagen       41.0        5.0\n     Pair        Date           Author  Additions  Deletions\n439    50  2020-05-17  Harry-Verspagen       40.0       30.0\n440    50  2020-05-17     SanderDebets       32.0       17.0\n     Pair        Date           Author  Additions  Deletions\n441    50  2020-05-18  Harry-Verspagen       45.0       36.0\n442    50  2020-05-18     SanderDebets       29.0       11.0\n     Pair        Date       Author  Additions  Deletions\n443    51  2020-04-30  alex-molnar        6.0        6.0\n     Pair        Date       Author  Additions  Deletions\n444    51  2020-05-01  alex-molnar       19.0        3.0\n445    51  2020-05-01  degrootward       25.0        9.0\n     Pair        Date       Author  Additions  Deletions\n446    51  2020-05-02  alex-molnar       52.0       18.0\n     Pair        Date       Author  Additions  Deletions\n447    51  2020-05-04  alex-molnar       47.0        2.0\n448    51  2020-05-04  degrootward       29.0       14.0\n     Pair        Date       Author  Additions  Deletions\n449    51  2020-05-05  alex-molnar      121.0       17.0\n     Pair        Date       Author  Additions  Deletions\n450    51  2020-05-07  alex-molnar        2.0        0.0\n     Pair        Date       Author  Additions  Deletions\n451    51  2020-05-08  alex-molnar       27.0        5.0\n452    51  2020-05-08  degrootward       41.0        4.0\n     Pair        Date       Author  Additions  Deletions\n453    51  2020-05-10  alex-molnar       29.0       74.0\n     Pair        Date       Author  Additions  Deletions\n454    51  2020-05-12  alex-molnar       97.0       71.0\n455    51  2020-05-12  degrootward       24.0        1.0\n     Pair        Date           Author  Additions  Deletions\n456    53  2020-04-30  Carlos-Zieleman       22.0       10.0\n     Pair        Date     Author  Additions  Deletions\n457    53  2020-05-01  bonjasper       52.0       11.0\n     Pair        Date           Author  Additions  Deletions\n458    53  2020-05-04  Carlos-Zieleman       78.0       14.0\n     Pair        Date     Author  Additions  Deletions\n459    53  2020-05-06  bonjasper      123.0       59.0\n     Pair        Date           Author  Additions  Deletions\n460    53  2020-05-14  Carlos-Zieleman       94.0       48.0\n     Pair        Date    Author  Additions  Deletions\n461    55  2020-05-06  Michared       43.0       10.0\n462    55  2020-05-06  fllagami       15.0       15.0\n     Pair        Date    Author  Additions  Deletions\n463    55  2020-05-07  Michared       38.0       15.0\n     Pair        Date    Author  Additions  Deletions\n464    55  2020-05-13  Michared        1.0        1.0\n465    55  2020-05-13  fllagami       84.0       27.0\n     Pair        Date    Author  Additions  Deletions\n466    55  2020-05-14  Michared       21.0        6.0\n467    55  2020-05-14  fllagami       29.0       17.0\n     Pair        Date    Author  Additions  Deletions\n468    55  2020-05-15  Michared       23.0       16.0\n     Pair        Date    Author  Additions  Deletions\n469    55  2020-05-17  Michared       49.0       28.0\n470    55  2020-05-17  fllagami       69.0       21.0\n     Pair        Date    Author  Additions  Deletions\n471    55  2020-05-18  Michared       51.0       11.0\n472    55  2020-05-18  fllagami       26.0        2.0\n    Pair        Date           Author  Additions  Deletions\n40     6  2020-05-07  SabineHavermans        7.0        6.0\n41     6  2020-05-07          jxdamen       25.0        9.0\n    Pair        Date   Author  Additions  Deletions\n42     6  2020-05-12  jxdamen       63.0        7.0\n    Pair        Date           Author  Additions  Deletions\n43     6  2020-05-14  SabineHavermans       22.0        7.0\n44     6  2020-05-14          jxdamen       40.0       15.0\n     Pair        Date          Author  Additions  Deletions\n473    60  2020-05-01          lol0rg       35.0        7.0\n474    60  2020-05-01  tijnvanderzwan       48.0        5.0\n     Pair        Date  Author  Additions  Deletions\n475    60  2020-05-05  lol0rg       35.0       19.0\n     Pair        Date  Author  Additions  Deletions\n476    60  2020-05-08  lol0rg       41.0       23.0\n     Pair        Date          Author  Additions  Deletions\n477    60  2020-05-10          lol0rg        5.0        4.0\n478    60  2020-05-10  tijnvanderzwan       84.0       54.0\n     Pair        Date  Author  Additions  Deletions\n479    60  2020-05-11  lol0rg       48.0       16.0\n     Pair        Date  Author  Additions  Deletions\n480    60  2020-05-12  lol0rg       44.0       48.0\n     Pair        Date          Author  Additions  Deletions\n481    60  2020-05-13  tijnvanderzwan      151.0       28.0\n     Pair        Date          Author  Additions  Deletions\n482    60  2020-05-14  tijnvanderzwan       54.0        2.0\n     Pair        Date          Author  Additions  Deletions\n483    60  2020-05-15  tijnvanderzwan        0.0        0.0\n     Pair        Date      Author  Additions  Deletions\n484    63  2020-05-06   Anonymous       38.0       15.0\n485    63  2020-05-06  Lucia2is50       23.0       39.0\n     Pair        Date     Author  Additions  Deletions\n486    63  2020-05-13  Anonymous       29.0        3.0\n     Pair        Date      Author  Additions  Deletions\n487    63  2020-05-14   Anonymous       46.0       17.0\n488    63  2020-05-14  Lucia2is50       12.0        4.0\n     Pair        Date     Author  Additions  Deletions\n489    65  2020-05-04  SimonvanV       10.0        7.0\n490    65  2020-05-04    s149226       27.0       11.0\n     Pair        Date     Author  Additions  Deletions\n491    65  2020-05-06  SimonvanV        7.0        0.0\n492    65  2020-05-06    s149226       24.0       13.0\n     Pair        Date     Author  Additions  Deletions\n493    65  2020-05-07  SimonvanV        0.0        0.0\n494    65  2020-05-07    s149226        0.0        0.0\n     Pair        Date   Author  Additions  Deletions\n495    65  2020-05-12  s149226       20.0       12.0\n     Pair        Date   Author  Additions  Deletions\n496    65  2020-05-13  s149226       36.0        9.0\n     Pair        Date        Author  Additions  Deletions\n497    66  2020-04-29  brickmasterj       12.0       12.0\n     Pair        Date        Author  Additions  Deletions\n498    66  2020-05-01   Patrick6698       15.0        8.0\n499    66  2020-05-01  brickmasterj       20.0       19.0\n     Pair        Date        Author  Additions  Deletions\n500    66  2020-05-02  brickmasterj       49.0       24.0\n     Pair        Date        Author  Additions  Deletions\n501    66  2020-05-05  brickmasterj       25.0        5.0\n     Pair        Date        Author  Additions  Deletions\n502    66  2020-05-06   Patrick6698       12.0        3.0\n503    66  2020-05-06  brickmasterj       49.0       13.0\n     Pair        Date        Author  Additions  Deletions\n504    66  2020-05-07  brickmasterj       33.0       10.0\n     Pair        Date       Author  Additions  Deletions\n505    66  2020-05-12  Patrick6698        0.0        0.0\n     Pair        Date     Author  Additions  Deletions\n506    69  2020-05-04   SCVW1868       27.0        8.0\n507    69  2020-05-04  ThorAbegg       28.0        7.0\n     Pair        Date     Author  Additions  Deletions\n508    69  2020-05-05   SCVW1868       36.0       19.0\n509    69  2020-05-05  ThorAbegg       23.0       34.0\n     Pair        Date     Author  Additions  Deletions\n510    69  2020-05-07   SCVW1868        0.0        0.0\n511    69  2020-05-07  ThorAbegg        4.0        3.0\n     Pair        Date     Author  Additions  Deletions\n512    69  2020-05-12   SCVW1868       32.0       14.0\n513    69  2020-05-12  ThorAbegg       29.0        4.0\n     Pair        Date     Author  Additions  Deletions\n514    69  2020-05-13   SCVW1868       30.0        7.0\n515    69  2020-05-13  ThorAbegg       60.0       46.0\n     Pair        Date     Author  Additions  Deletions\n516    69  2020-05-14   SCVW1868       15.0        0.0\n517    69  2020-05-14  ThorAbegg       32.0       29.0\n    Pair        Date            Author  Additions  Deletions\n45     7  2020-05-02         Pietertue       12.0       11.0\n46     7  2020-05-02  Stijnvandervoort       23.0       11.0\n    Pair        Date            Author  Additions  Deletions\n47     7  2020-05-04         Pietertue       41.0       17.0\n48     7  2020-05-04  Stijnvandervoort        0.0        0.0\n    Pair        Date            Author  Additions  Deletions\n49     7  2020-05-05  Stijnvandervoort       32.0       21.0\n    Pair        Date            Author  Additions  Deletions\n50     7  2020-05-06  Stijnvandervoort       19.0       12.0\n    Pair        Date            Author  Additions  Deletions\n51     7  2020-05-07         Pietertue       56.0       31.0\n52     7  2020-05-07  Stijnvandervoort       38.0        8.0\n     Pair        Date        Author  Additions  Deletions\n518    70  2020-04-30       Mikaaa8       26.0       20.0\n519    70  2020-04-30  ThomasMuhren       26.0        8.0\n     Pair        Date        Author  Additions  Deletions\n520    70  2020-05-01       Mikaaa8       48.0        6.0\n521    70  2020-05-01  ThomasMuhren        9.0        4.0\n     Pair        Date        Author  Additions  Deletions\n522    70  2020-05-05       Mikaaa8       47.0       15.0\n523    70  2020-05-05  ThomasMuhren       36.0       15.0\n     Pair        Date        Author  Additions  Deletions\n524    70  2020-05-06       Mikaaa8       47.0       30.0\n525    70  2020-05-06  ThomasMuhren       30.0       49.0\n     Pair        Date        Author  Additions  Deletions\n526    70  2020-05-07       Mikaaa8       81.0       77.0\n527    70  2020-05-07  ThomasMuhren       59.0       11.0\n     Pair        Date        Author  Additions  Deletions\n528    70  2020-05-08       Mikaaa8       98.0       52.0\n529    70  2020-05-08  ThomasMuhren       22.0       11.0\n     Pair        Date        Author  Additions  Deletions\n530    70  2020-05-12       Mikaaa8       39.0       29.0\n531    70  2020-05-12  ThomasMuhren       26.0        7.0\n     Pair        Date        Author  Additions  Deletions\n532    70  2020-05-14  ThomasMuhren      130.0      120.0\n     Pair        Date            Author  Additions  Deletions\n533    71  2020-05-07  jurriaanreichert        0.0        0.0\n534    71  2020-05-07            mgijsm       15.0       15.0\n     Pair        Date  Author  Additions  Deletions\n535    71  2020-05-11  mgijsm        0.0        0.0\n     Pair        Date      Author  Additions  Deletions\n536    72  2020-05-05    20192968       12.0        5.0\n537    72  2020-05-05  Marijn-dev       15.0       15.0\n     Pair        Date      Author  Additions  Deletions\n538    72  2020-05-06    20192968       15.0       11.0\n539    72  2020-05-06  Marijn-dev       24.0       20.0\n     Pair        Date      Author  Additions  Deletions\n540    72  2020-05-07  Marijn-dev       13.0        6.0\n     Pair        Date    Author  Additions  Deletions\n541    72  2020-05-13  20192968       17.0        8.0\n     Pair        Date          Author  Additions  Deletions\n542    77  2020-04-30  Laszlo-Roovers       11.0       11.0\n543    77  2020-04-30        rvkupper       26.0        7.0\n     Pair        Date    Author  Additions  Deletions\n544    77  2020-05-07  rvkupper       15.0        3.0\n     Pair        Date          Author  Additions  Deletions\n545    77  2020-05-10  Laszlo-Roovers       15.0        3.0\n     Pair        Date          Author  Additions  Deletions\n546    77  2020-05-11  Laszlo-Roovers       14.0        5.0\n547    77  2020-05-11        rvkupper       18.0       12.0\n     Pair        Date    Author  Additions  Deletions\n548    77  2020-05-12  rvkupper       24.0       14.0\n     Pair        Date          Author  Additions  Deletions\n549    77  2020-05-13  Laszlo-Roovers       83.0       19.0\n550    77  2020-05-13        rvkupper       64.0       14.0\n\nIssue! More than 2 pair members with pair 8\nMembers:  ['invalid-email-address' 'willemsjob' 'RobHoogma']\n     Pair        Date          Author  Additions  Deletions\n551    77  2020-05-14  Laszlo-Roovers       40.0       24.0\n552    77  2020-05-14        rvkupper       73.0        6.0\n     Pair        Date                Author  Additions  Deletions\n553    87  2020-05-04  ElionaiWeldeghebreal       15.0        3.0\n554    87  2020-05-04        LucasvanBentum       25.0        4.0\n     Pair        Date                Author  Additions  Deletions\n555    87  2020-05-07  ElionaiWeldeghebreal       29.0       11.0\n     Pair        Date                Author  Additions  Deletions\n556    87  2020-05-10  ElionaiWeldeghebreal       40.0       25.0\n557    87  2020-05-10        LucasvanBentum       39.0       26.0\n     Pair        Date                Author  Additions  Deletions\n558    87  2020-05-12  ElionaiWeldeghebreal       26.0        0.0\n     Pair        Date                Author  Additions  Deletions\n559    87  2020-05-14  ElionaiWeldeghebreal       71.0        9.0\n     Pair        Date                Author  Additions  Deletions\n560    87  2020-05-17  ElionaiWeldeghebreal       74.0       12.0\n     Pair        Date        Author  Additions  Deletions\n561    88  2020-05-08  FinnRuijters       23.0       11.0\n562    88  2020-05-08  ZephRuijters       48.0       44.0\n     Pair        Date        Author  Additions  Deletions\n563    88  2020-05-11  FinnRuijters       22.0        5.0\n564    88  2020-05-11  ZephRuijters       20.0       20.0\n     Pair        Date        Author  Additions  Deletions\n565    88  2020-05-17  FinnRuijters       24.0       14.0\n566    88  2020-05-17  ZephRuijters       61.0       77.0\n     Pair        Date      Author  Additions  Deletions\n567    89  2020-05-06  pimhanssen       14.0        8.0\n     Pair        Date        Author  Additions  Deletions\n568    89  2020-05-07  DaanvStratum       28.0       34.0\n569    89  2020-05-07    pimhanssen       24.0       13.0\n     Pair        Date        Author  Additions  Deletions\n570    89  2020-05-14  DaanvStratum       12.0       10.0\n571    89  2020-05-14    pimhanssen       63.0       22.0\n     Pair        Date        Author  Additions  Deletions\n572    89  2020-05-17  DaanvStratum       51.0       47.0\n     Pair        Date      Author  Additions  Deletions\n573    89  2020-05-18  pimhanssen        0.0        0.0\n    Pair        Date     Author  Additions  Deletions\n63     9  2020-04-30  Jeroen921       24.0       16.0\n64     9  2020-04-30  PatrikPat       29.0        8.0\n    Pair        Date     Author  Additions  Deletions\n65     9  2020-05-01  Jeroen921       28.0       12.0\n    Pair        Date     Author  Additions  Deletions\n66     9  2020-05-04  Jeroen921       43.0       12.0\n67     9  2020-05-04  PatrikPat       52.0       43.0\n    Pair        Date     Author  Additions  Deletions\n68     9  2020-05-06  PatrikPat        8.0        5.0\n    Pair        Date     Author  Additions  Deletions\n69     9  2020-05-07  PatrikPat        9.0        9.0\n    Pair        Date     Author  Additions  Deletions\n70     9  2020-05-08  Jeroen921       75.0       18.0\n71     9  2020-05-08  PatrikPat       17.0        2.0\n    Pair        Date     Author  Additions  Deletions\n72     9  2020-05-11  Jeroen921       86.0       64.0\n73     9  2020-05-11  PatrikPat        9.0        1.0\n    Pair        Date     Author  Additions  Deletions\n74     9  2020-05-14  PatrikPat        0.0        1.0\n     Pair        Date  Author  Additions  Deletions\n574    90  2020-05-05  LinTaw       10.0        9.0\n575    90  2020-05-05  Loebna       15.0       15.0\n"
    }
   ],
   "source": [
    "aggregated_list = []\n",
    "\n",
    "for pair in all_unique_pairs:\n",
    "\n",
    "    df_pair = grouped_data[grouped_data['Pair'] == pair]\n",
    "\n",
    "    members = df_pair['Author'].unique()\n",
    "\n",
    "    if len(members) == 2: # best scenario\n",
    "\n",
    "        for date in df_pair['Date'].unique():\n",
    "            \n",
    "            print(df_pair_date)\n",
    "            df_pair_date = df_pair[df_pair['Date'] == date]\n",
    "            m_1 = df_pair_date[df_pair_date['Author'] == members[0]]\n",
    "            m_2 = df_pair_date[df_pair_date['Author'] == members[1]]\n",
    "\n",
    "            m1_additions = df_pair_date[df_pair_date['Author'] == members[0]]['Additions'].sum()\n",
    "            m2_additions = df_pair_date[df_pair_date['Author'] == members[1]]['Additions'].sum()\n",
    "\n",
    "            m1_deletions = df_pair_date[df_pair_date['Author'] == members[0]]['Deletions'].sum()\n",
    "            m2_deletions = df_pair_date[df_pair_date['Author'] == members[0]]['Deletions'].sum()\n",
    "\n",
    "\n",
    "            aggregated_list.append([pair, date, m_1, m_2, m1_additions, m2_additions, m1_deletions, m2_deletions])\n",
    "\n",
    "    elif len(members) > 2: \n",
    "\n",
    "        \n",
    "        print('\\nIssue! More than 2 pair members with pair', pair)\n",
    "        print('Members: ', members)\n",
    "\n",
    "    elif len(members) < 2: \n",
    "        print('\\nIssue! Less than 2 pair members with pair', pair)\n",
    "        print('Members: ', members)"
   ]
  },
  {
   "cell_type": "code",
   "execution_count": 54,
   "metadata": {},
   "outputs": [
    {
     "output_type": "execute_result",
     "data": {
      "text/plain": "     Pair        Date  Author  Additions  Deletions\n575    90  2020-05-05  Loebna       15.0       15.0\n576    90  2020-05-07  Loebna       53.0        9.0",
      "text/html": "<div>\n<style scoped>\n    .dataframe tbody tr th:only-of-type {\n        vertical-align: middle;\n    }\n\n    .dataframe tbody tr th {\n        vertical-align: top;\n    }\n\n    .dataframe thead th {\n        text-align: right;\n    }\n</style>\n<table border=\"1\" class=\"dataframe\">\n  <thead>\n    <tr style=\"text-align: right;\">\n      <th></th>\n      <th>Pair</th>\n      <th>Date</th>\n      <th>Author</th>\n      <th>Additions</th>\n      <th>Deletions</th>\n    </tr>\n  </thead>\n  <tbody>\n    <tr>\n      <th>575</th>\n      <td>90</td>\n      <td>2020-05-05</td>\n      <td>Loebna</td>\n      <td>15.0</td>\n      <td>15.0</td>\n    </tr>\n    <tr>\n      <th>576</th>\n      <td>90</td>\n      <td>2020-05-07</td>\n      <td>Loebna</td>\n      <td>53.0</td>\n      <td>9.0</td>\n    </tr>\n  </tbody>\n</table>\n</div>"
     },
     "metadata": {},
     "execution_count": 54
    }
   ],
   "source": [
    "df_pair[df_pair['Author'] == members[1]]"
   ]
  },
  {
   "cell_type": "code",
   "execution_count": 67,
   "metadata": {},
   "outputs": [
    {
     "output_type": "execute_result",
     "data": {
      "text/plain": "datetime.date(2020, 5, 17)"
     },
     "metadata": {},
     "execution_count": 67
    }
   ],
   "source": [
    "api_data['Date'][1]"
   ]
  },
  {
   "cell_type": "code",
   "execution_count": 75,
   "metadata": {},
   "outputs": [
    {
     "output_type": "execute_result",
     "data": {
      "text/plain": "    Pair        Date         Author  Additions  Deletions\n0      2  2020-04-30  ties-oosthoek        9.0        9.0\n1      2  2020-05-02        iliasdf        6.0        6.0\n2      2  2020-05-02  ties-oosthoek       44.0        4.0\n3      2  2020-05-03        iliasdf       17.0        2.0\n4      2  2020-05-04  ties-oosthoek       24.0       15.0\n5      2  2020-05-05        iliasdf       30.0        8.0\n6      2  2020-05-06  ties-oosthoek       34.0       20.0\n7      2  2020-05-13        iliasdf       41.0        2.0\n8      2  2020-05-13  ties-oosthoek       44.0       41.0\n9      2  2020-05-14        iliasdf       62.0       43.0\n10     2  2020-05-14  ties-oosthoek       44.0       37.0",
      "text/html": "<div>\n<style scoped>\n    .dataframe tbody tr th:only-of-type {\n        vertical-align: middle;\n    }\n\n    .dataframe tbody tr th {\n        vertical-align: top;\n    }\n\n    .dataframe thead th {\n        text-align: right;\n    }\n</style>\n<table border=\"1\" class=\"dataframe\">\n  <thead>\n    <tr style=\"text-align: right;\">\n      <th></th>\n      <th>Pair</th>\n      <th>Date</th>\n      <th>Author</th>\n      <th>Additions</th>\n      <th>Deletions</th>\n    </tr>\n  </thead>\n  <tbody>\n    <tr>\n      <th>0</th>\n      <td>2</td>\n      <td>2020-04-30</td>\n      <td>ties-oosthoek</td>\n      <td>9.0</td>\n      <td>9.0</td>\n    </tr>\n    <tr>\n      <th>1</th>\n      <td>2</td>\n      <td>2020-05-02</td>\n      <td>iliasdf</td>\n      <td>6.0</td>\n      <td>6.0</td>\n    </tr>\n    <tr>\n      <th>2</th>\n      <td>2</td>\n      <td>2020-05-02</td>\n      <td>ties-oosthoek</td>\n      <td>44.0</td>\n      <td>4.0</td>\n    </tr>\n    <tr>\n      <th>3</th>\n      <td>2</td>\n      <td>2020-05-03</td>\n      <td>iliasdf</td>\n      <td>17.0</td>\n      <td>2.0</td>\n    </tr>\n    <tr>\n      <th>4</th>\n      <td>2</td>\n      <td>2020-05-04</td>\n      <td>ties-oosthoek</td>\n      <td>24.0</td>\n      <td>15.0</td>\n    </tr>\n    <tr>\n      <th>5</th>\n      <td>2</td>\n      <td>2020-05-05</td>\n      <td>iliasdf</td>\n      <td>30.0</td>\n      <td>8.0</td>\n    </tr>\n    <tr>\n      <th>6</th>\n      <td>2</td>\n      <td>2020-05-06</td>\n      <td>ties-oosthoek</td>\n      <td>34.0</td>\n      <td>20.0</td>\n    </tr>\n    <tr>\n      <th>7</th>\n      <td>2</td>\n      <td>2020-05-13</td>\n      <td>iliasdf</td>\n      <td>41.0</td>\n      <td>2.0</td>\n    </tr>\n    <tr>\n      <th>8</th>\n      <td>2</td>\n      <td>2020-05-13</td>\n      <td>ties-oosthoek</td>\n      <td>44.0</td>\n      <td>41.0</td>\n    </tr>\n    <tr>\n      <th>9</th>\n      <td>2</td>\n      <td>2020-05-14</td>\n      <td>iliasdf</td>\n      <td>62.0</td>\n      <td>43.0</td>\n    </tr>\n    <tr>\n      <th>10</th>\n      <td>2</td>\n      <td>2020-05-14</td>\n      <td>ties-oosthoek</td>\n      <td>44.0</td>\n      <td>37.0</td>\n    </tr>\n  </tbody>\n</table>\n</div>"
     },
     "metadata": {},
     "execution_count": 75
    }
   ],
   "source": [
    "d = grouped_data[grouped_data['Pair'] == 2]\n",
    "d"
   ]
  },
  {
   "cell_type": "code",
   "execution_count": 80,
   "metadata": {},
   "outputs": [
    {
     "output_type": "stream",
     "name": "stdout",
     "text": "2020-04-30\nEmpty DataFrame\nColumns: [Pair, Date, Author, Additions, Deletions]\nIndex: []\n2020-05-02\n   Pair        Date   Author  Additions  Deletions\n1     2  2020-05-02  iliasdf        6.0        6.0\n2020-05-03\n   Pair        Date   Author  Additions  Deletions\n3     2  2020-05-03  iliasdf       17.0        2.0\n2020-05-04\nEmpty DataFrame\nColumns: [Pair, Date, Author, Additions, Deletions]\nIndex: []\n2020-05-05\n   Pair        Date   Author  Additions  Deletions\n5     2  2020-05-05  iliasdf       30.0        8.0\n2020-05-06\nEmpty DataFrame\nColumns: [Pair, Date, Author, Additions, Deletions]\nIndex: []\n2020-05-13\n   Pair        Date   Author  Additions  Deletions\n7     2  2020-05-13  iliasdf       41.0        2.0\n2020-05-14\n   Pair        Date   Author  Additions  Deletions\n9     2  2020-05-14  iliasdf       62.0       43.0\n"
    }
   ],
   "source": [
    "members = d['Author'].unique()\n",
    "\n",
    "for date in d['Date'].unique():\n",
    "    print(date)\n",
    "    t = d[d['Date']==date]\n",
    "    print(t[t['Author'] == members[1]])"
   ]
  },
  {
   "cell_type": "code",
   "execution_count": 40,
   "metadata": {},
   "outputs": [],
   "source": [
    "cols = ['Pair', 'Date', 'Member_1', 'Member_2', 'M1_Additions', 'M2_Additions', 'M1_deletions', 'M2_deletions']\n",
    "df_aggregated_member = pd.DataFrame(aggregated_list, columns=cols).sort_values(by='Pair')\n",
    "df_aggregated_member['Total'] = df_aggregated_member['Member_1'] + df_aggregated_member['Member_2']"
   ]
  },
  {
   "cell_type": "code",
   "execution_count": 43,
   "metadata": {},
   "outputs": [
    {
     "output_type": "execute_result",
     "data": {
      "text/plain": "     Pair        Date  Member_1  Member_2  M1_Additions  M2_Additions  \\\n59      2  2020-04-30         1         0           9.0           0.0   \n62      2  2020-05-04         1         0          24.0           0.0   \n64      2  2020-05-06         1         0          34.0           0.0   \n65      2  2020-05-13         1         1          44.0          41.0   \n66      2  2020-05-14         1         1          44.0          62.0   \n..    ...         ...       ...       ...           ...           ...   \n340    89  2020-05-07         1         1          24.0          28.0   \n341    89  2020-05-14         1         1          63.0          12.0   \n339    89  2020-05-06         1         0          14.0           0.0   \n343    89  2020-05-18         1         0           0.0           0.0   \n352    90  2020-05-05         1         1          10.0          15.0   \n\n     M1_deletions  M2_deletions  Total  \n59            9.0           9.0      1  \n62           15.0          15.0      1  \n64           20.0          20.0      1  \n65           41.0          41.0      2  \n66           37.0          37.0      2  \n..            ...           ...    ...  \n340          13.0          13.0      2  \n341          22.0          22.0      2  \n339           8.0           8.0      1  \n343           0.0           0.0      1  \n352           9.0           9.0      2  \n\n[287 rows x 9 columns]",
      "text/html": "<div>\n<style scoped>\n    .dataframe tbody tr th:only-of-type {\n        vertical-align: middle;\n    }\n\n    .dataframe tbody tr th {\n        vertical-align: top;\n    }\n\n    .dataframe thead th {\n        text-align: right;\n    }\n</style>\n<table border=\"1\" class=\"dataframe\">\n  <thead>\n    <tr style=\"text-align: right;\">\n      <th></th>\n      <th>Pair</th>\n      <th>Date</th>\n      <th>Member_1</th>\n      <th>Member_2</th>\n      <th>M1_Additions</th>\n      <th>M2_Additions</th>\n      <th>M1_deletions</th>\n      <th>M2_deletions</th>\n      <th>Total</th>\n    </tr>\n  </thead>\n  <tbody>\n    <tr>\n      <th>59</th>\n      <td>2</td>\n      <td>2020-04-30</td>\n      <td>1</td>\n      <td>0</td>\n      <td>9.0</td>\n      <td>0.0</td>\n      <td>9.0</td>\n      <td>9.0</td>\n      <td>1</td>\n    </tr>\n    <tr>\n      <th>62</th>\n      <td>2</td>\n      <td>2020-05-04</td>\n      <td>1</td>\n      <td>0</td>\n      <td>24.0</td>\n      <td>0.0</td>\n      <td>15.0</td>\n      <td>15.0</td>\n      <td>1</td>\n    </tr>\n    <tr>\n      <th>64</th>\n      <td>2</td>\n      <td>2020-05-06</td>\n      <td>1</td>\n      <td>0</td>\n      <td>34.0</td>\n      <td>0.0</td>\n      <td>20.0</td>\n      <td>20.0</td>\n      <td>1</td>\n    </tr>\n    <tr>\n      <th>65</th>\n      <td>2</td>\n      <td>2020-05-13</td>\n      <td>1</td>\n      <td>1</td>\n      <td>44.0</td>\n      <td>41.0</td>\n      <td>41.0</td>\n      <td>41.0</td>\n      <td>2</td>\n    </tr>\n    <tr>\n      <th>66</th>\n      <td>2</td>\n      <td>2020-05-14</td>\n      <td>1</td>\n      <td>1</td>\n      <td>44.0</td>\n      <td>62.0</td>\n      <td>37.0</td>\n      <td>37.0</td>\n      <td>2</td>\n    </tr>\n    <tr>\n      <th>...</th>\n      <td>...</td>\n      <td>...</td>\n      <td>...</td>\n      <td>...</td>\n      <td>...</td>\n      <td>...</td>\n      <td>...</td>\n      <td>...</td>\n      <td>...</td>\n    </tr>\n    <tr>\n      <th>340</th>\n      <td>89</td>\n      <td>2020-05-07</td>\n      <td>1</td>\n      <td>1</td>\n      <td>24.0</td>\n      <td>28.0</td>\n      <td>13.0</td>\n      <td>13.0</td>\n      <td>2</td>\n    </tr>\n    <tr>\n      <th>341</th>\n      <td>89</td>\n      <td>2020-05-14</td>\n      <td>1</td>\n      <td>1</td>\n      <td>63.0</td>\n      <td>12.0</td>\n      <td>22.0</td>\n      <td>22.0</td>\n      <td>2</td>\n    </tr>\n    <tr>\n      <th>339</th>\n      <td>89</td>\n      <td>2020-05-06</td>\n      <td>1</td>\n      <td>0</td>\n      <td>14.0</td>\n      <td>0.0</td>\n      <td>8.0</td>\n      <td>8.0</td>\n      <td>1</td>\n    </tr>\n    <tr>\n      <th>343</th>\n      <td>89</td>\n      <td>2020-05-18</td>\n      <td>1</td>\n      <td>0</td>\n      <td>0.0</td>\n      <td>0.0</td>\n      <td>0.0</td>\n      <td>0.0</td>\n      <td>1</td>\n    </tr>\n    <tr>\n      <th>352</th>\n      <td>90</td>\n      <td>2020-05-05</td>\n      <td>1</td>\n      <td>1</td>\n      <td>10.0</td>\n      <td>15.0</td>\n      <td>9.0</td>\n      <td>9.0</td>\n      <td>2</td>\n    </tr>\n  </tbody>\n</table>\n<p>287 rows × 9 columns</p>\n</div>"
     },
     "metadata": {},
     "execution_count": 43
    }
   ],
   "source": [
    "df_aggregated_member[df_aggregated_member['Member_1'] != 0]"
   ]
  },
  {
   "cell_type": "code",
   "execution_count": null,
   "metadata": {},
   "outputs": [],
   "source": [
    "os.chdir('../data/')\n",
    "df_aggregated_member.to_csv('ha_1_pairs_aggregated.csv', index=False)"
   ]
  }
 ],
 "metadata": {
  "language_info": {
   "codemirror_mode": {
    "name": "ipython",
    "version": 3
   },
   "file_extension": ".py",
   "mimetype": "text/x-python",
   "name": "python",
   "nbconvert_exporter": "python",
   "pygments_lexer": "ipython3",
   "version": "3.6.9-final"
  },
  "orig_nbformat": 2,
  "kernelspec": {
   "name": "python36964bitvenvvirtualenv2244c714fd104143a129bafb94bdadf5",
   "display_name": "Python 3.6.9 64-bit ('venv': virtualenv)"
  }
 },
 "nbformat": 4,
 "nbformat_minor": 2
}