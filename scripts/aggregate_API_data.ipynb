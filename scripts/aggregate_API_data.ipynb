{
 "cells": [
  {
   "cell_type": "markdown",
   "metadata": {},
   "source": [
    "## 1. Imports"
   ]
  },
  {
   "cell_type": "code",
   "execution_count": 1,
   "metadata": {},
   "outputs": [],
   "source": [
    "import os\n",
    "import pandas as pd\n",
    "from github import Github\n",
    "from credentials import username, password\n",
    "from githubAPI_scrape import scrapeAPI"
   ]
  },
  {
   "cell_type": "markdown",
   "metadata": {},
   "source": [
    "## 2. Storing the API data\n",
    "\n",
    "The goal is to get the data into .csv file which has columns: Pair, Date, Member_1, Member_2, Total.\n",
    "\n",
    "Note that each row should represent a day of work. So, on a date X it shows how many commits each one of the pair members did. If neither one did any commits then this row is not included."
   ]
  },
  {
   "cell_type": "code",
   "execution_count": 2,
   "metadata": {},
   "outputs": [],
   "source": [
    "g = Github(username(), password())  # credentials for github login\n",
    "repos = g.get_user().get_repos()  # iterable; all the repos associated with the profile incl. organizations"
   ]
  },
  {
   "cell_type": "code",
   "execution_count": 3,
   "metadata": {},
   "outputs": [],
   "source": [
    "df_data = pd.DataFrame(scrapeAPI(repos))\n",
    "all_unique_pairs = df_data['Pair'].unique()\n",
    "\n",
    "grouped_data = df_data.groupby(by=['Pair','Date','Author']).describe()\n",
    "grouped_data = grouped_data['Author_Email'][['count']].reset_index()"
   ]
  },
  {
   "cell_type": "code",
   "execution_count": 4,
   "metadata": {},
   "outputs": [
    {
     "output_type": "stream",
     "name": "stdout",
     "text": "\nIssue! More than 2 pair members with pair 11\nMembers:  ['justinalittlefield' 'AER-Stud' 'kajiewang']\n\nIssue! More than 2 pair members with pair 18\nMembers:  ['Steefkuh' 'diederikpel' 'dtpel']\n\nIssue! Less than 2 pair members with pair 19\nMembers:  ['Chri5thiano']\n\nIssue! More than 2 pair members with pair 8\nMembers:  ['invalid-email-address' 'willemsjob' 'RobHoogma']\n"
    }
   ],
   "source": [
    "aggregated_list = []\n",
    "\n",
    "for pair in all_unique_pairs:\n",
    "\n",
    "    df_pair = grouped_data[grouped_data['Pair'] == pair]\n",
    "\n",
    "    members = df_pair['Author'].unique()\n",
    "\n",
    "    if len(members) == 2: # best scenario\n",
    "\n",
    "        for date in df_pair['Date'].unique():\n",
    "\n",
    "            df_pair_date = df_pair[df_pair['Date'] == date]\n",
    "            m_1 = df_pair_date[df_pair_date['Author'] == members[0]]['count'].sum()\n",
    "            m_2 = df_pair_date[df_pair_date['Author'] == members[1]]['count'].sum()\n",
    "\n",
    "        \n",
    "            aggregated_list.append([pair, date, m_1, m_2])\n",
    "\n",
    "    elif len(members) > 2: \n",
    "\n",
    "        \n",
    "        print('\\nIssue! More than 2 pair members with pair', pair)\n",
    "        print('Members: ', members)\n",
    "\n",
    "    elif len(members) < 2: \n",
    "        print('\\nIssue! Less than 2 pair members with pair', pair)\n",
    "        print('Members: ', members)"
   ]
  },
  {
   "cell_type": "markdown",
   "metadata": {},
   "source": [
    "## 2.1. Adressing the above issues manually\n",
    "\n",
    "- Pair 18: user 'dtpel' will contain the commits of 'diederikpel'\n",
    "\n",
    "- Pair 8: user 'RobHoogma' will contain the commits of 'invalid-email-address'\n",
    "\n",
    "- Pair 19: user 'Chri5thiano' will contain all commits and member 0 will have 0 commits as a formality\n",
    "\n",
    "- Pair 11: user 'AER-Stud' commits will be distributed among the other two members"
   ]
  },
  {
   "cell_type": "code",
   "execution_count": 5,
   "metadata": {},
   "outputs": [],
   "source": [
    "# Pair 19\n",
    "\n",
    "custom_p19 = []\n",
    "pair = 19\n",
    "df_pair = grouped_data[grouped_data['Pair'] == pair]\n",
    "members = df_pair['Author'].unique()\n",
    "\n",
    "\n",
    "for date in df_pair['Date'].unique():\n",
    "\n",
    "    df_pair_date = df_pair[df_pair['Date'] == date]\n",
    "    m_1 = df_pair_date[df_pair_date['Author'] == members[0]]['count'].sum()\n",
    "    m_2 = 0\n",
    "\n",
    "    custom_p19.append([pair, date, m_1, m_2])\n",
    "\n",
    "aggregated_list += custom_p19"
   ]
  },
  {
   "cell_type": "code",
   "execution_count": 6,
   "metadata": {},
   "outputs": [],
   "source": [
    "# Pair 18 \n",
    "\n",
    "custom_p18 = []\n",
    "pair = 18\n",
    "df_pair = grouped_data[grouped_data['Pair'] == pair]\n",
    "members = df_pair['Author'].unique()\n",
    "\n",
    "\n",
    "for date in df_pair['Date'].unique():\n",
    "\n",
    "    df_pair_date = df_pair[df_pair['Date'] == date]\n",
    "    m_1 = df_pair_date[df_pair_date['Author'] == members[0]]['count'].sum()\n",
    "    m_2 = df_pair_date[df_pair_date['Author'] == members[1]]['count'].sum()\n",
    "    m_2 += df_pair_date[df_pair_date['Author'] == members[2]]['count'].sum()\n",
    "\n",
    "    custom_p18.append([pair, date, m_1, m_2])\n",
    "\n",
    "aggregated_list += custom_p18"
   ]
  },
  {
   "cell_type": "code",
   "execution_count": 7,
   "metadata": {},
   "outputs": [],
   "source": [
    "# Pair 8 \n",
    "\n",
    "custom_p8 = []\n",
    "pair = 8\n",
    "df_pair = grouped_data[grouped_data['Pair'] == pair]\n",
    "members = df_pair['Author'].unique()\n",
    "\n",
    "\n",
    "for date in df_pair['Date'].unique():\n",
    "\n",
    "    df_pair_date = df_pair[df_pair['Date'] == date]\n",
    "    m_1 = df_pair_date[df_pair_date['Author'] == members[0]]['count'].sum()\n",
    "    m_2 = df_pair_date[df_pair_date['Author'] == members[1]]['count'].sum()\n",
    "    m_1 += df_pair_date[df_pair_date['Author'] == members[2]]['count'].sum()\n",
    "\n",
    "    custom_p8.append([pair, date, m_1, m_2])\n",
    "\n",
    "aggregated_list += custom_p8"
   ]
  },
  {
   "cell_type": "code",
   "execution_count": 8,
   "metadata": {},
   "outputs": [],
   "source": [
    "# Pair 11 \n",
    "\n",
    "custom_p11 = []\n",
    "pair = 11\n",
    "df_pair = grouped_data[grouped_data['Pair'] == pair]\n",
    "members = df_pair['Author'].unique()\n",
    "\n",
    "\n",
    "for date in df_pair['Date'].unique():\n",
    "\n",
    "    df_pair_date = df_pair[df_pair['Date'] == date]\n",
    "    m_1 = df_pair_date[df_pair_date['Author'] == members[0]]['count'].sum()\n",
    "    m_2 = df_pair_date[df_pair_date['Author'] == members[1]]['count'].sum()\n",
    "    m_2 += df_pair_date[df_pair_date['Author'] == members[2]]['count'].sum()\n",
    "\n",
    "    custom_p11.append([pair, date, m_1, m_2])\n",
    "\n",
    "aggregated_list += custom_p11"
   ]
  },
  {
   "cell_type": "code",
   "execution_count": 9,
   "metadata": {},
   "outputs": [],
   "source": [
    "cols = ['Pair', 'Date', 'Member_1', 'Member_2']\n",
    "df_aggregated_member = pd.DataFrame(aggregated_list, columns=cols).sort_values(by='Pair')\n",
    "df_aggregated_member['Total'] = df_aggregated_member['Member_1'] + df_aggregated_member['Member_2']"
   ]
  },
  {
   "cell_type": "code",
   "execution_count": 10,
   "metadata": {},
   "outputs": [],
   "source": [
    "os.chdir('../data/')\n",
    "df_aggregated_member.to_csv('ha_1_pairs_aggregated.csv', index=False)"
   ]
  }
 ],
 "metadata": {
  "language_info": {
   "codemirror_mode": {
    "name": "ipython",
    "version": 3
   },
   "file_extension": ".py",
   "mimetype": "text/x-python",
   "name": "python",
   "nbconvert_exporter": "python",
   "pygments_lexer": "ipython3",
   "version": "3.7.7-final"
  },
  "orig_nbformat": 2,
  "kernelspec": {
   "name": "python37764bit61359d132ebe4c18b4ae5c7448546753",
   "display_name": "Python 3.7.7 64-bit"
  }
 },
 "nbformat": 4,
 "nbformat_minor": 2
}