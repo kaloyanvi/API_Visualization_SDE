{
 "cells": [
  {
   "cell_type": "code",
   "execution_count": 2,
   "metadata": {},
   "outputs": [],
   "source": [
    "import os\n",
    "import pandas as pd\n",
    "from github import Github\n",
    "from credentials import username, password\n",
    "from data_API import dataAPI"
   ]
  },
  {
   "cell_type": "code",
   "execution_count": 3,
   "metadata": {},
   "outputs": [],
   "source": [
    "g = Github(username(), password())  # credentials for github login\n",
    "repos = g.get_user().get_repos()  # iterable; all the repos associated with the profile incl. organizations"
   ]
  },
  {
   "cell_type": "code",
   "execution_count": 4,
   "metadata": {},
   "outputs": [
    {
     "output_type": "stream",
     "name": "stdout",
     "text": "1\n2\n3\n4\n5\n6\n7\n8\n9\n10\n11\n12\n13\n14\n15\n16\n17\n18\n19\n20\n21\n22\n23\n24\n25\n26\n27\n28\n29\n30\n31\n32\n33\n34\n35\n36\n37\n38\n39\n40\n41\n42\n43\n44\n45\n46\n47\n48\n49\n50\n51\n52\n53\n54\n55\n56\n57\n58\n59\n60\n61\n62\n63\n"
    }
   ],
   "source": [
    "api_data = dataAPI(repos, '2is50-2019-2020-homework-assignment-1-pair-')"
   ]
  },
  {
   "cell_type": "markdown",
   "metadata": {},
   "source": [
    "## Aggregate Data"
   ]
  },
  {
   "cell_type": "code",
   "execution_count": 5,
   "metadata": {},
   "outputs": [],
   "source": [
    "df_data = pd.DataFrame(api_data)\n",
    "all_unique_pairs = df_data['Pair'].unique()"
   ]
  },
  {
   "cell_type": "markdown",
   "metadata": {},
   "source": [
    "### 1. Make dataset with commit size - additions & deletions"
   ]
  },
  {
   "cell_type": "code",
   "execution_count": 6,
   "metadata": {},
   "outputs": [],
   "source": [
    "grouped_data = df_data.groupby(by=['Pair','Date','Author']).describe()\n",
    "\n",
    "x = grouped_data['Additions'][['max']].reset_index()\n",
    "x['Deletions'] = grouped_data['Deletions'][['max']].reset_index()['max']\n",
    "x = x.rename(columns={'max': 'Additions'})\n",
    "grouped_data = x"
   ]
  },
  {
   "cell_type": "code",
   "execution_count": 7,
   "metadata": {},
   "outputs": [],
   "source": [
    "aggregated_list = []\n",
    "\n",
    "for pair in all_unique_pairs:\n",
    "\n",
    "    df_pair = grouped_data[grouped_data['Pair'] == pair]\n",
    "\n",
    "    members = df_pair['Author'].unique()\n",
    "\n",
    "    if len(members) == 2: # best scenario\n",
    "\n",
    "        for date in df_pair['Date'].unique():\n",
    "\n",
    "            df_pair_date = df_pair[df_pair['Date'] == date]\n",
    "            m_1 = df_pair_date[df_pair_date['Author'] == members[0]]\n",
    "            m_2 = df_pair_date[df_pair_date['Author'] == members[1]]\n",
    "\n",
    "            m1_additions = df_pair_date[df_pair_date['Author'] == members[0]]['Additions'].sum()\n",
    "            m2_additions = df_pair_date[df_pair_date['Author'] == members[1]]['Additions'].sum()\n",
    "\n",
    "            m1_deletions = df_pair_date[df_pair_date['Author'] == members[0]]['Deletions'].sum()\n",
    "            m2_deletions = df_pair_date[df_pair_date['Author'] == members[0]]['Deletions'].sum()\n",
    "\n",
    "\n",
    "            aggregated_list.append([pair, date, m1_additions, m2_additions, m1_deletions, m2_deletions])\n",
    "\n",
    "    elif len(members) > 2: \n",
    "\n",
    "        custom_more = []\n",
    "\n",
    "        for date in df_pair['Date'].unique():\n",
    "\n",
    "            df_pair_date = df_pair[df_pair['Date'] == date]\n",
    "\n",
    "            m1_additions = df_pair_date[df_pair_date['Author'] == members[0]]['Additions'].sum()\n",
    "            m2_additions = df_pair_date[df_pair_date['Author'] == members[1]]['Additions'].sum()\n",
    "            m2_additions += df_pair_date[df_pair_date['Author'] == members[2]]['Additions'].sum()\n",
    "\n",
    "\n",
    "            m1_deletions = df_pair_date[df_pair_date['Author'] == members[0]]['Deletions'].sum()\n",
    "            m2_deletions = df_pair_date[df_pair_date['Author'] == members[0]]['Deletions'].sum()\n",
    "            m2_deletions += df_pair_date[df_pair_date['Author'] == members[2]]['Deletions'].sum()\n",
    "\n",
    "            custom_more.append([pair, date, m1_additions, m2_additions, m1_deletions, m2_deletions])\n",
    "\n",
    "        aggregated_list += custom_more \n",
    "\n",
    "    elif len(members) < 2: \n",
    "\n",
    "        custom_less = []\n",
    "\n",
    "        for date in df_pair['Date'].unique():\n",
    "\n",
    "            df_pair_date = df_pair[df_pair['Date'] == date]\n",
    "\n",
    "            m1_additions = df_pair_date[df_pair_date['Author'] == members[0]]['Additions'].sum()\n",
    "            m2_additions = 0\n",
    "\n",
    "            m1_deletions = df_pair_date[df_pair_date['Author'] == members[0]]['Deletions'].sum()\n",
    "            m2_deletions = 0\n",
    "\n",
    "            custom_less.append([pair, date, m1_additions, m2_additions, m1_deletions, m2_deletions])\n",
    "\n",
    "        aggregated_list += custom_less\n",
    "        \n",
    "        "
   ]
  },
  {
   "cell_type": "code",
   "execution_count": 8,
   "metadata": {},
   "outputs": [],
   "source": [
    "cols = ['Pair', 'Date', 'M1_Additions', 'M2_Additions', 'M1_deletions', 'M2_deletions']\n",
    "df_aggregated_member = pd.DataFrame(aggregated_list, columns=cols).sort_values(by='Pair')\n",
    "#df_aggregated_member['Total'] = df_aggregated_member['Member_1'] + df_aggregated_member['Member_2']"
   ]
  },
  {
   "cell_type": "code",
   "execution_count": 17,
   "metadata": {},
   "outputs": [
    {
     "output_type": "execute_result",
     "data": {
      "text/plain": "     Pair        Date  M1_Additions  M2_Additions  M1_deletions  M2_deletions\n85      2  2020-04-30           9.0           0.0           9.0           9.0\n92      2  2020-05-14          44.0          62.0          37.0          37.0\n90      2  2020-05-06          34.0           0.0          20.0          20.0\n89      2  2020-05-05           0.0          30.0           0.0           0.0\n91      2  2020-05-13          44.0          41.0          41.0          41.0\n..    ...         ...           ...           ...           ...           ...\n371    89  2020-05-07          24.0          28.0          13.0          13.0\n370    89  2020-05-06          14.0           0.0           8.0           8.0\n374    89  2020-05-18           0.0           0.0           0.0           0.0\n383    90  2020-05-05          10.0          15.0           9.0           9.0\n384    90  2020-05-07           0.0          53.0           0.0           0.0\n\n[385 rows x 6 columns]",
      "text/html": "<div>\n<style scoped>\n    .dataframe tbody tr th:only-of-type {\n        vertical-align: middle;\n    }\n\n    .dataframe tbody tr th {\n        vertical-align: top;\n    }\n\n    .dataframe thead th {\n        text-align: right;\n    }\n</style>\n<table border=\"1\" class=\"dataframe\">\n  <thead>\n    <tr style=\"text-align: right;\">\n      <th></th>\n      <th>Pair</th>\n      <th>Date</th>\n      <th>M1_Additions</th>\n      <th>M2_Additions</th>\n      <th>M1_deletions</th>\n      <th>M2_deletions</th>\n    </tr>\n  </thead>\n  <tbody>\n    <tr>\n      <th>85</th>\n      <td>2</td>\n      <td>2020-04-30</td>\n      <td>9.0</td>\n      <td>0.0</td>\n      <td>9.0</td>\n      <td>9.0</td>\n    </tr>\n    <tr>\n      <th>92</th>\n      <td>2</td>\n      <td>2020-05-14</td>\n      <td>44.0</td>\n      <td>62.0</td>\n      <td>37.0</td>\n      <td>37.0</td>\n    </tr>\n    <tr>\n      <th>90</th>\n      <td>2</td>\n      <td>2020-05-06</td>\n      <td>34.0</td>\n      <td>0.0</td>\n      <td>20.0</td>\n      <td>20.0</td>\n    </tr>\n    <tr>\n      <th>89</th>\n      <td>2</td>\n      <td>2020-05-05</td>\n      <td>0.0</td>\n      <td>30.0</td>\n      <td>0.0</td>\n      <td>0.0</td>\n    </tr>\n    <tr>\n      <th>91</th>\n      <td>2</td>\n      <td>2020-05-13</td>\n      <td>44.0</td>\n      <td>41.0</td>\n      <td>41.0</td>\n      <td>41.0</td>\n    </tr>\n    <tr>\n      <th>...</th>\n      <td>...</td>\n      <td>...</td>\n      <td>...</td>\n      <td>...</td>\n      <td>...</td>\n      <td>...</td>\n    </tr>\n    <tr>\n      <th>371</th>\n      <td>89</td>\n      <td>2020-05-07</td>\n      <td>24.0</td>\n      <td>28.0</td>\n      <td>13.0</td>\n      <td>13.0</td>\n    </tr>\n    <tr>\n      <th>370</th>\n      <td>89</td>\n      <td>2020-05-06</td>\n      <td>14.0</td>\n      <td>0.0</td>\n      <td>8.0</td>\n      <td>8.0</td>\n    </tr>\n    <tr>\n      <th>374</th>\n      <td>89</td>\n      <td>2020-05-18</td>\n      <td>0.0</td>\n      <td>0.0</td>\n      <td>0.0</td>\n      <td>0.0</td>\n    </tr>\n    <tr>\n      <th>383</th>\n      <td>90</td>\n      <td>2020-05-05</td>\n      <td>10.0</td>\n      <td>15.0</td>\n      <td>9.0</td>\n      <td>9.0</td>\n    </tr>\n    <tr>\n      <th>384</th>\n      <td>90</td>\n      <td>2020-05-07</td>\n      <td>0.0</td>\n      <td>53.0</td>\n      <td>0.0</td>\n      <td>0.0</td>\n    </tr>\n  </tbody>\n</table>\n<p>385 rows × 6 columns</p>\n</div>"
     },
     "metadata": {},
     "execution_count": 17
    }
   ],
   "source": [
    "df_aggregated_member"
   ]
  },
  {
   "cell_type": "markdown",
   "metadata": {},
   "source": [
    "### 2. Make Dataset with total of additions + deletions"
   ]
  },
  {
   "cell_type": "code",
   "execution_count": 19,
   "metadata": {},
   "outputs": [],
   "source": [
    "df_total_size = df_aggregated_member#[['Pair', 'Date']]\n",
    "df_total_size['Member_1'] = df_aggregated_member['M1_Additions'] + df_aggregated_member['M1_deletions']\n",
    "df_total_size['Member_2'] = df_aggregated_member['M2_Additions'] + df_aggregated_member['M2_deletions']\n",
    "df_total_size['Total'] = df_total_size['Member_1'] + df_total_size['Member_2'] "
   ]
  },
  {
   "cell_type": "code",
   "execution_count": 20,
   "metadata": {},
   "outputs": [
    {
     "output_type": "execute_result",
     "data": {
      "text/plain": "     Pair        Date  M1_Additions  M2_Additions  M1_deletions  M2_deletions  \\\n85      2  2020-04-30           9.0           0.0           9.0           9.0   \n92      2  2020-05-14          44.0          62.0          37.0          37.0   \n90      2  2020-05-06          34.0           0.0          20.0          20.0   \n89      2  2020-05-05           0.0          30.0           0.0           0.0   \n91      2  2020-05-13          44.0          41.0          41.0          41.0   \n..    ...         ...           ...           ...           ...           ...   \n371    89  2020-05-07          24.0          28.0          13.0          13.0   \n370    89  2020-05-06          14.0           0.0           8.0           8.0   \n374    89  2020-05-18           0.0           0.0           0.0           0.0   \n383    90  2020-05-05          10.0          15.0           9.0           9.0   \n384    90  2020-05-07           0.0          53.0           0.0           0.0   \n\n     Member_1  Member_2  Total  \n85       18.0       9.0   27.0  \n92       81.0      99.0  180.0  \n90       54.0      20.0   74.0  \n89        0.0      30.0   30.0  \n91       85.0      82.0  167.0  \n..        ...       ...    ...  \n371      37.0      41.0   78.0  \n370      22.0       8.0   30.0  \n374       0.0       0.0    0.0  \n383      19.0      24.0   43.0  \n384       0.0      53.0   53.0  \n\n[385 rows x 9 columns]",
      "text/html": "<div>\n<style scoped>\n    .dataframe tbody tr th:only-of-type {\n        vertical-align: middle;\n    }\n\n    .dataframe tbody tr th {\n        vertical-align: top;\n    }\n\n    .dataframe thead th {\n        text-align: right;\n    }\n</style>\n<table border=\"1\" class=\"dataframe\">\n  <thead>\n    <tr style=\"text-align: right;\">\n      <th></th>\n      <th>Pair</th>\n      <th>Date</th>\n      <th>M1_Additions</th>\n      <th>M2_Additions</th>\n      <th>M1_deletions</th>\n      <th>M2_deletions</th>\n      <th>Member_1</th>\n      <th>Member_2</th>\n      <th>Total</th>\n    </tr>\n  </thead>\n  <tbody>\n    <tr>\n      <th>85</th>\n      <td>2</td>\n      <td>2020-04-30</td>\n      <td>9.0</td>\n      <td>0.0</td>\n      <td>9.0</td>\n      <td>9.0</td>\n      <td>18.0</td>\n      <td>9.0</td>\n      <td>27.0</td>\n    </tr>\n    <tr>\n      <th>92</th>\n      <td>2</td>\n      <td>2020-05-14</td>\n      <td>44.0</td>\n      <td>62.0</td>\n      <td>37.0</td>\n      <td>37.0</td>\n      <td>81.0</td>\n      <td>99.0</td>\n      <td>180.0</td>\n    </tr>\n    <tr>\n      <th>90</th>\n      <td>2</td>\n      <td>2020-05-06</td>\n      <td>34.0</td>\n      <td>0.0</td>\n      <td>20.0</td>\n      <td>20.0</td>\n      <td>54.0</td>\n      <td>20.0</td>\n      <td>74.0</td>\n    </tr>\n    <tr>\n      <th>89</th>\n      <td>2</td>\n      <td>2020-05-05</td>\n      <td>0.0</td>\n      <td>30.0</td>\n      <td>0.0</td>\n      <td>0.0</td>\n      <td>0.0</td>\n      <td>30.0</td>\n      <td>30.0</td>\n    </tr>\n    <tr>\n      <th>91</th>\n      <td>2</td>\n      <td>2020-05-13</td>\n      <td>44.0</td>\n      <td>41.0</td>\n      <td>41.0</td>\n      <td>41.0</td>\n      <td>85.0</td>\n      <td>82.0</td>\n      <td>167.0</td>\n    </tr>\n    <tr>\n      <th>...</th>\n      <td>...</td>\n      <td>...</td>\n      <td>...</td>\n      <td>...</td>\n      <td>...</td>\n      <td>...</td>\n      <td>...</td>\n      <td>...</td>\n      <td>...</td>\n    </tr>\n    <tr>\n      <th>371</th>\n      <td>89</td>\n      <td>2020-05-07</td>\n      <td>24.0</td>\n      <td>28.0</td>\n      <td>13.0</td>\n      <td>13.0</td>\n      <td>37.0</td>\n      <td>41.0</td>\n      <td>78.0</td>\n    </tr>\n    <tr>\n      <th>370</th>\n      <td>89</td>\n      <td>2020-05-06</td>\n      <td>14.0</td>\n      <td>0.0</td>\n      <td>8.0</td>\n      <td>8.0</td>\n      <td>22.0</td>\n      <td>8.0</td>\n      <td>30.0</td>\n    </tr>\n    <tr>\n      <th>374</th>\n      <td>89</td>\n      <td>2020-05-18</td>\n      <td>0.0</td>\n      <td>0.0</td>\n      <td>0.0</td>\n      <td>0.0</td>\n      <td>0.0</td>\n      <td>0.0</td>\n      <td>0.0</td>\n    </tr>\n    <tr>\n      <th>383</th>\n      <td>90</td>\n      <td>2020-05-05</td>\n      <td>10.0</td>\n      <td>15.0</td>\n      <td>9.0</td>\n      <td>9.0</td>\n      <td>19.0</td>\n      <td>24.0</td>\n      <td>43.0</td>\n    </tr>\n    <tr>\n      <th>384</th>\n      <td>90</td>\n      <td>2020-05-07</td>\n      <td>0.0</td>\n      <td>53.0</td>\n      <td>0.0</td>\n      <td>0.0</td>\n      <td>0.0</td>\n      <td>53.0</td>\n      <td>53.0</td>\n    </tr>\n  </tbody>\n</table>\n<p>385 rows × 9 columns</p>\n</div>"
     },
     "metadata": {},
     "execution_count": 20
    }
   ],
   "source": [
    "df_total_size"
   ]
  },
  {
   "cell_type": "code",
   "execution_count": 21,
   "metadata": {},
   "outputs": [],
   "source": [
    "df_total_size.to_csv(\"../data/commit_sizes_ha1.csv\", index=False)"
   ]
  },
  {
   "cell_type": "markdown",
   "metadata": {},
   "source": [
    "### 3. Make dataset with commits"
   ]
  },
  {
   "cell_type": "code",
   "execution_count": 12,
   "metadata": {},
   "outputs": [],
   "source": [
    "grouped_data = df_data.groupby(by=['Pair','Date','Author']).describe()\n",
    "grouped_data = grouped_data['Additions'][['count']].reset_index()"
   ]
  },
  {
   "cell_type": "code",
   "execution_count": 13,
   "metadata": {},
   "outputs": [],
   "source": [
    "aggregated_list = []\n",
    "\n",
    "for pair in all_unique_pairs:\n",
    "\n",
    "    df_pair = grouped_data[grouped_data['Pair'] == pair]\n",
    "\n",
    "    members = df_pair['Author'].unique()\n",
    "\n",
    "    if len(members) == 2: # best scenario\n",
    "\n",
    "        for date in df_pair['Date'].unique():\n",
    "\n",
    "            df_pair_date = df_pair[df_pair['Date'] == date]\n",
    "            m_1 = df_pair_date[df_pair_date['Author'] == members[0]]['count'].sum()\n",
    "            m_2 = df_pair_date[df_pair_date['Author'] == members[1]]['count'].sum()\n",
    "\n",
    "            aggregated_list.append([pair, date, m_1, m_2])\n",
    "\n",
    "    elif len(members) > 2:\n",
    "\n",
    "        custom_more = []\n",
    "\n",
    "        for date in df_pair['Date'].unique():\n",
    "\n",
    "            df_pair_date = df_pair[df_pair['Date'] == date]\n",
    "            m_1 = df_pair_date[df_pair_date['Author'] == members[0]]['count'].sum()\n",
    "            m_2 = df_pair_date[df_pair_date['Author'] == members[1]]['count'].sum()\n",
    "            m_2 += df_pair_date[df_pair_date['Author'] == members[2]]['count'].sum()\n",
    "\n",
    "            custom_more.append([pair, date, m_1, m_2])\n",
    "\n",
    "        aggregated_list += custom_more \n",
    "\n",
    "    elif len(members) < 2:\n",
    "\n",
    "        custom_less = []\n",
    "\n",
    "        for date in df_pair['Date'].unique():\n",
    "\n",
    "            df_pair_date = df_pair[df_pair['Date'] == date]\n",
    "            m_1 = df_pair_date[df_pair_date['Author'] == members[0]]['count'].sum()\n",
    "            m_2 = 0\n",
    "\n",
    "            custom_less.append([pair, date, m_1, m_2])\n",
    "\n",
    "        aggregated_list += custom_less"
   ]
  },
  {
   "cell_type": "code",
   "execution_count": 14,
   "metadata": {},
   "outputs": [],
   "source": [
    "cols = ['Pair', 'Date', 'Member_1', 'Member_2']\n",
    "df_commits = pd.DataFrame(aggregated_list, columns=cols).sort_values(by='Pair')\n",
    "df_commits['Total'] = df_commits['Member_1'] + df_commits['Member_2']"
   ]
  },
  {
   "cell_type": "code",
   "execution_count": 15,
   "metadata": {},
   "outputs": [],
   "source": [
    "df_commits.to_csv(\"../data/commit_numbers_ha1.csv\", index=False)"
   ]
  },
  {
   "cell_type": "code",
   "execution_count": 16,
   "metadata": {},
   "outputs": [
    {
     "output_type": "execute_result",
     "data": {
      "text/plain": "     Pair        Date  Member_1  Member_2  Total\n85      2  2020-04-30       1.0       0.0    1.0\n92      2  2020-05-14       3.0       4.0    7.0\n90      2  2020-05-06       4.0       0.0    4.0\n89      2  2020-05-05       0.0       2.0    2.0\n91      2  2020-05-13       4.0       5.0    9.0\n..    ...         ...       ...       ...    ...\n371    89  2020-05-07       9.0       3.0   12.0\n370    89  2020-05-06       2.0       0.0    2.0\n374    89  2020-05-18       1.0       0.0    1.0\n383    90  2020-05-05       6.0       3.0    9.0\n384    90  2020-05-07       0.0       4.0    4.0\n\n[385 rows x 5 columns]",
      "text/html": "<div>\n<style scoped>\n    .dataframe tbody tr th:only-of-type {\n        vertical-align: middle;\n    }\n\n    .dataframe tbody tr th {\n        vertical-align: top;\n    }\n\n    .dataframe thead th {\n        text-align: right;\n    }\n</style>\n<table border=\"1\" class=\"dataframe\">\n  <thead>\n    <tr style=\"text-align: right;\">\n      <th></th>\n      <th>Pair</th>\n      <th>Date</th>\n      <th>Member_1</th>\n      <th>Member_2</th>\n      <th>Total</th>\n    </tr>\n  </thead>\n  <tbody>\n    <tr>\n      <th>85</th>\n      <td>2</td>\n      <td>2020-04-30</td>\n      <td>1.0</td>\n      <td>0.0</td>\n      <td>1.0</td>\n    </tr>\n    <tr>\n      <th>92</th>\n      <td>2</td>\n      <td>2020-05-14</td>\n      <td>3.0</td>\n      <td>4.0</td>\n      <td>7.0</td>\n    </tr>\n    <tr>\n      <th>90</th>\n      <td>2</td>\n      <td>2020-05-06</td>\n      <td>4.0</td>\n      <td>0.0</td>\n      <td>4.0</td>\n    </tr>\n    <tr>\n      <th>89</th>\n      <td>2</td>\n      <td>2020-05-05</td>\n      <td>0.0</td>\n      <td>2.0</td>\n      <td>2.0</td>\n    </tr>\n    <tr>\n      <th>91</th>\n      <td>2</td>\n      <td>2020-05-13</td>\n      <td>4.0</td>\n      <td>5.0</td>\n      <td>9.0</td>\n    </tr>\n    <tr>\n      <th>...</th>\n      <td>...</td>\n      <td>...</td>\n      <td>...</td>\n      <td>...</td>\n      <td>...</td>\n    </tr>\n    <tr>\n      <th>371</th>\n      <td>89</td>\n      <td>2020-05-07</td>\n      <td>9.0</td>\n      <td>3.0</td>\n      <td>12.0</td>\n    </tr>\n    <tr>\n      <th>370</th>\n      <td>89</td>\n      <td>2020-05-06</td>\n      <td>2.0</td>\n      <td>0.0</td>\n      <td>2.0</td>\n    </tr>\n    <tr>\n      <th>374</th>\n      <td>89</td>\n      <td>2020-05-18</td>\n      <td>1.0</td>\n      <td>0.0</td>\n      <td>1.0</td>\n    </tr>\n    <tr>\n      <th>383</th>\n      <td>90</td>\n      <td>2020-05-05</td>\n      <td>6.0</td>\n      <td>3.0</td>\n      <td>9.0</td>\n    </tr>\n    <tr>\n      <th>384</th>\n      <td>90</td>\n      <td>2020-05-07</td>\n      <td>0.0</td>\n      <td>4.0</td>\n      <td>4.0</td>\n    </tr>\n  </tbody>\n</table>\n<p>385 rows × 5 columns</p>\n</div>"
     },
     "metadata": {},
     "execution_count": 16
    }
   ],
   "source": [
    "df_commits"
   ]
  }
 ],
 "metadata": {
  "language_info": {
   "codemirror_mode": {
    "name": "ipython",
    "version": 3
   },
   "file_extension": ".py",
   "mimetype": "text/x-python",
   "name": "python",
   "nbconvert_exporter": "python",
   "pygments_lexer": "ipython3",
   "version": "3.6.9-final"
  },
  "orig_nbformat": 2,
  "kernelspec": {
   "name": "python36964bitvenvvirtualenv2244c714fd104143a129bafb94bdadf5",
   "display_name": "Python 3.6.9 64-bit ('venv': virtualenv)"
  }
 },
 "nbformat": 4,
 "nbformat_minor": 2
}