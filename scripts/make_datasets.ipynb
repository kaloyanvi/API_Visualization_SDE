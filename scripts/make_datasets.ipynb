{
 "cells": [
  {
   "cell_type": "code",
   "execution_count": 1,
   "metadata": {},
   "outputs": [],
   "source": [
    "import os\n",
    "import time\n",
    "import pandas as pd\n",
    "from github import Github\n",
    "from credentials import username, password\n",
    "from data_API import dataAPI"
   ]
  },
  {
   "cell_type": "code",
   "execution_count": 2,
   "metadata": {},
   "outputs": [],
   "source": [
    "g = Github(username(), password())  # credentials for github login\n",
    "repos = g.get_user().get_repos()  # iterable; all the repos associated with the profile incl. organizations"
   ]
  },
  {
   "cell_type": "code",
   "execution_count": 41,
   "metadata": {},
   "outputs": [
    {
     "output_type": "stream",
     "name": "stdout",
     "text": "1\n2\n3\n4\n5\n6\n7\n8\n9\n10\n11\n12\n13\n14\n15\n16\n17\n18\n19\n20\n21\n22\n23\n24\n25\n26\n27\n28\n29\n30\n31\n32\n33\n34\n35\n36\n37\n38\n39\n40\n41\n42\n43\n44\n45\n46\n47\n48\n49\n50\n51\n52\n53\n54\n55\n56\n57\n58\n59\n60\n61\nTime to complete: 720.8968114852905\n"
    }
   ],
   "source": [
    "start = time.time()\n",
    "api_data = dataAPI(repos, '2is50-2019-2020-homework-assignment-2-pair-')\n",
    "end = time.time()\n",
    "print(\"Time to complete:\", end - start)"
   ]
  },
  {
   "cell_type": "markdown",
   "metadata": {},
   "source": [
    "## Aggregate Data"
   ]
  },
  {
   "cell_type": "code",
   "execution_count": 19,
   "metadata": {},
   "outputs": [],
   "source": [
    "df_data = pd.DataFrame(api_data)\n",
    "all_unique_pairs = df_data['Pair'].unique()"
   ]
  },
  {
   "cell_type": "markdown",
   "metadata": {},
   "source": [
    "### 1. Make dataset with commit size - additions & deletions"
   ]
  },
  {
   "cell_type": "code",
   "execution_count": 20,
   "metadata": {},
   "outputs": [],
   "source": [
    "grouped_data = df_data.groupby(by=['Pair','Date','Author']).describe()\n",
    "\n",
    "x = grouped_data['Additions'][['max']].reset_index()\n",
    "x['Deletions'] = grouped_data['Deletions'][['max']].reset_index()['max']\n",
    "x = x.rename(columns={'max': 'Additions'})\n",
    "grouped_data = x"
   ]
  },
  {
   "cell_type": "code",
   "execution_count": 21,
   "metadata": {},
   "outputs": [],
   "source": [
    "aggregated_list = []\n",
    "\n",
    "for pair in all_unique_pairs:\n",
    "\n",
    "    df_pair = grouped_data[grouped_data['Pair'] == pair]\n",
    "\n",
    "    members = df_pair['Author'].unique()\n",
    "\n",
    "    if len(members) == 2: # best scenario\n",
    "\n",
    "        for date in df_pair['Date'].unique():\n",
    "\n",
    "            df_pair_date = df_pair[df_pair['Date'] == date]\n",
    "            m_1 = df_pair_date[df_pair_date['Author'] == members[0]]\n",
    "            m_2 = df_pair_date[df_pair_date['Author'] == members[1]]\n",
    "\n",
    "            m1_additions = df_pair_date[df_pair_date['Author'] == members[0]]['Additions'].sum()\n",
    "            m2_additions = df_pair_date[df_pair_date['Author'] == members[1]]['Additions'].sum()\n",
    "\n",
    "            m1_deletions = df_pair_date[df_pair_date['Author'] == members[0]]['Deletions'].sum()\n",
    "            m2_deletions = df_pair_date[df_pair_date['Author'] == members[1]]['Deletions'].sum()\n",
    "\n",
    "\n",
    "            aggregated_list.append([pair, date, m1_additions, m2_additions, m1_deletions, m2_deletions])\n",
    "\n",
    "    elif len(members) > 2: \n",
    "\n",
    "        custom_more = []\n",
    "\n",
    "        for date in df_pair['Date'].unique():\n",
    "\n",
    "            df_pair_date = df_pair[df_pair['Date'] == date]\n",
    "\n",
    "            m1_additions = df_pair_date[df_pair_date['Author'] == members[0]]['Additions'].sum()\n",
    "            m2_additions = df_pair_date[df_pair_date['Author'] == members[1]]['Additions'].sum()\n",
    "            m2_additions += df_pair_date[df_pair_date['Author'] == members[2]]['Additions'].sum()\n",
    "\n",
    "\n",
    "            m1_deletions = df_pair_date[df_pair_date['Author'] == members[0]]['Deletions'].sum()\n",
    "            m2_deletions = df_pair_date[df_pair_date['Author'] == members[1]]['Deletions'].sum()\n",
    "            m2_deletions += df_pair_date[df_pair_date['Author'] == members[2]]['Deletions'].sum()\n",
    "\n",
    "            custom_more.append([pair, date, m1_additions, m2_additions, m1_deletions, m2_deletions])\n",
    "\n",
    "        aggregated_list += custom_more \n",
    "\n",
    "    elif len(members) < 2: \n",
    "\n",
    "        custom_less = []\n",
    "\n",
    "        for date in df_pair['Date'].unique():\n",
    "\n",
    "            df_pair_date = df_pair[df_pair['Date'] == date]\n",
    "\n",
    "            m1_additions = df_pair_date[df_pair_date['Author'] == members[0]]['Additions'].sum()\n",
    "            m2_additions = 0\n",
    "\n",
    "            m1_deletions = df_pair_date[df_pair_date['Author'] == members[0]]['Deletions'].sum()\n",
    "            m2_deletions = 0\n",
    "\n",
    "            custom_less.append([pair, date, m1_additions, m2_additions, m1_deletions, m2_deletions])\n",
    "\n",
    "        aggregated_list += custom_less\n",
    "        \n",
    "        "
   ]
  },
  {
   "cell_type": "code",
   "execution_count": 22,
   "metadata": {},
   "outputs": [],
   "source": [
    "cols = ['Pair', 'Date', 'M1_Additions', 'M2_Additions', 'M1_deletions', 'M2_deletions']\n",
    "df_aggregated_member = pd.DataFrame(aggregated_list, columns=cols).sort_values(by='Pair')"
   ]
  },
  {
   "cell_type": "markdown",
   "metadata": {},
   "source": [
    "### 2. Make Dataset with total of additions + deletions"
   ]
  },
  {
   "cell_type": "code",
   "execution_count": 24,
   "metadata": {},
   "outputs": [],
   "source": [
    "df_total_size = df_aggregated_member#[['Pair', 'Date']]\n",
    "df_total_size['Member_1'] = df_aggregated_member['M1_Additions'] + df_aggregated_member['M1_deletions']\n",
    "df_total_size['Member_2'] = df_aggregated_member['M2_Additions'] + df_aggregated_member['M2_deletions']\n",
    "df_total_size['Total'] = df_total_size['Member_1'] + df_total_size['Member_2'] "
   ]
  },
  {
   "cell_type": "code",
   "execution_count": 32,
   "metadata": {},
   "outputs": [],
   "source": [
    "df_total_size.to_csv(\"../data/commit_sizes_ha2.csv\", index=False)"
   ]
  },
  {
   "cell_type": "markdown",
   "metadata": {},
   "source": [
    "### 3. Make dataset with commits"
   ]
  },
  {
   "cell_type": "code",
   "execution_count": 26,
   "metadata": {},
   "outputs": [],
   "source": [
    "grouped_data = df_data.groupby(by=['Pair','Date','Author']).describe()\n",
    "grouped_data = grouped_data['Additions'][['count']].reset_index()"
   ]
  },
  {
   "cell_type": "code",
   "execution_count": 27,
   "metadata": {},
   "outputs": [],
   "source": [
    "aggregated_list = []\n",
    "\n",
    "for pair in all_unique_pairs:\n",
    "\n",
    "    df_pair = grouped_data[grouped_data['Pair'] == pair]\n",
    "\n",
    "    members = df_pair['Author'].unique()\n",
    "\n",
    "    if len(members) == 2: # best scenario\n",
    "\n",
    "        for date in df_pair['Date'].unique():\n",
    "\n",
    "            df_pair_date = df_pair[df_pair['Date'] == date]\n",
    "            m_1 = df_pair_date[df_pair_date['Author'] == members[0]]['count'].sum()\n",
    "            m_2 = df_pair_date[df_pair_date['Author'] == members[1]]['count'].sum()\n",
    "\n",
    "            aggregated_list.append([pair, date, m_1, m_2])\n",
    "\n",
    "    elif len(members) > 2:\n",
    "\n",
    "        custom_more = []\n",
    "\n",
    "        for date in df_pair['Date'].unique():\n",
    "\n",
    "            df_pair_date = df_pair[df_pair['Date'] == date]\n",
    "            m_1 = df_pair_date[df_pair_date['Author'] == members[0]]['count'].sum()\n",
    "            m_2 = df_pair_date[df_pair_date['Author'] == members[1]]['count'].sum()\n",
    "            m_2 += df_pair_date[df_pair_date['Author'] == members[2]]['count'].sum()\n",
    "\n",
    "            custom_more.append([pair, date, m_1, m_2])\n",
    "\n",
    "        aggregated_list += custom_more \n",
    "\n",
    "    elif len(members) < 2:\n",
    "\n",
    "        custom_less = []\n",
    "\n",
    "        for date in df_pair['Date'].unique():\n",
    "\n",
    "            df_pair_date = df_pair[df_pair['Date'] == date]\n",
    "            m_1 = df_pair_date[df_pair_date['Author'] == members[0]]['count'].sum()\n",
    "            m_2 = 0\n",
    "\n",
    "            custom_less.append([pair, date, m_1, m_2])\n",
    "\n",
    "        aggregated_list += custom_less"
   ]
  },
  {
   "cell_type": "code",
   "execution_count": 28,
   "metadata": {},
   "outputs": [],
   "source": [
    "cols = ['Pair', 'Date', 'Member_1', 'Member_2']\n",
    "df_commits = pd.DataFrame(aggregated_list, columns=cols).sort_values(by='Pair')\n",
    "df_commits['Total'] = df_commits['Member_1'] + df_commits['Member_2']"
   ]
  },
  {
   "cell_type": "code",
   "execution_count": 33,
   "metadata": {},
   "outputs": [],
   "source": [
    "df_commits.to_csv(\"../data/commit_numbers_ha2.csv\", index=False)"
   ]
  },
  {
   "cell_type": "code",
   "execution_count": 31,
   "metadata": {},
   "outputs": [
    {
     "output_type": "execute_result",
     "data": {
      "text/plain": "array([datetime.date(2020, 5, 26), datetime.date(2020, 5, 27),\n       datetime.date(2020, 6, 1), datetime.date(2020, 6, 2),\n       datetime.date(2020, 6, 4), datetime.date(2020, 6, 12),\n       datetime.date(2020, 6, 13), datetime.date(2020, 6, 14),\n       datetime.date(2020, 6, 3), datetime.date(2020, 6, 7),\n       datetime.date(2020, 6, 8), datetime.date(2020, 6, 9),\n       datetime.date(2020, 6, 10), datetime.date(2020, 6, 11),\n       datetime.date(2020, 5, 25), datetime.date(2020, 5, 19),\n       datetime.date(2020, 6, 5), datetime.date(2020, 5, 20),\n       datetime.date(2020, 5, 28), datetime.date(2020, 5, 22),\n       datetime.date(2020, 5, 21), datetime.date(2020, 5, 23),\n       datetime.date(2020, 5, 24), datetime.date(2020, 5, 29),\n       datetime.date(2020, 5, 30), datetime.date(2020, 6, 6),\n       datetime.date(2020, 5, 16), datetime.date(2020, 5, 17),\n       datetime.date(2020, 5, 31), datetime.date(2020, 5, 18),\n       datetime.date(2020, 5, 15)], dtype=object)"
     },
     "metadata": {},
     "execution_count": 31
    }
   ],
   "source": [
    "df_commits['Date'].unique()"
   ]
  },
  {
   "cell_type": "code",
   "execution_count": 35,
   "metadata": {},
   "outputs": [],
   "source": [
    "import datetime"
   ]
  },
  {
   "cell_type": "code",
   "execution_count": 39,
   "metadata": {},
   "outputs": [
    {
     "output_type": "execute_result",
     "data": {
      "text/plain": "     Pair        Date  Member_1  Member_2  Total\n7       1  2020-06-14       4.0       0.0    4.0\n155    23  2020-06-14       0.0       2.0    2.0\n299    38  2020-06-14       2.0       0.0    2.0\n320    40  2020-06-14       1.0       5.0    6.0\n355    44  2020-06-14       2.0       2.0    4.0\n363    45  2020-06-14       1.0       2.0    3.0\n367    46  2020-06-14       9.0       9.0   18.0\n375    47  2020-06-14       1.0       2.0    3.0\n397    50  2020-06-14       4.0       5.0    9.0\n416    52  2020-06-14       0.0       1.0    1.0\n448    63  2020-06-14       0.0       3.0    3.0\n467    69  2020-06-14       1.0       4.0    5.0\n529    88  2020-06-14       1.0       2.0    3.0",
      "text/html": "<div>\n<style scoped>\n    .dataframe tbody tr th:only-of-type {\n        vertical-align: middle;\n    }\n\n    .dataframe tbody tr th {\n        vertical-align: top;\n    }\n\n    .dataframe thead th {\n        text-align: right;\n    }\n</style>\n<table border=\"1\" class=\"dataframe\">\n  <thead>\n    <tr style=\"text-align: right;\">\n      <th></th>\n      <th>Pair</th>\n      <th>Date</th>\n      <th>Member_1</th>\n      <th>Member_2</th>\n      <th>Total</th>\n    </tr>\n  </thead>\n  <tbody>\n    <tr>\n      <th>7</th>\n      <td>1</td>\n      <td>2020-06-14</td>\n      <td>4.0</td>\n      <td>0.0</td>\n      <td>4.0</td>\n    </tr>\n    <tr>\n      <th>155</th>\n      <td>23</td>\n      <td>2020-06-14</td>\n      <td>0.0</td>\n      <td>2.0</td>\n      <td>2.0</td>\n    </tr>\n    <tr>\n      <th>299</th>\n      <td>38</td>\n      <td>2020-06-14</td>\n      <td>2.0</td>\n      <td>0.0</td>\n      <td>2.0</td>\n    </tr>\n    <tr>\n      <th>320</th>\n      <td>40</td>\n      <td>2020-06-14</td>\n      <td>1.0</td>\n      <td>5.0</td>\n      <td>6.0</td>\n    </tr>\n    <tr>\n      <th>355</th>\n      <td>44</td>\n      <td>2020-06-14</td>\n      <td>2.0</td>\n      <td>2.0</td>\n      <td>4.0</td>\n    </tr>\n    <tr>\n      <th>363</th>\n      <td>45</td>\n      <td>2020-06-14</td>\n      <td>1.0</td>\n      <td>2.0</td>\n      <td>3.0</td>\n    </tr>\n    <tr>\n      <th>367</th>\n      <td>46</td>\n      <td>2020-06-14</td>\n      <td>9.0</td>\n      <td>9.0</td>\n      <td>18.0</td>\n    </tr>\n    <tr>\n      <th>375</th>\n      <td>47</td>\n      <td>2020-06-14</td>\n      <td>1.0</td>\n      <td>2.0</td>\n      <td>3.0</td>\n    </tr>\n    <tr>\n      <th>397</th>\n      <td>50</td>\n      <td>2020-06-14</td>\n      <td>4.0</td>\n      <td>5.0</td>\n      <td>9.0</td>\n    </tr>\n    <tr>\n      <th>416</th>\n      <td>52</td>\n      <td>2020-06-14</td>\n      <td>0.0</td>\n      <td>1.0</td>\n      <td>1.0</td>\n    </tr>\n    <tr>\n      <th>448</th>\n      <td>63</td>\n      <td>2020-06-14</td>\n      <td>0.0</td>\n      <td>3.0</td>\n      <td>3.0</td>\n    </tr>\n    <tr>\n      <th>467</th>\n      <td>69</td>\n      <td>2020-06-14</td>\n      <td>1.0</td>\n      <td>4.0</td>\n      <td>5.0</td>\n    </tr>\n    <tr>\n      <th>529</th>\n      <td>88</td>\n      <td>2020-06-14</td>\n      <td>1.0</td>\n      <td>2.0</td>\n      <td>3.0</td>\n    </tr>\n  </tbody>\n</table>\n</div>"
     },
     "metadata": {},
     "execution_count": 39
    }
   ],
   "source": [
    "df_commits[df_commits['Date'] == datetime.date(2020, 6, 14)]"
   ]
  },
  {
   "cell_type": "code",
   "execution_count": null,
   "metadata": {},
   "outputs": [],
   "source": []
  }
 ],
 "metadata": {
  "language_info": {
   "codemirror_mode": {
    "name": "ipython",
    "version": 3
   },
   "file_extension": ".py",
   "mimetype": "text/x-python",
   "name": "python",
   "nbconvert_exporter": "python",
   "pygments_lexer": "ipython3",
   "version": "3.8.3-final"
  },
  "orig_nbformat": 2,
  "kernelspec": {
   "name": "python38364bitvenvvirtualenv9952826a39b342408aef60a1198f5adf",
   "display_name": "Python 3.8.3 64-bit ('venv': virtualenv)"
  }
 },
 "nbformat": 4,
 "nbformat_minor": 2
}