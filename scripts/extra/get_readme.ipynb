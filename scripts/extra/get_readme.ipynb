{
 "cells": [
  {
   "cell_type": "code",
   "execution_count": null,
   "metadata": {},
   "outputs": [],
   "source": [
    "os.chdir(\"../\")"
   ]
  },
  {
   "cell_type": "code",
   "execution_count": 7,
   "metadata": {},
   "outputs": [],
   "source": [
    "import os\n",
    "import pandas as pd\n",
    "from github import Github\n",
    "from credentials import username, password"
   ]
  },
  {
   "cell_type": "code",
   "execution_count": 8,
   "metadata": {},
   "outputs": [],
   "source": [
    "g = Github(username(), password())  # credentials for github login\n",
    "repos = g.get_user().get_repos()  # iterable; all the repos associated with the profile incl. organizations"
   ]
  },
  {
   "cell_type": "code",
   "execution_count": 112,
   "metadata": {},
   "outputs": [
    {
     "output_type": "stream",
     "name": "stdout",
     "text": "pair-1 GOOD\npair-10 GOOD\npair-11 GOOD\npair-12 GOOD\npair-13 GOOD\npair-14 GOOD\npair-15 GOOD\npair-16 GOOD\npair-17 GOOD\npair-18 GOOD\npair-2 GOOD\npair-20 GOOD\npair-21 GOOD\npair-22 GOOD\npair-23 GOOD\npair-24 PROBLEM\npair-25 GOOD\npair-26 GOOD\npair-27 GOOD\npair-28 GOOD\npair-29 GOOD\npair-3 GOOD\npair-30 GOOD\npair-31 GOOD\npair-32 GOOD\npair-33 GOOD\npair-34 GOOD\npair-35 GOOD\npair-36 GOOD\npair-38 GOOD\npair-4 GOOD\npair-40 GOOD\npair-41 GOOD\npair-42 GOOD\npair-43 GOOD\npair-44 GOOD\npair-45 GOOD\npair-46 GOOD\npair-47 GOOD\npair-49 GOOD\npair-5 GOOD\npair-50 PROBLEM\npair-51 GOOD\npair-52 GOOD\npair-53 GOOD\npair-6 GOOD\npair-60 GOOD\npair-60 PROBLEM\npair-63 GOOD\npair-65 GOOD\npair-66 GOOD\npair-69 GOOD\npair-7 GOOD\npair-70 GOOD\npair-72 GOOD\npair-77 GOOD\npair-8 GOOD\npair-80 GOOD\npair-87 GOOD\npair-88 GOOD\npair-89 GOOD\npair-9 GOOD\n"
    }
   ],
   "source": [
    "assignment_2 = '2is50-2019-2020-homework-assignment-2-'\n",
    "combined_readme = open('../data/combined_readme.md','w')\n",
    "\n",
    "for repo in repos:\n",
    "\n",
    "    if assignment_2 in repo.name:\n",
    "\n",
    "        pair_id = str(repo.name)[-(len(str(repo.name)) - len(assignment_2)):]  # indexing only the pair name of the repo string\n",
    "        file_name = 'ContentFile(path=\"README.md\")'  # using file name to avoid bugs\n",
    "\n",
    "        for content in repo.get_contents(\"\"):  # loop through all files in the repo at the root directory\n",
    "\n",
    "            if \".md\" in str(content) and str(content) == file_name: # proper naming of the README.md\n",
    "                print(pair_id, \"GOOD\")\n",
    "                combined_readme.write(\"\\n\" + \"# \" + pair_id + \" \" + str(content.name) + \" below\\n\")\n",
    "                combined_readme.write(content.decoded_content.decode().format())\n",
    "                \n",
    "            elif \".md\" in str(content) and str(content) != file_name:  # incorrect naming of the README.md\n",
    "                print(pair_id, \"PROBLEM\")\n",
    "                combined_readme.write(\"\\n\" + \"# \" + pair_id + \" INCORRECT NAME OF README.md \" + ' ---> ' + str(content.name) + ' below\\n')\n",
    "                combined_readme.write(content.decoded_content.decode().format())\n",
    "\n",
    "            else:  # not markdown files\n",
    "                pass\n",
    "\n",
    "\n",
    "    else:  # Not assignment 2\n",
    "        pass\n",
    "\n",
    "combined_readme.close()"
   ]
  }
 ],
 "metadata": {
  "language_info": {
   "codemirror_mode": {
    "name": "ipython",
    "version": 3
   },
   "file_extension": ".py",
   "mimetype": "text/x-python",
   "name": "python",
   "nbconvert_exporter": "python",
   "pygments_lexer": "ipython3",
   "version": "3.6.9-final"
  },
  "orig_nbformat": 2,
  "kernelspec": {
   "name": "python36964bitvenvvirtualenv2244c714fd104143a129bafb94bdadf5",
   "display_name": "Python 3.6.9 64-bit ('venv': virtualenv)"
  }
 },
 "nbformat": 4,
 "nbformat_minor": 2
}